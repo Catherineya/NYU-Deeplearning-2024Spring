{
  "nbformat": 4,
  "nbformat_minor": 0,
  "metadata": {
    "kernelspec": {
      "display_name": "Python 3",
      "name": "python3"
    },
    "language_info": {
      "codemirror_mode": {
        "name": "ipython",
        "version": 3
      },
      "file_extension": ".py",
      "mimetype": "text/x-python",
      "name": "python",
      "nbconvert_exporter": "python",
      "pygments_lexer": "ipython3",
      "version": "3.8.3"
    },
    "colab": {
      "provenance": [],
      "gpuType": "T4"
    },
    "accelerator": "GPU",
    "widgets": {
      "application/vnd.jupyter.widget-state+json": {
        "a802953e533d40ec8caca02d5e693650": {
          "model_module": "@jupyter-widgets/controls",
          "model_name": "HBoxModel",
          "model_module_version": "1.5.0",
          "state": {
            "_dom_classes": [],
            "_model_module": "@jupyter-widgets/controls",
            "_model_module_version": "1.5.0",
            "_model_name": "HBoxModel",
            "_view_count": null,
            "_view_module": "@jupyter-widgets/controls",
            "_view_module_version": "1.5.0",
            "_view_name": "HBoxView",
            "box_style": "",
            "children": [
              "IPY_MODEL_82262d75cac14992ada832064b88101e",
              "IPY_MODEL_5c1ced0f9d8842d8a6f025a1f1a62b57",
              "IPY_MODEL_a1998dfdfab04a6aade8c08b0415607c"
            ],
            "layout": "IPY_MODEL_064778c76b264ecda0cb353d76f9a623"
          }
        },
        "82262d75cac14992ada832064b88101e": {
          "model_module": "@jupyter-widgets/controls",
          "model_name": "HTMLModel",
          "model_module_version": "1.5.0",
          "state": {
            "_dom_classes": [],
            "_model_module": "@jupyter-widgets/controls",
            "_model_module_version": "1.5.0",
            "_model_name": "HTMLModel",
            "_view_count": null,
            "_view_module": "@jupyter-widgets/controls",
            "_view_module_version": "1.5.0",
            "_view_name": "HTMLView",
            "description": "",
            "description_tooltip": null,
            "layout": "IPY_MODEL_8711382c607843ebb02314b5dae64c0e",
            "placeholder": "​",
            "style": "IPY_MODEL_fe0672e6f933453aa861174d5ad088eb",
            "value": "100%"
          }
        },
        "5c1ced0f9d8842d8a6f025a1f1a62b57": {
          "model_module": "@jupyter-widgets/controls",
          "model_name": "FloatProgressModel",
          "model_module_version": "1.5.0",
          "state": {
            "_dom_classes": [],
            "_model_module": "@jupyter-widgets/controls",
            "_model_module_version": "1.5.0",
            "_model_name": "FloatProgressModel",
            "_view_count": null,
            "_view_module": "@jupyter-widgets/controls",
            "_view_module_version": "1.5.0",
            "_view_name": "ProgressView",
            "bar_style": "success",
            "description": "",
            "description_tooltip": null,
            "layout": "IPY_MODEL_38e281c1a5e74285a18e9237c6f608a8",
            "max": 63,
            "min": 0,
            "orientation": "horizontal",
            "style": "IPY_MODEL_ca2ccaf34c094abebe0b8f54b4e6361a",
            "value": 63
          }
        },
        "a1998dfdfab04a6aade8c08b0415607c": {
          "model_module": "@jupyter-widgets/controls",
          "model_name": "HTMLModel",
          "model_module_version": "1.5.0",
          "state": {
            "_dom_classes": [],
            "_model_module": "@jupyter-widgets/controls",
            "_model_module_version": "1.5.0",
            "_model_name": "HTMLModel",
            "_view_count": null,
            "_view_module": "@jupyter-widgets/controls",
            "_view_module_version": "1.5.0",
            "_view_name": "HTMLView",
            "description": "",
            "description_tooltip": null,
            "layout": "IPY_MODEL_1b342331e383492aab8b4af24edbdfb1",
            "placeholder": "​",
            "style": "IPY_MODEL_681e99369f2d40fe9cb0784e3111b59f",
            "value": " 63/63 [00:03&lt;00:00, 40.43it/s, acc=0.875, epoch=0, loss=0.434]"
          }
        },
        "064778c76b264ecda0cb353d76f9a623": {
          "model_module": "@jupyter-widgets/base",
          "model_name": "LayoutModel",
          "model_module_version": "1.2.0",
          "state": {
            "_model_module": "@jupyter-widgets/base",
            "_model_module_version": "1.2.0",
            "_model_name": "LayoutModel",
            "_view_count": null,
            "_view_module": "@jupyter-widgets/base",
            "_view_module_version": "1.2.0",
            "_view_name": "LayoutView",
            "align_content": null,
            "align_items": null,
            "align_self": null,
            "border": null,
            "bottom": null,
            "display": null,
            "flex": null,
            "flex_flow": null,
            "grid_area": null,
            "grid_auto_columns": null,
            "grid_auto_flow": null,
            "grid_auto_rows": null,
            "grid_column": null,
            "grid_gap": null,
            "grid_row": null,
            "grid_template_areas": null,
            "grid_template_columns": null,
            "grid_template_rows": null,
            "height": null,
            "justify_content": null,
            "justify_items": null,
            "left": null,
            "margin": null,
            "max_height": null,
            "max_width": null,
            "min_height": null,
            "min_width": null,
            "object_fit": null,
            "object_position": null,
            "order": null,
            "overflow": null,
            "overflow_x": null,
            "overflow_y": null,
            "padding": null,
            "right": null,
            "top": null,
            "visibility": null,
            "width": null
          }
        },
        "8711382c607843ebb02314b5dae64c0e": {
          "model_module": "@jupyter-widgets/base",
          "model_name": "LayoutModel",
          "model_module_version": "1.2.0",
          "state": {
            "_model_module": "@jupyter-widgets/base",
            "_model_module_version": "1.2.0",
            "_model_name": "LayoutModel",
            "_view_count": null,
            "_view_module": "@jupyter-widgets/base",
            "_view_module_version": "1.2.0",
            "_view_name": "LayoutView",
            "align_content": null,
            "align_items": null,
            "align_self": null,
            "border": null,
            "bottom": null,
            "display": null,
            "flex": null,
            "flex_flow": null,
            "grid_area": null,
            "grid_auto_columns": null,
            "grid_auto_flow": null,
            "grid_auto_rows": null,
            "grid_column": null,
            "grid_gap": null,
            "grid_row": null,
            "grid_template_areas": null,
            "grid_template_columns": null,
            "grid_template_rows": null,
            "height": null,
            "justify_content": null,
            "justify_items": null,
            "left": null,
            "margin": null,
            "max_height": null,
            "max_width": null,
            "min_height": null,
            "min_width": null,
            "object_fit": null,
            "object_position": null,
            "order": null,
            "overflow": null,
            "overflow_x": null,
            "overflow_y": null,
            "padding": null,
            "right": null,
            "top": null,
            "visibility": null,
            "width": null
          }
        },
        "fe0672e6f933453aa861174d5ad088eb": {
          "model_module": "@jupyter-widgets/controls",
          "model_name": "DescriptionStyleModel",
          "model_module_version": "1.5.0",
          "state": {
            "_model_module": "@jupyter-widgets/controls",
            "_model_module_version": "1.5.0",
            "_model_name": "DescriptionStyleModel",
            "_view_count": null,
            "_view_module": "@jupyter-widgets/base",
            "_view_module_version": "1.2.0",
            "_view_name": "StyleView",
            "description_width": ""
          }
        },
        "38e281c1a5e74285a18e9237c6f608a8": {
          "model_module": "@jupyter-widgets/base",
          "model_name": "LayoutModel",
          "model_module_version": "1.2.0",
          "state": {
            "_model_module": "@jupyter-widgets/base",
            "_model_module_version": "1.2.0",
            "_model_name": "LayoutModel",
            "_view_count": null,
            "_view_module": "@jupyter-widgets/base",
            "_view_module_version": "1.2.0",
            "_view_name": "LayoutView",
            "align_content": null,
            "align_items": null,
            "align_self": null,
            "border": null,
            "bottom": null,
            "display": null,
            "flex": null,
            "flex_flow": null,
            "grid_area": null,
            "grid_auto_columns": null,
            "grid_auto_flow": null,
            "grid_auto_rows": null,
            "grid_column": null,
            "grid_gap": null,
            "grid_row": null,
            "grid_template_areas": null,
            "grid_template_columns": null,
            "grid_template_rows": null,
            "height": null,
            "justify_content": null,
            "justify_items": null,
            "left": null,
            "margin": null,
            "max_height": null,
            "max_width": null,
            "min_height": null,
            "min_width": null,
            "object_fit": null,
            "object_position": null,
            "order": null,
            "overflow": null,
            "overflow_x": null,
            "overflow_y": null,
            "padding": null,
            "right": null,
            "top": null,
            "visibility": null,
            "width": null
          }
        },
        "ca2ccaf34c094abebe0b8f54b4e6361a": {
          "model_module": "@jupyter-widgets/controls",
          "model_name": "ProgressStyleModel",
          "model_module_version": "1.5.0",
          "state": {
            "_model_module": "@jupyter-widgets/controls",
            "_model_module_version": "1.5.0",
            "_model_name": "ProgressStyleModel",
            "_view_count": null,
            "_view_module": "@jupyter-widgets/base",
            "_view_module_version": "1.2.0",
            "_view_name": "StyleView",
            "bar_color": null,
            "description_width": ""
          }
        },
        "1b342331e383492aab8b4af24edbdfb1": {
          "model_module": "@jupyter-widgets/base",
          "model_name": "LayoutModel",
          "model_module_version": "1.2.0",
          "state": {
            "_model_module": "@jupyter-widgets/base",
            "_model_module_version": "1.2.0",
            "_model_name": "LayoutModel",
            "_view_count": null,
            "_view_module": "@jupyter-widgets/base",
            "_view_module_version": "1.2.0",
            "_view_name": "LayoutView",
            "align_content": null,
            "align_items": null,
            "align_self": null,
            "border": null,
            "bottom": null,
            "display": null,
            "flex": null,
            "flex_flow": null,
            "grid_area": null,
            "grid_auto_columns": null,
            "grid_auto_flow": null,
            "grid_auto_rows": null,
            "grid_column": null,
            "grid_gap": null,
            "grid_row": null,
            "grid_template_areas": null,
            "grid_template_columns": null,
            "grid_template_rows": null,
            "height": null,
            "justify_content": null,
            "justify_items": null,
            "left": null,
            "margin": null,
            "max_height": null,
            "max_width": null,
            "min_height": null,
            "min_width": null,
            "object_fit": null,
            "object_position": null,
            "order": null,
            "overflow": null,
            "overflow_x": null,
            "overflow_y": null,
            "padding": null,
            "right": null,
            "top": null,
            "visibility": null,
            "width": null
          }
        },
        "681e99369f2d40fe9cb0784e3111b59f": {
          "model_module": "@jupyter-widgets/controls",
          "model_name": "DescriptionStyleModel",
          "model_module_version": "1.5.0",
          "state": {
            "_model_module": "@jupyter-widgets/controls",
            "_model_module_version": "1.5.0",
            "_model_name": "DescriptionStyleModel",
            "_view_count": null,
            "_view_module": "@jupyter-widgets/base",
            "_view_module_version": "1.2.0",
            "_view_name": "StyleView",
            "description_width": ""
          }
        },
        "de48324560eb49e3bfa73148ca0e9a98": {
          "model_module": "@jupyter-widgets/controls",
          "model_name": "HBoxModel",
          "model_module_version": "1.5.0",
          "state": {
            "_dom_classes": [],
            "_model_module": "@jupyter-widgets/controls",
            "_model_module_version": "1.5.0",
            "_model_name": "HBoxModel",
            "_view_count": null,
            "_view_module": "@jupyter-widgets/controls",
            "_view_module_version": "1.5.0",
            "_view_name": "HBoxView",
            "box_style": "",
            "children": [
              "IPY_MODEL_f25dbd5062954aac819a776f0863b4ce",
              "IPY_MODEL_e5bae15b5927490abd04e4aa59920f51",
              "IPY_MODEL_cce748d8dac64b01a66698a6f34c3a65"
            ],
            "layout": "IPY_MODEL_c9f96447b86a4f0d8f1e72d61961d833"
          }
        },
        "f25dbd5062954aac819a776f0863b4ce": {
          "model_module": "@jupyter-widgets/controls",
          "model_name": "HTMLModel",
          "model_module_version": "1.5.0",
          "state": {
            "_dom_classes": [],
            "_model_module": "@jupyter-widgets/controls",
            "_model_module_version": "1.5.0",
            "_model_name": "HTMLModel",
            "_view_count": null,
            "_view_module": "@jupyter-widgets/controls",
            "_view_module_version": "1.5.0",
            "_view_name": "HTMLView",
            "description": "",
            "description_tooltip": null,
            "layout": "IPY_MODEL_12e93b1bee3348c1b3df0893243b1c9b",
            "placeholder": "​",
            "style": "IPY_MODEL_b835f7a6c130472cae9410b1de4939fe",
            "value": "100%"
          }
        },
        "e5bae15b5927490abd04e4aa59920f51": {
          "model_module": "@jupyter-widgets/controls",
          "model_name": "FloatProgressModel",
          "model_module_version": "1.5.0",
          "state": {
            "_dom_classes": [],
            "_model_module": "@jupyter-widgets/controls",
            "_model_module_version": "1.5.0",
            "_model_name": "FloatProgressModel",
            "_view_count": null,
            "_view_module": "@jupyter-widgets/controls",
            "_view_module_version": "1.5.0",
            "_view_name": "ProgressView",
            "bar_style": "success",
            "description": "",
            "description_tooltip": null,
            "layout": "IPY_MODEL_3d9825ae71fb4afda0181a19fb2dbcd7",
            "max": 63,
            "min": 0,
            "orientation": "horizontal",
            "style": "IPY_MODEL_e064fac5b40f457fa50125676b8cb15f",
            "value": 63
          }
        },
        "cce748d8dac64b01a66698a6f34c3a65": {
          "model_module": "@jupyter-widgets/controls",
          "model_name": "HTMLModel",
          "model_module_version": "1.5.0",
          "state": {
            "_dom_classes": [],
            "_model_module": "@jupyter-widgets/controls",
            "_model_module_version": "1.5.0",
            "_model_name": "HTMLModel",
            "_view_count": null,
            "_view_module": "@jupyter-widgets/controls",
            "_view_module_version": "1.5.0",
            "_view_name": "HTMLView",
            "description": "",
            "description_tooltip": null,
            "layout": "IPY_MODEL_1418ba6b48584bf89f032a6fafdbce94",
            "placeholder": "​",
            "style": "IPY_MODEL_83e7b059cca249b3aba39b71f45753cc",
            "value": " 63/63 [00:01&lt;00:00, 35.20it/s, acc=0.875, epoch=1, loss=0.292]"
          }
        },
        "c9f96447b86a4f0d8f1e72d61961d833": {
          "model_module": "@jupyter-widgets/base",
          "model_name": "LayoutModel",
          "model_module_version": "1.2.0",
          "state": {
            "_model_module": "@jupyter-widgets/base",
            "_model_module_version": "1.2.0",
            "_model_name": "LayoutModel",
            "_view_count": null,
            "_view_module": "@jupyter-widgets/base",
            "_view_module_version": "1.2.0",
            "_view_name": "LayoutView",
            "align_content": null,
            "align_items": null,
            "align_self": null,
            "border": null,
            "bottom": null,
            "display": null,
            "flex": null,
            "flex_flow": null,
            "grid_area": null,
            "grid_auto_columns": null,
            "grid_auto_flow": null,
            "grid_auto_rows": null,
            "grid_column": null,
            "grid_gap": null,
            "grid_row": null,
            "grid_template_areas": null,
            "grid_template_columns": null,
            "grid_template_rows": null,
            "height": null,
            "justify_content": null,
            "justify_items": null,
            "left": null,
            "margin": null,
            "max_height": null,
            "max_width": null,
            "min_height": null,
            "min_width": null,
            "object_fit": null,
            "object_position": null,
            "order": null,
            "overflow": null,
            "overflow_x": null,
            "overflow_y": null,
            "padding": null,
            "right": null,
            "top": null,
            "visibility": null,
            "width": null
          }
        },
        "12e93b1bee3348c1b3df0893243b1c9b": {
          "model_module": "@jupyter-widgets/base",
          "model_name": "LayoutModel",
          "model_module_version": "1.2.0",
          "state": {
            "_model_module": "@jupyter-widgets/base",
            "_model_module_version": "1.2.0",
            "_model_name": "LayoutModel",
            "_view_count": null,
            "_view_module": "@jupyter-widgets/base",
            "_view_module_version": "1.2.0",
            "_view_name": "LayoutView",
            "align_content": null,
            "align_items": null,
            "align_self": null,
            "border": null,
            "bottom": null,
            "display": null,
            "flex": null,
            "flex_flow": null,
            "grid_area": null,
            "grid_auto_columns": null,
            "grid_auto_flow": null,
            "grid_auto_rows": null,
            "grid_column": null,
            "grid_gap": null,
            "grid_row": null,
            "grid_template_areas": null,
            "grid_template_columns": null,
            "grid_template_rows": null,
            "height": null,
            "justify_content": null,
            "justify_items": null,
            "left": null,
            "margin": null,
            "max_height": null,
            "max_width": null,
            "min_height": null,
            "min_width": null,
            "object_fit": null,
            "object_position": null,
            "order": null,
            "overflow": null,
            "overflow_x": null,
            "overflow_y": null,
            "padding": null,
            "right": null,
            "top": null,
            "visibility": null,
            "width": null
          }
        },
        "b835f7a6c130472cae9410b1de4939fe": {
          "model_module": "@jupyter-widgets/controls",
          "model_name": "DescriptionStyleModel",
          "model_module_version": "1.5.0",
          "state": {
            "_model_module": "@jupyter-widgets/controls",
            "_model_module_version": "1.5.0",
            "_model_name": "DescriptionStyleModel",
            "_view_count": null,
            "_view_module": "@jupyter-widgets/base",
            "_view_module_version": "1.2.0",
            "_view_name": "StyleView",
            "description_width": ""
          }
        },
        "3d9825ae71fb4afda0181a19fb2dbcd7": {
          "model_module": "@jupyter-widgets/base",
          "model_name": "LayoutModel",
          "model_module_version": "1.2.0",
          "state": {
            "_model_module": "@jupyter-widgets/base",
            "_model_module_version": "1.2.0",
            "_model_name": "LayoutModel",
            "_view_count": null,
            "_view_module": "@jupyter-widgets/base",
            "_view_module_version": "1.2.0",
            "_view_name": "LayoutView",
            "align_content": null,
            "align_items": null,
            "align_self": null,
            "border": null,
            "bottom": null,
            "display": null,
            "flex": null,
            "flex_flow": null,
            "grid_area": null,
            "grid_auto_columns": null,
            "grid_auto_flow": null,
            "grid_auto_rows": null,
            "grid_column": null,
            "grid_gap": null,
            "grid_row": null,
            "grid_template_areas": null,
            "grid_template_columns": null,
            "grid_template_rows": null,
            "height": null,
            "justify_content": null,
            "justify_items": null,
            "left": null,
            "margin": null,
            "max_height": null,
            "max_width": null,
            "min_height": null,
            "min_width": null,
            "object_fit": null,
            "object_position": null,
            "order": null,
            "overflow": null,
            "overflow_x": null,
            "overflow_y": null,
            "padding": null,
            "right": null,
            "top": null,
            "visibility": null,
            "width": null
          }
        },
        "e064fac5b40f457fa50125676b8cb15f": {
          "model_module": "@jupyter-widgets/controls",
          "model_name": "ProgressStyleModel",
          "model_module_version": "1.5.0",
          "state": {
            "_model_module": "@jupyter-widgets/controls",
            "_model_module_version": "1.5.0",
            "_model_name": "ProgressStyleModel",
            "_view_count": null,
            "_view_module": "@jupyter-widgets/base",
            "_view_module_version": "1.2.0",
            "_view_name": "StyleView",
            "bar_color": null,
            "description_width": ""
          }
        },
        "1418ba6b48584bf89f032a6fafdbce94": {
          "model_module": "@jupyter-widgets/base",
          "model_name": "LayoutModel",
          "model_module_version": "1.2.0",
          "state": {
            "_model_module": "@jupyter-widgets/base",
            "_model_module_version": "1.2.0",
            "_model_name": "LayoutModel",
            "_view_count": null,
            "_view_module": "@jupyter-widgets/base",
            "_view_module_version": "1.2.0",
            "_view_name": "LayoutView",
            "align_content": null,
            "align_items": null,
            "align_self": null,
            "border": null,
            "bottom": null,
            "display": null,
            "flex": null,
            "flex_flow": null,
            "grid_area": null,
            "grid_auto_columns": null,
            "grid_auto_flow": null,
            "grid_auto_rows": null,
            "grid_column": null,
            "grid_gap": null,
            "grid_row": null,
            "grid_template_areas": null,
            "grid_template_columns": null,
            "grid_template_rows": null,
            "height": null,
            "justify_content": null,
            "justify_items": null,
            "left": null,
            "margin": null,
            "max_height": null,
            "max_width": null,
            "min_height": null,
            "min_width": null,
            "object_fit": null,
            "object_position": null,
            "order": null,
            "overflow": null,
            "overflow_x": null,
            "overflow_y": null,
            "padding": null,
            "right": null,
            "top": null,
            "visibility": null,
            "width": null
          }
        },
        "83e7b059cca249b3aba39b71f45753cc": {
          "model_module": "@jupyter-widgets/controls",
          "model_name": "DescriptionStyleModel",
          "model_module_version": "1.5.0",
          "state": {
            "_model_module": "@jupyter-widgets/controls",
            "_model_module_version": "1.5.0",
            "_model_name": "DescriptionStyleModel",
            "_view_count": null,
            "_view_module": "@jupyter-widgets/base",
            "_view_module_version": "1.2.0",
            "_view_name": "StyleView",
            "description_width": ""
          }
        },
        "4bbbf7d116434b1d9238a6901377f311": {
          "model_module": "@jupyter-widgets/controls",
          "model_name": "HBoxModel",
          "model_module_version": "1.5.0",
          "state": {
            "_dom_classes": [],
            "_model_module": "@jupyter-widgets/controls",
            "_model_module_version": "1.5.0",
            "_model_name": "HBoxModel",
            "_view_count": null,
            "_view_module": "@jupyter-widgets/controls",
            "_view_module_version": "1.5.0",
            "_view_name": "HBoxView",
            "box_style": "",
            "children": [
              "IPY_MODEL_182901eba98c47faa63cd9b7f8646f49",
              "IPY_MODEL_cdca5f9b315f4fafa2c5a12d219b8010",
              "IPY_MODEL_17e0b769a07e42daae35ef1bf58b0e78"
            ],
            "layout": "IPY_MODEL_4c2075e554d94c188affdd46e8ba4a25"
          }
        },
        "182901eba98c47faa63cd9b7f8646f49": {
          "model_module": "@jupyter-widgets/controls",
          "model_name": "HTMLModel",
          "model_module_version": "1.5.0",
          "state": {
            "_dom_classes": [],
            "_model_module": "@jupyter-widgets/controls",
            "_model_module_version": "1.5.0",
            "_model_name": "HTMLModel",
            "_view_count": null,
            "_view_module": "@jupyter-widgets/controls",
            "_view_module_version": "1.5.0",
            "_view_name": "HTMLView",
            "description": "",
            "description_tooltip": null,
            "layout": "IPY_MODEL_f9120cd74fd248158f0c8b87bb0bcf33",
            "placeholder": "​",
            "style": "IPY_MODEL_c6cdd6af011e49c0b7b512f9602148b6",
            "value": "100%"
          }
        },
        "cdca5f9b315f4fafa2c5a12d219b8010": {
          "model_module": "@jupyter-widgets/controls",
          "model_name": "FloatProgressModel",
          "model_module_version": "1.5.0",
          "state": {
            "_dom_classes": [],
            "_model_module": "@jupyter-widgets/controls",
            "_model_module_version": "1.5.0",
            "_model_name": "FloatProgressModel",
            "_view_count": null,
            "_view_module": "@jupyter-widgets/controls",
            "_view_module_version": "1.5.0",
            "_view_name": "ProgressView",
            "bar_style": "success",
            "description": "",
            "description_tooltip": null,
            "layout": "IPY_MODEL_3d5a9ff64d7e42999ae711b3fb24e5ea",
            "max": 63,
            "min": 0,
            "orientation": "horizontal",
            "style": "IPY_MODEL_c5c46b41bc3043bfa21711db88854596",
            "value": 63
          }
        },
        "17e0b769a07e42daae35ef1bf58b0e78": {
          "model_module": "@jupyter-widgets/controls",
          "model_name": "HTMLModel",
          "model_module_version": "1.5.0",
          "state": {
            "_dom_classes": [],
            "_model_module": "@jupyter-widgets/controls",
            "_model_module_version": "1.5.0",
            "_model_name": "HTMLModel",
            "_view_count": null,
            "_view_module": "@jupyter-widgets/controls",
            "_view_module_version": "1.5.0",
            "_view_name": "HTMLView",
            "description": "",
            "description_tooltip": null,
            "layout": "IPY_MODEL_73b62da4539743d2a4d62f19e5d70a7b",
            "placeholder": "​",
            "style": "IPY_MODEL_b524c40badbc4612b775133977a3e306",
            "value": " 63/63 [00:01&lt;00:00, 34.23it/s, acc=1, epoch=2, loss=0.0598]"
          }
        },
        "4c2075e554d94c188affdd46e8ba4a25": {
          "model_module": "@jupyter-widgets/base",
          "model_name": "LayoutModel",
          "model_module_version": "1.2.0",
          "state": {
            "_model_module": "@jupyter-widgets/base",
            "_model_module_version": "1.2.0",
            "_model_name": "LayoutModel",
            "_view_count": null,
            "_view_module": "@jupyter-widgets/base",
            "_view_module_version": "1.2.0",
            "_view_name": "LayoutView",
            "align_content": null,
            "align_items": null,
            "align_self": null,
            "border": null,
            "bottom": null,
            "display": null,
            "flex": null,
            "flex_flow": null,
            "grid_area": null,
            "grid_auto_columns": null,
            "grid_auto_flow": null,
            "grid_auto_rows": null,
            "grid_column": null,
            "grid_gap": null,
            "grid_row": null,
            "grid_template_areas": null,
            "grid_template_columns": null,
            "grid_template_rows": null,
            "height": null,
            "justify_content": null,
            "justify_items": null,
            "left": null,
            "margin": null,
            "max_height": null,
            "max_width": null,
            "min_height": null,
            "min_width": null,
            "object_fit": null,
            "object_position": null,
            "order": null,
            "overflow": null,
            "overflow_x": null,
            "overflow_y": null,
            "padding": null,
            "right": null,
            "top": null,
            "visibility": null,
            "width": null
          }
        },
        "f9120cd74fd248158f0c8b87bb0bcf33": {
          "model_module": "@jupyter-widgets/base",
          "model_name": "LayoutModel",
          "model_module_version": "1.2.0",
          "state": {
            "_model_module": "@jupyter-widgets/base",
            "_model_module_version": "1.2.0",
            "_model_name": "LayoutModel",
            "_view_count": null,
            "_view_module": "@jupyter-widgets/base",
            "_view_module_version": "1.2.0",
            "_view_name": "LayoutView",
            "align_content": null,
            "align_items": null,
            "align_self": null,
            "border": null,
            "bottom": null,
            "display": null,
            "flex": null,
            "flex_flow": null,
            "grid_area": null,
            "grid_auto_columns": null,
            "grid_auto_flow": null,
            "grid_auto_rows": null,
            "grid_column": null,
            "grid_gap": null,
            "grid_row": null,
            "grid_template_areas": null,
            "grid_template_columns": null,
            "grid_template_rows": null,
            "height": null,
            "justify_content": null,
            "justify_items": null,
            "left": null,
            "margin": null,
            "max_height": null,
            "max_width": null,
            "min_height": null,
            "min_width": null,
            "object_fit": null,
            "object_position": null,
            "order": null,
            "overflow": null,
            "overflow_x": null,
            "overflow_y": null,
            "padding": null,
            "right": null,
            "top": null,
            "visibility": null,
            "width": null
          }
        },
        "c6cdd6af011e49c0b7b512f9602148b6": {
          "model_module": "@jupyter-widgets/controls",
          "model_name": "DescriptionStyleModel",
          "model_module_version": "1.5.0",
          "state": {
            "_model_module": "@jupyter-widgets/controls",
            "_model_module_version": "1.5.0",
            "_model_name": "DescriptionStyleModel",
            "_view_count": null,
            "_view_module": "@jupyter-widgets/base",
            "_view_module_version": "1.2.0",
            "_view_name": "StyleView",
            "description_width": ""
          }
        },
        "3d5a9ff64d7e42999ae711b3fb24e5ea": {
          "model_module": "@jupyter-widgets/base",
          "model_name": "LayoutModel",
          "model_module_version": "1.2.0",
          "state": {
            "_model_module": "@jupyter-widgets/base",
            "_model_module_version": "1.2.0",
            "_model_name": "LayoutModel",
            "_view_count": null,
            "_view_module": "@jupyter-widgets/base",
            "_view_module_version": "1.2.0",
            "_view_name": "LayoutView",
            "align_content": null,
            "align_items": null,
            "align_self": null,
            "border": null,
            "bottom": null,
            "display": null,
            "flex": null,
            "flex_flow": null,
            "grid_area": null,
            "grid_auto_columns": null,
            "grid_auto_flow": null,
            "grid_auto_rows": null,
            "grid_column": null,
            "grid_gap": null,
            "grid_row": null,
            "grid_template_areas": null,
            "grid_template_columns": null,
            "grid_template_rows": null,
            "height": null,
            "justify_content": null,
            "justify_items": null,
            "left": null,
            "margin": null,
            "max_height": null,
            "max_width": null,
            "min_height": null,
            "min_width": null,
            "object_fit": null,
            "object_position": null,
            "order": null,
            "overflow": null,
            "overflow_x": null,
            "overflow_y": null,
            "padding": null,
            "right": null,
            "top": null,
            "visibility": null,
            "width": null
          }
        },
        "c5c46b41bc3043bfa21711db88854596": {
          "model_module": "@jupyter-widgets/controls",
          "model_name": "ProgressStyleModel",
          "model_module_version": "1.5.0",
          "state": {
            "_model_module": "@jupyter-widgets/controls",
            "_model_module_version": "1.5.0",
            "_model_name": "ProgressStyleModel",
            "_view_count": null,
            "_view_module": "@jupyter-widgets/base",
            "_view_module_version": "1.2.0",
            "_view_name": "StyleView",
            "bar_color": null,
            "description_width": ""
          }
        },
        "73b62da4539743d2a4d62f19e5d70a7b": {
          "model_module": "@jupyter-widgets/base",
          "model_name": "LayoutModel",
          "model_module_version": "1.2.0",
          "state": {
            "_model_module": "@jupyter-widgets/base",
            "_model_module_version": "1.2.0",
            "_model_name": "LayoutModel",
            "_view_count": null,
            "_view_module": "@jupyter-widgets/base",
            "_view_module_version": "1.2.0",
            "_view_name": "LayoutView",
            "align_content": null,
            "align_items": null,
            "align_self": null,
            "border": null,
            "bottom": null,
            "display": null,
            "flex": null,
            "flex_flow": null,
            "grid_area": null,
            "grid_auto_columns": null,
            "grid_auto_flow": null,
            "grid_auto_rows": null,
            "grid_column": null,
            "grid_gap": null,
            "grid_row": null,
            "grid_template_areas": null,
            "grid_template_columns": null,
            "grid_template_rows": null,
            "height": null,
            "justify_content": null,
            "justify_items": null,
            "left": null,
            "margin": null,
            "max_height": null,
            "max_width": null,
            "min_height": null,
            "min_width": null,
            "object_fit": null,
            "object_position": null,
            "order": null,
            "overflow": null,
            "overflow_x": null,
            "overflow_y": null,
            "padding": null,
            "right": null,
            "top": null,
            "visibility": null,
            "width": null
          }
        },
        "b524c40badbc4612b775133977a3e306": {
          "model_module": "@jupyter-widgets/controls",
          "model_name": "DescriptionStyleModel",
          "model_module_version": "1.5.0",
          "state": {
            "_model_module": "@jupyter-widgets/controls",
            "_model_module_version": "1.5.0",
            "_model_name": "DescriptionStyleModel",
            "_view_count": null,
            "_view_module": "@jupyter-widgets/base",
            "_view_module_version": "1.2.0",
            "_view_name": "StyleView",
            "description_width": ""
          }
        },
        "3916507a4b6448169bdf6a5c5351fc87": {
          "model_module": "@jupyter-widgets/controls",
          "model_name": "HBoxModel",
          "model_module_version": "1.5.0",
          "state": {
            "_dom_classes": [],
            "_model_module": "@jupyter-widgets/controls",
            "_model_module_version": "1.5.0",
            "_model_name": "HBoxModel",
            "_view_count": null,
            "_view_module": "@jupyter-widgets/controls",
            "_view_module_version": "1.5.0",
            "_view_name": "HBoxView",
            "box_style": "",
            "children": [
              "IPY_MODEL_ffa3fd2f89514bc4baac9df7beee0f58",
              "IPY_MODEL_44833fae21624a11ae38800329b2046b",
              "IPY_MODEL_2e40d7e13fd2412a9f7600a0be94a9b4"
            ],
            "layout": "IPY_MODEL_8dbb28bb04df4f42bca34a106fbcd7e7"
          }
        },
        "ffa3fd2f89514bc4baac9df7beee0f58": {
          "model_module": "@jupyter-widgets/controls",
          "model_name": "HTMLModel",
          "model_module_version": "1.5.0",
          "state": {
            "_dom_classes": [],
            "_model_module": "@jupyter-widgets/controls",
            "_model_module_version": "1.5.0",
            "_model_name": "HTMLModel",
            "_view_count": null,
            "_view_module": "@jupyter-widgets/controls",
            "_view_module_version": "1.5.0",
            "_view_name": "HTMLView",
            "description": "",
            "description_tooltip": null,
            "layout": "IPY_MODEL_f459620dfbcc431891595fde2b5ba97b",
            "placeholder": "​",
            "style": "IPY_MODEL_7aef2efc26b9473e95a7631a258be020",
            "value": "100%"
          }
        },
        "44833fae21624a11ae38800329b2046b": {
          "model_module": "@jupyter-widgets/controls",
          "model_name": "FloatProgressModel",
          "model_module_version": "1.5.0",
          "state": {
            "_dom_classes": [],
            "_model_module": "@jupyter-widgets/controls",
            "_model_module_version": "1.5.0",
            "_model_name": "FloatProgressModel",
            "_view_count": null,
            "_view_module": "@jupyter-widgets/controls",
            "_view_module_version": "1.5.0",
            "_view_name": "ProgressView",
            "bar_style": "success",
            "description": "",
            "description_tooltip": null,
            "layout": "IPY_MODEL_dd59eeafed2e4d2fb1104a367015c7bb",
            "max": 63,
            "min": 0,
            "orientation": "horizontal",
            "style": "IPY_MODEL_1975c03723ba4099b3c88ce262dd122d",
            "value": 63
          }
        },
        "2e40d7e13fd2412a9f7600a0be94a9b4": {
          "model_module": "@jupyter-widgets/controls",
          "model_name": "HTMLModel",
          "model_module_version": "1.5.0",
          "state": {
            "_dom_classes": [],
            "_model_module": "@jupyter-widgets/controls",
            "_model_module_version": "1.5.0",
            "_model_name": "HTMLModel",
            "_view_count": null,
            "_view_module": "@jupyter-widgets/controls",
            "_view_module_version": "1.5.0",
            "_view_name": "HTMLView",
            "description": "",
            "description_tooltip": null,
            "layout": "IPY_MODEL_8db17a1086b34e12b334d072088ef1f6",
            "placeholder": "​",
            "style": "IPY_MODEL_83e38646bd1c423881b360f8b817c5c0",
            "value": " 63/63 [00:01&lt;00:00, 48.74it/s, acc=1, epoch=3, loss=0.0514]"
          }
        },
        "8dbb28bb04df4f42bca34a106fbcd7e7": {
          "model_module": "@jupyter-widgets/base",
          "model_name": "LayoutModel",
          "model_module_version": "1.2.0",
          "state": {
            "_model_module": "@jupyter-widgets/base",
            "_model_module_version": "1.2.0",
            "_model_name": "LayoutModel",
            "_view_count": null,
            "_view_module": "@jupyter-widgets/base",
            "_view_module_version": "1.2.0",
            "_view_name": "LayoutView",
            "align_content": null,
            "align_items": null,
            "align_self": null,
            "border": null,
            "bottom": null,
            "display": null,
            "flex": null,
            "flex_flow": null,
            "grid_area": null,
            "grid_auto_columns": null,
            "grid_auto_flow": null,
            "grid_auto_rows": null,
            "grid_column": null,
            "grid_gap": null,
            "grid_row": null,
            "grid_template_areas": null,
            "grid_template_columns": null,
            "grid_template_rows": null,
            "height": null,
            "justify_content": null,
            "justify_items": null,
            "left": null,
            "margin": null,
            "max_height": null,
            "max_width": null,
            "min_height": null,
            "min_width": null,
            "object_fit": null,
            "object_position": null,
            "order": null,
            "overflow": null,
            "overflow_x": null,
            "overflow_y": null,
            "padding": null,
            "right": null,
            "top": null,
            "visibility": null,
            "width": null
          }
        },
        "f459620dfbcc431891595fde2b5ba97b": {
          "model_module": "@jupyter-widgets/base",
          "model_name": "LayoutModel",
          "model_module_version": "1.2.0",
          "state": {
            "_model_module": "@jupyter-widgets/base",
            "_model_module_version": "1.2.0",
            "_model_name": "LayoutModel",
            "_view_count": null,
            "_view_module": "@jupyter-widgets/base",
            "_view_module_version": "1.2.0",
            "_view_name": "LayoutView",
            "align_content": null,
            "align_items": null,
            "align_self": null,
            "border": null,
            "bottom": null,
            "display": null,
            "flex": null,
            "flex_flow": null,
            "grid_area": null,
            "grid_auto_columns": null,
            "grid_auto_flow": null,
            "grid_auto_rows": null,
            "grid_column": null,
            "grid_gap": null,
            "grid_row": null,
            "grid_template_areas": null,
            "grid_template_columns": null,
            "grid_template_rows": null,
            "height": null,
            "justify_content": null,
            "justify_items": null,
            "left": null,
            "margin": null,
            "max_height": null,
            "max_width": null,
            "min_height": null,
            "min_width": null,
            "object_fit": null,
            "object_position": null,
            "order": null,
            "overflow": null,
            "overflow_x": null,
            "overflow_y": null,
            "padding": null,
            "right": null,
            "top": null,
            "visibility": null,
            "width": null
          }
        },
        "7aef2efc26b9473e95a7631a258be020": {
          "model_module": "@jupyter-widgets/controls",
          "model_name": "DescriptionStyleModel",
          "model_module_version": "1.5.0",
          "state": {
            "_model_module": "@jupyter-widgets/controls",
            "_model_module_version": "1.5.0",
            "_model_name": "DescriptionStyleModel",
            "_view_count": null,
            "_view_module": "@jupyter-widgets/base",
            "_view_module_version": "1.2.0",
            "_view_name": "StyleView",
            "description_width": ""
          }
        },
        "dd59eeafed2e4d2fb1104a367015c7bb": {
          "model_module": "@jupyter-widgets/base",
          "model_name": "LayoutModel",
          "model_module_version": "1.2.0",
          "state": {
            "_model_module": "@jupyter-widgets/base",
            "_model_module_version": "1.2.0",
            "_model_name": "LayoutModel",
            "_view_count": null,
            "_view_module": "@jupyter-widgets/base",
            "_view_module_version": "1.2.0",
            "_view_name": "LayoutView",
            "align_content": null,
            "align_items": null,
            "align_self": null,
            "border": null,
            "bottom": null,
            "display": null,
            "flex": null,
            "flex_flow": null,
            "grid_area": null,
            "grid_auto_columns": null,
            "grid_auto_flow": null,
            "grid_auto_rows": null,
            "grid_column": null,
            "grid_gap": null,
            "grid_row": null,
            "grid_template_areas": null,
            "grid_template_columns": null,
            "grid_template_rows": null,
            "height": null,
            "justify_content": null,
            "justify_items": null,
            "left": null,
            "margin": null,
            "max_height": null,
            "max_width": null,
            "min_height": null,
            "min_width": null,
            "object_fit": null,
            "object_position": null,
            "order": null,
            "overflow": null,
            "overflow_x": null,
            "overflow_y": null,
            "padding": null,
            "right": null,
            "top": null,
            "visibility": null,
            "width": null
          }
        },
        "1975c03723ba4099b3c88ce262dd122d": {
          "model_module": "@jupyter-widgets/controls",
          "model_name": "ProgressStyleModel",
          "model_module_version": "1.5.0",
          "state": {
            "_model_module": "@jupyter-widgets/controls",
            "_model_module_version": "1.5.0",
            "_model_name": "ProgressStyleModel",
            "_view_count": null,
            "_view_module": "@jupyter-widgets/base",
            "_view_module_version": "1.2.0",
            "_view_name": "StyleView",
            "bar_color": null,
            "description_width": ""
          }
        },
        "8db17a1086b34e12b334d072088ef1f6": {
          "model_module": "@jupyter-widgets/base",
          "model_name": "LayoutModel",
          "model_module_version": "1.2.0",
          "state": {
            "_model_module": "@jupyter-widgets/base",
            "_model_module_version": "1.2.0",
            "_model_name": "LayoutModel",
            "_view_count": null,
            "_view_module": "@jupyter-widgets/base",
            "_view_module_version": "1.2.0",
            "_view_name": "LayoutView",
            "align_content": null,
            "align_items": null,
            "align_self": null,
            "border": null,
            "bottom": null,
            "display": null,
            "flex": null,
            "flex_flow": null,
            "grid_area": null,
            "grid_auto_columns": null,
            "grid_auto_flow": null,
            "grid_auto_rows": null,
            "grid_column": null,
            "grid_gap": null,
            "grid_row": null,
            "grid_template_areas": null,
            "grid_template_columns": null,
            "grid_template_rows": null,
            "height": null,
            "justify_content": null,
            "justify_items": null,
            "left": null,
            "margin": null,
            "max_height": null,
            "max_width": null,
            "min_height": null,
            "min_width": null,
            "object_fit": null,
            "object_position": null,
            "order": null,
            "overflow": null,
            "overflow_x": null,
            "overflow_y": null,
            "padding": null,
            "right": null,
            "top": null,
            "visibility": null,
            "width": null
          }
        },
        "83e38646bd1c423881b360f8b817c5c0": {
          "model_module": "@jupyter-widgets/controls",
          "model_name": "DescriptionStyleModel",
          "model_module_version": "1.5.0",
          "state": {
            "_model_module": "@jupyter-widgets/controls",
            "_model_module_version": "1.5.0",
            "_model_name": "DescriptionStyleModel",
            "_view_count": null,
            "_view_module": "@jupyter-widgets/base",
            "_view_module_version": "1.2.0",
            "_view_name": "StyleView",
            "description_width": ""
          }
        },
        "0c6bde4c00694ad1b066ec42cff80c55": {
          "model_module": "@jupyter-widgets/controls",
          "model_name": "HBoxModel",
          "model_module_version": "1.5.0",
          "state": {
            "_dom_classes": [],
            "_model_module": "@jupyter-widgets/controls",
            "_model_module_version": "1.5.0",
            "_model_name": "HBoxModel",
            "_view_count": null,
            "_view_module": "@jupyter-widgets/controls",
            "_view_module_version": "1.5.0",
            "_view_name": "HBoxView",
            "box_style": "",
            "children": [
              "IPY_MODEL_64265e3a953b480590a2796c05aa25ba",
              "IPY_MODEL_98ec6abfacc94305be45934480b4be40",
              "IPY_MODEL_dfa4bd35724846f18be07cb634db497a"
            ],
            "layout": "IPY_MODEL_5d210fe3c9924549bac79befa2c6d6de"
          }
        },
        "64265e3a953b480590a2796c05aa25ba": {
          "model_module": "@jupyter-widgets/controls",
          "model_name": "HTMLModel",
          "model_module_version": "1.5.0",
          "state": {
            "_dom_classes": [],
            "_model_module": "@jupyter-widgets/controls",
            "_model_module_version": "1.5.0",
            "_model_name": "HTMLModel",
            "_view_count": null,
            "_view_module": "@jupyter-widgets/controls",
            "_view_module_version": "1.5.0",
            "_view_name": "HTMLView",
            "description": "",
            "description_tooltip": null,
            "layout": "IPY_MODEL_561e6a23be5f4862baef5dda8ccc70a5",
            "placeholder": "​",
            "style": "IPY_MODEL_d07d4ab174e748cfbd96b0420f59d5fc",
            "value": "100%"
          }
        },
        "98ec6abfacc94305be45934480b4be40": {
          "model_module": "@jupyter-widgets/controls",
          "model_name": "FloatProgressModel",
          "model_module_version": "1.5.0",
          "state": {
            "_dom_classes": [],
            "_model_module": "@jupyter-widgets/controls",
            "_model_module_version": "1.5.0",
            "_model_name": "FloatProgressModel",
            "_view_count": null,
            "_view_module": "@jupyter-widgets/controls",
            "_view_module_version": "1.5.0",
            "_view_name": "ProgressView",
            "bar_style": "success",
            "description": "",
            "description_tooltip": null,
            "layout": "IPY_MODEL_8bbc1409a7b147468c0acd12972afad1",
            "max": 63,
            "min": 0,
            "orientation": "horizontal",
            "style": "IPY_MODEL_c5e0b75ccba24d78999961e136f1020e",
            "value": 63
          }
        },
        "dfa4bd35724846f18be07cb634db497a": {
          "model_module": "@jupyter-widgets/controls",
          "model_name": "HTMLModel",
          "model_module_version": "1.5.0",
          "state": {
            "_dom_classes": [],
            "_model_module": "@jupyter-widgets/controls",
            "_model_module_version": "1.5.0",
            "_model_name": "HTMLModel",
            "_view_count": null,
            "_view_module": "@jupyter-widgets/controls",
            "_view_module_version": "1.5.0",
            "_view_name": "HTMLView",
            "description": "",
            "description_tooltip": null,
            "layout": "IPY_MODEL_542233f6aeab45d281946db7189a5341",
            "placeholder": "​",
            "style": "IPY_MODEL_62496698c0564f438baeda5608a38c20",
            "value": " 63/63 [00:01&lt;00:00, 50.22it/s, acc=0.875, epoch=4, loss=0.155]"
          }
        },
        "5d210fe3c9924549bac79befa2c6d6de": {
          "model_module": "@jupyter-widgets/base",
          "model_name": "LayoutModel",
          "model_module_version": "1.2.0",
          "state": {
            "_model_module": "@jupyter-widgets/base",
            "_model_module_version": "1.2.0",
            "_model_name": "LayoutModel",
            "_view_count": null,
            "_view_module": "@jupyter-widgets/base",
            "_view_module_version": "1.2.0",
            "_view_name": "LayoutView",
            "align_content": null,
            "align_items": null,
            "align_self": null,
            "border": null,
            "bottom": null,
            "display": null,
            "flex": null,
            "flex_flow": null,
            "grid_area": null,
            "grid_auto_columns": null,
            "grid_auto_flow": null,
            "grid_auto_rows": null,
            "grid_column": null,
            "grid_gap": null,
            "grid_row": null,
            "grid_template_areas": null,
            "grid_template_columns": null,
            "grid_template_rows": null,
            "height": null,
            "justify_content": null,
            "justify_items": null,
            "left": null,
            "margin": null,
            "max_height": null,
            "max_width": null,
            "min_height": null,
            "min_width": null,
            "object_fit": null,
            "object_position": null,
            "order": null,
            "overflow": null,
            "overflow_x": null,
            "overflow_y": null,
            "padding": null,
            "right": null,
            "top": null,
            "visibility": null,
            "width": null
          }
        },
        "561e6a23be5f4862baef5dda8ccc70a5": {
          "model_module": "@jupyter-widgets/base",
          "model_name": "LayoutModel",
          "model_module_version": "1.2.0",
          "state": {
            "_model_module": "@jupyter-widgets/base",
            "_model_module_version": "1.2.0",
            "_model_name": "LayoutModel",
            "_view_count": null,
            "_view_module": "@jupyter-widgets/base",
            "_view_module_version": "1.2.0",
            "_view_name": "LayoutView",
            "align_content": null,
            "align_items": null,
            "align_self": null,
            "border": null,
            "bottom": null,
            "display": null,
            "flex": null,
            "flex_flow": null,
            "grid_area": null,
            "grid_auto_columns": null,
            "grid_auto_flow": null,
            "grid_auto_rows": null,
            "grid_column": null,
            "grid_gap": null,
            "grid_row": null,
            "grid_template_areas": null,
            "grid_template_columns": null,
            "grid_template_rows": null,
            "height": null,
            "justify_content": null,
            "justify_items": null,
            "left": null,
            "margin": null,
            "max_height": null,
            "max_width": null,
            "min_height": null,
            "min_width": null,
            "object_fit": null,
            "object_position": null,
            "order": null,
            "overflow": null,
            "overflow_x": null,
            "overflow_y": null,
            "padding": null,
            "right": null,
            "top": null,
            "visibility": null,
            "width": null
          }
        },
        "d07d4ab174e748cfbd96b0420f59d5fc": {
          "model_module": "@jupyter-widgets/controls",
          "model_name": "DescriptionStyleModel",
          "model_module_version": "1.5.0",
          "state": {
            "_model_module": "@jupyter-widgets/controls",
            "_model_module_version": "1.5.0",
            "_model_name": "DescriptionStyleModel",
            "_view_count": null,
            "_view_module": "@jupyter-widgets/base",
            "_view_module_version": "1.2.0",
            "_view_name": "StyleView",
            "description_width": ""
          }
        },
        "8bbc1409a7b147468c0acd12972afad1": {
          "model_module": "@jupyter-widgets/base",
          "model_name": "LayoutModel",
          "model_module_version": "1.2.0",
          "state": {
            "_model_module": "@jupyter-widgets/base",
            "_model_module_version": "1.2.0",
            "_model_name": "LayoutModel",
            "_view_count": null,
            "_view_module": "@jupyter-widgets/base",
            "_view_module_version": "1.2.0",
            "_view_name": "LayoutView",
            "align_content": null,
            "align_items": null,
            "align_self": null,
            "border": null,
            "bottom": null,
            "display": null,
            "flex": null,
            "flex_flow": null,
            "grid_area": null,
            "grid_auto_columns": null,
            "grid_auto_flow": null,
            "grid_auto_rows": null,
            "grid_column": null,
            "grid_gap": null,
            "grid_row": null,
            "grid_template_areas": null,
            "grid_template_columns": null,
            "grid_template_rows": null,
            "height": null,
            "justify_content": null,
            "justify_items": null,
            "left": null,
            "margin": null,
            "max_height": null,
            "max_width": null,
            "min_height": null,
            "min_width": null,
            "object_fit": null,
            "object_position": null,
            "order": null,
            "overflow": null,
            "overflow_x": null,
            "overflow_y": null,
            "padding": null,
            "right": null,
            "top": null,
            "visibility": null,
            "width": null
          }
        },
        "c5e0b75ccba24d78999961e136f1020e": {
          "model_module": "@jupyter-widgets/controls",
          "model_name": "ProgressStyleModel",
          "model_module_version": "1.5.0",
          "state": {
            "_model_module": "@jupyter-widgets/controls",
            "_model_module_version": "1.5.0",
            "_model_name": "ProgressStyleModel",
            "_view_count": null,
            "_view_module": "@jupyter-widgets/base",
            "_view_module_version": "1.2.0",
            "_view_name": "StyleView",
            "bar_color": null,
            "description_width": ""
          }
        },
        "542233f6aeab45d281946db7189a5341": {
          "model_module": "@jupyter-widgets/base",
          "model_name": "LayoutModel",
          "model_module_version": "1.2.0",
          "state": {
            "_model_module": "@jupyter-widgets/base",
            "_model_module_version": "1.2.0",
            "_model_name": "LayoutModel",
            "_view_count": null,
            "_view_module": "@jupyter-widgets/base",
            "_view_module_version": "1.2.0",
            "_view_name": "LayoutView",
            "align_content": null,
            "align_items": null,
            "align_self": null,
            "border": null,
            "bottom": null,
            "display": null,
            "flex": null,
            "flex_flow": null,
            "grid_area": null,
            "grid_auto_columns": null,
            "grid_auto_flow": null,
            "grid_auto_rows": null,
            "grid_column": null,
            "grid_gap": null,
            "grid_row": null,
            "grid_template_areas": null,
            "grid_template_columns": null,
            "grid_template_rows": null,
            "height": null,
            "justify_content": null,
            "justify_items": null,
            "left": null,
            "margin": null,
            "max_height": null,
            "max_width": null,
            "min_height": null,
            "min_width": null,
            "object_fit": null,
            "object_position": null,
            "order": null,
            "overflow": null,
            "overflow_x": null,
            "overflow_y": null,
            "padding": null,
            "right": null,
            "top": null,
            "visibility": null,
            "width": null
          }
        },
        "62496698c0564f438baeda5608a38c20": {
          "model_module": "@jupyter-widgets/controls",
          "model_name": "DescriptionStyleModel",
          "model_module_version": "1.5.0",
          "state": {
            "_model_module": "@jupyter-widgets/controls",
            "_model_module_version": "1.5.0",
            "_model_name": "DescriptionStyleModel",
            "_view_count": null,
            "_view_module": "@jupyter-widgets/base",
            "_view_module_version": "1.2.0",
            "_view_name": "StyleView",
            "description_width": ""
          }
        },
        "6eff881b733f4702bb0d10920a39a16d": {
          "model_module": "@jupyter-widgets/controls",
          "model_name": "HBoxModel",
          "model_module_version": "1.5.0",
          "state": {
            "_dom_classes": [],
            "_model_module": "@jupyter-widgets/controls",
            "_model_module_version": "1.5.0",
            "_model_name": "HBoxModel",
            "_view_count": null,
            "_view_module": "@jupyter-widgets/controls",
            "_view_module_version": "1.5.0",
            "_view_name": "HBoxView",
            "box_style": "",
            "children": [
              "IPY_MODEL_17c2f8bde540435b8a6813c93dd3d82a",
              "IPY_MODEL_cb9834a3720643aa8ae8f6e0758d5797",
              "IPY_MODEL_32f3236aa05c43a8a04227578dbd81fc"
            ],
            "layout": "IPY_MODEL_022b498d38f34d979a06bd52c193b275"
          }
        },
        "17c2f8bde540435b8a6813c93dd3d82a": {
          "model_module": "@jupyter-widgets/controls",
          "model_name": "HTMLModel",
          "model_module_version": "1.5.0",
          "state": {
            "_dom_classes": [],
            "_model_module": "@jupyter-widgets/controls",
            "_model_module_version": "1.5.0",
            "_model_name": "HTMLModel",
            "_view_count": null,
            "_view_module": "@jupyter-widgets/controls",
            "_view_module_version": "1.5.0",
            "_view_name": "HTMLView",
            "description": "",
            "description_tooltip": null,
            "layout": "IPY_MODEL_e1d31759e9f84471843840be205ffae9",
            "placeholder": "​",
            "style": "IPY_MODEL_b95870916d284109a87d5bc6aac524b2",
            "value": "100%"
          }
        },
        "cb9834a3720643aa8ae8f6e0758d5797": {
          "model_module": "@jupyter-widgets/controls",
          "model_name": "FloatProgressModel",
          "model_module_version": "1.5.0",
          "state": {
            "_dom_classes": [],
            "_model_module": "@jupyter-widgets/controls",
            "_model_module_version": "1.5.0",
            "_model_name": "FloatProgressModel",
            "_view_count": null,
            "_view_module": "@jupyter-widgets/controls",
            "_view_module_version": "1.5.0",
            "_view_name": "ProgressView",
            "bar_style": "success",
            "description": "",
            "description_tooltip": null,
            "layout": "IPY_MODEL_fe5f719985f74880bf0e8e4c470c0935",
            "max": 63,
            "min": 0,
            "orientation": "horizontal",
            "style": "IPY_MODEL_cdab7238538a42139364ec3cc83a4234",
            "value": 63
          }
        },
        "32f3236aa05c43a8a04227578dbd81fc": {
          "model_module": "@jupyter-widgets/controls",
          "model_name": "HTMLModel",
          "model_module_version": "1.5.0",
          "state": {
            "_dom_classes": [],
            "_model_module": "@jupyter-widgets/controls",
            "_model_module_version": "1.5.0",
            "_model_name": "HTMLModel",
            "_view_count": null,
            "_view_module": "@jupyter-widgets/controls",
            "_view_module_version": "1.5.0",
            "_view_name": "HTMLView",
            "description": "",
            "description_tooltip": null,
            "layout": "IPY_MODEL_77b20a18704244988d8d86ae0675b29e",
            "placeholder": "​",
            "style": "IPY_MODEL_49c56b16d54d45f5b908c1208ba588d5",
            "value": " 63/63 [00:01&lt;00:00, 47.61it/s, acc=1, epoch=5, loss=0.0793]"
          }
        },
        "022b498d38f34d979a06bd52c193b275": {
          "model_module": "@jupyter-widgets/base",
          "model_name": "LayoutModel",
          "model_module_version": "1.2.0",
          "state": {
            "_model_module": "@jupyter-widgets/base",
            "_model_module_version": "1.2.0",
            "_model_name": "LayoutModel",
            "_view_count": null,
            "_view_module": "@jupyter-widgets/base",
            "_view_module_version": "1.2.0",
            "_view_name": "LayoutView",
            "align_content": null,
            "align_items": null,
            "align_self": null,
            "border": null,
            "bottom": null,
            "display": null,
            "flex": null,
            "flex_flow": null,
            "grid_area": null,
            "grid_auto_columns": null,
            "grid_auto_flow": null,
            "grid_auto_rows": null,
            "grid_column": null,
            "grid_gap": null,
            "grid_row": null,
            "grid_template_areas": null,
            "grid_template_columns": null,
            "grid_template_rows": null,
            "height": null,
            "justify_content": null,
            "justify_items": null,
            "left": null,
            "margin": null,
            "max_height": null,
            "max_width": null,
            "min_height": null,
            "min_width": null,
            "object_fit": null,
            "object_position": null,
            "order": null,
            "overflow": null,
            "overflow_x": null,
            "overflow_y": null,
            "padding": null,
            "right": null,
            "top": null,
            "visibility": null,
            "width": null
          }
        },
        "e1d31759e9f84471843840be205ffae9": {
          "model_module": "@jupyter-widgets/base",
          "model_name": "LayoutModel",
          "model_module_version": "1.2.0",
          "state": {
            "_model_module": "@jupyter-widgets/base",
            "_model_module_version": "1.2.0",
            "_model_name": "LayoutModel",
            "_view_count": null,
            "_view_module": "@jupyter-widgets/base",
            "_view_module_version": "1.2.0",
            "_view_name": "LayoutView",
            "align_content": null,
            "align_items": null,
            "align_self": null,
            "border": null,
            "bottom": null,
            "display": null,
            "flex": null,
            "flex_flow": null,
            "grid_area": null,
            "grid_auto_columns": null,
            "grid_auto_flow": null,
            "grid_auto_rows": null,
            "grid_column": null,
            "grid_gap": null,
            "grid_row": null,
            "grid_template_areas": null,
            "grid_template_columns": null,
            "grid_template_rows": null,
            "height": null,
            "justify_content": null,
            "justify_items": null,
            "left": null,
            "margin": null,
            "max_height": null,
            "max_width": null,
            "min_height": null,
            "min_width": null,
            "object_fit": null,
            "object_position": null,
            "order": null,
            "overflow": null,
            "overflow_x": null,
            "overflow_y": null,
            "padding": null,
            "right": null,
            "top": null,
            "visibility": null,
            "width": null
          }
        },
        "b95870916d284109a87d5bc6aac524b2": {
          "model_module": "@jupyter-widgets/controls",
          "model_name": "DescriptionStyleModel",
          "model_module_version": "1.5.0",
          "state": {
            "_model_module": "@jupyter-widgets/controls",
            "_model_module_version": "1.5.0",
            "_model_name": "DescriptionStyleModel",
            "_view_count": null,
            "_view_module": "@jupyter-widgets/base",
            "_view_module_version": "1.2.0",
            "_view_name": "StyleView",
            "description_width": ""
          }
        },
        "fe5f719985f74880bf0e8e4c470c0935": {
          "model_module": "@jupyter-widgets/base",
          "model_name": "LayoutModel",
          "model_module_version": "1.2.0",
          "state": {
            "_model_module": "@jupyter-widgets/base",
            "_model_module_version": "1.2.0",
            "_model_name": "LayoutModel",
            "_view_count": null,
            "_view_module": "@jupyter-widgets/base",
            "_view_module_version": "1.2.0",
            "_view_name": "LayoutView",
            "align_content": null,
            "align_items": null,
            "align_self": null,
            "border": null,
            "bottom": null,
            "display": null,
            "flex": null,
            "flex_flow": null,
            "grid_area": null,
            "grid_auto_columns": null,
            "grid_auto_flow": null,
            "grid_auto_rows": null,
            "grid_column": null,
            "grid_gap": null,
            "grid_row": null,
            "grid_template_areas": null,
            "grid_template_columns": null,
            "grid_template_rows": null,
            "height": null,
            "justify_content": null,
            "justify_items": null,
            "left": null,
            "margin": null,
            "max_height": null,
            "max_width": null,
            "min_height": null,
            "min_width": null,
            "object_fit": null,
            "object_position": null,
            "order": null,
            "overflow": null,
            "overflow_x": null,
            "overflow_y": null,
            "padding": null,
            "right": null,
            "top": null,
            "visibility": null,
            "width": null
          }
        },
        "cdab7238538a42139364ec3cc83a4234": {
          "model_module": "@jupyter-widgets/controls",
          "model_name": "ProgressStyleModel",
          "model_module_version": "1.5.0",
          "state": {
            "_model_module": "@jupyter-widgets/controls",
            "_model_module_version": "1.5.0",
            "_model_name": "ProgressStyleModel",
            "_view_count": null,
            "_view_module": "@jupyter-widgets/base",
            "_view_module_version": "1.2.0",
            "_view_name": "StyleView",
            "bar_color": null,
            "description_width": ""
          }
        },
        "77b20a18704244988d8d86ae0675b29e": {
          "model_module": "@jupyter-widgets/base",
          "model_name": "LayoutModel",
          "model_module_version": "1.2.0",
          "state": {
            "_model_module": "@jupyter-widgets/base",
            "_model_module_version": "1.2.0",
            "_model_name": "LayoutModel",
            "_view_count": null,
            "_view_module": "@jupyter-widgets/base",
            "_view_module_version": "1.2.0",
            "_view_name": "LayoutView",
            "align_content": null,
            "align_items": null,
            "align_self": null,
            "border": null,
            "bottom": null,
            "display": null,
            "flex": null,
            "flex_flow": null,
            "grid_area": null,
            "grid_auto_columns": null,
            "grid_auto_flow": null,
            "grid_auto_rows": null,
            "grid_column": null,
            "grid_gap": null,
            "grid_row": null,
            "grid_template_areas": null,
            "grid_template_columns": null,
            "grid_template_rows": null,
            "height": null,
            "justify_content": null,
            "justify_items": null,
            "left": null,
            "margin": null,
            "max_height": null,
            "max_width": null,
            "min_height": null,
            "min_width": null,
            "object_fit": null,
            "object_position": null,
            "order": null,
            "overflow": null,
            "overflow_x": null,
            "overflow_y": null,
            "padding": null,
            "right": null,
            "top": null,
            "visibility": null,
            "width": null
          }
        },
        "49c56b16d54d45f5b908c1208ba588d5": {
          "model_module": "@jupyter-widgets/controls",
          "model_name": "DescriptionStyleModel",
          "model_module_version": "1.5.0",
          "state": {
            "_model_module": "@jupyter-widgets/controls",
            "_model_module_version": "1.5.0",
            "_model_name": "DescriptionStyleModel",
            "_view_count": null,
            "_view_module": "@jupyter-widgets/base",
            "_view_module_version": "1.2.0",
            "_view_name": "StyleView",
            "description_width": ""
          }
        },
        "4d2c2fd531ca45f19c2e603d82b01682": {
          "model_module": "@jupyter-widgets/controls",
          "model_name": "HBoxModel",
          "model_module_version": "1.5.0",
          "state": {
            "_dom_classes": [],
            "_model_module": "@jupyter-widgets/controls",
            "_model_module_version": "1.5.0",
            "_model_name": "HBoxModel",
            "_view_count": null,
            "_view_module": "@jupyter-widgets/controls",
            "_view_module_version": "1.5.0",
            "_view_name": "HBoxView",
            "box_style": "",
            "children": [
              "IPY_MODEL_5c0e3f5ef559424d8b5c2bc535d3182f",
              "IPY_MODEL_9ff9e51ce726441f8026ddaaacd7d714",
              "IPY_MODEL_6d72aa23b73b403ea8c8f81f89f4f684"
            ],
            "layout": "IPY_MODEL_0d5fdaf1dc6b428fa375464bc3a3c83f"
          }
        },
        "5c0e3f5ef559424d8b5c2bc535d3182f": {
          "model_module": "@jupyter-widgets/controls",
          "model_name": "HTMLModel",
          "model_module_version": "1.5.0",
          "state": {
            "_dom_classes": [],
            "_model_module": "@jupyter-widgets/controls",
            "_model_module_version": "1.5.0",
            "_model_name": "HTMLModel",
            "_view_count": null,
            "_view_module": "@jupyter-widgets/controls",
            "_view_module_version": "1.5.0",
            "_view_name": "HTMLView",
            "description": "",
            "description_tooltip": null,
            "layout": "IPY_MODEL_f1704211604742d183be4893d8bd6fdc",
            "placeholder": "​",
            "style": "IPY_MODEL_d7a3e642b44d4fd2b23e00a44b45a81a",
            "value": "100%"
          }
        },
        "9ff9e51ce726441f8026ddaaacd7d714": {
          "model_module": "@jupyter-widgets/controls",
          "model_name": "FloatProgressModel",
          "model_module_version": "1.5.0",
          "state": {
            "_dom_classes": [],
            "_model_module": "@jupyter-widgets/controls",
            "_model_module_version": "1.5.0",
            "_model_name": "FloatProgressModel",
            "_view_count": null,
            "_view_module": "@jupyter-widgets/controls",
            "_view_module_version": "1.5.0",
            "_view_name": "ProgressView",
            "bar_style": "success",
            "description": "",
            "description_tooltip": null,
            "layout": "IPY_MODEL_c0d49d0cb2494aa8b6ed5708ba9c303c",
            "max": 63,
            "min": 0,
            "orientation": "horizontal",
            "style": "IPY_MODEL_97a5f756116944a6bddc5ec1778bb3ff",
            "value": 63
          }
        },
        "6d72aa23b73b403ea8c8f81f89f4f684": {
          "model_module": "@jupyter-widgets/controls",
          "model_name": "HTMLModel",
          "model_module_version": "1.5.0",
          "state": {
            "_dom_classes": [],
            "_model_module": "@jupyter-widgets/controls",
            "_model_module_version": "1.5.0",
            "_model_name": "HTMLModel",
            "_view_count": null,
            "_view_module": "@jupyter-widgets/controls",
            "_view_module_version": "1.5.0",
            "_view_name": "HTMLView",
            "description": "",
            "description_tooltip": null,
            "layout": "IPY_MODEL_a5e681c1d79942398f9f8d86d72b0fa9",
            "placeholder": "​",
            "style": "IPY_MODEL_643a89bcde0442458a9a3b1480dd5e96",
            "value": " 63/63 [00:01&lt;00:00, 48.28it/s, acc=0.875, epoch=6, loss=0.38]"
          }
        },
        "0d5fdaf1dc6b428fa375464bc3a3c83f": {
          "model_module": "@jupyter-widgets/base",
          "model_name": "LayoutModel",
          "model_module_version": "1.2.0",
          "state": {
            "_model_module": "@jupyter-widgets/base",
            "_model_module_version": "1.2.0",
            "_model_name": "LayoutModel",
            "_view_count": null,
            "_view_module": "@jupyter-widgets/base",
            "_view_module_version": "1.2.0",
            "_view_name": "LayoutView",
            "align_content": null,
            "align_items": null,
            "align_self": null,
            "border": null,
            "bottom": null,
            "display": null,
            "flex": null,
            "flex_flow": null,
            "grid_area": null,
            "grid_auto_columns": null,
            "grid_auto_flow": null,
            "grid_auto_rows": null,
            "grid_column": null,
            "grid_gap": null,
            "grid_row": null,
            "grid_template_areas": null,
            "grid_template_columns": null,
            "grid_template_rows": null,
            "height": null,
            "justify_content": null,
            "justify_items": null,
            "left": null,
            "margin": null,
            "max_height": null,
            "max_width": null,
            "min_height": null,
            "min_width": null,
            "object_fit": null,
            "object_position": null,
            "order": null,
            "overflow": null,
            "overflow_x": null,
            "overflow_y": null,
            "padding": null,
            "right": null,
            "top": null,
            "visibility": null,
            "width": null
          }
        },
        "f1704211604742d183be4893d8bd6fdc": {
          "model_module": "@jupyter-widgets/base",
          "model_name": "LayoutModel",
          "model_module_version": "1.2.0",
          "state": {
            "_model_module": "@jupyter-widgets/base",
            "_model_module_version": "1.2.0",
            "_model_name": "LayoutModel",
            "_view_count": null,
            "_view_module": "@jupyter-widgets/base",
            "_view_module_version": "1.2.0",
            "_view_name": "LayoutView",
            "align_content": null,
            "align_items": null,
            "align_self": null,
            "border": null,
            "bottom": null,
            "display": null,
            "flex": null,
            "flex_flow": null,
            "grid_area": null,
            "grid_auto_columns": null,
            "grid_auto_flow": null,
            "grid_auto_rows": null,
            "grid_column": null,
            "grid_gap": null,
            "grid_row": null,
            "grid_template_areas": null,
            "grid_template_columns": null,
            "grid_template_rows": null,
            "height": null,
            "justify_content": null,
            "justify_items": null,
            "left": null,
            "margin": null,
            "max_height": null,
            "max_width": null,
            "min_height": null,
            "min_width": null,
            "object_fit": null,
            "object_position": null,
            "order": null,
            "overflow": null,
            "overflow_x": null,
            "overflow_y": null,
            "padding": null,
            "right": null,
            "top": null,
            "visibility": null,
            "width": null
          }
        },
        "d7a3e642b44d4fd2b23e00a44b45a81a": {
          "model_module": "@jupyter-widgets/controls",
          "model_name": "DescriptionStyleModel",
          "model_module_version": "1.5.0",
          "state": {
            "_model_module": "@jupyter-widgets/controls",
            "_model_module_version": "1.5.0",
            "_model_name": "DescriptionStyleModel",
            "_view_count": null,
            "_view_module": "@jupyter-widgets/base",
            "_view_module_version": "1.2.0",
            "_view_name": "StyleView",
            "description_width": ""
          }
        },
        "c0d49d0cb2494aa8b6ed5708ba9c303c": {
          "model_module": "@jupyter-widgets/base",
          "model_name": "LayoutModel",
          "model_module_version": "1.2.0",
          "state": {
            "_model_module": "@jupyter-widgets/base",
            "_model_module_version": "1.2.0",
            "_model_name": "LayoutModel",
            "_view_count": null,
            "_view_module": "@jupyter-widgets/base",
            "_view_module_version": "1.2.0",
            "_view_name": "LayoutView",
            "align_content": null,
            "align_items": null,
            "align_self": null,
            "border": null,
            "bottom": null,
            "display": null,
            "flex": null,
            "flex_flow": null,
            "grid_area": null,
            "grid_auto_columns": null,
            "grid_auto_flow": null,
            "grid_auto_rows": null,
            "grid_column": null,
            "grid_gap": null,
            "grid_row": null,
            "grid_template_areas": null,
            "grid_template_columns": null,
            "grid_template_rows": null,
            "height": null,
            "justify_content": null,
            "justify_items": null,
            "left": null,
            "margin": null,
            "max_height": null,
            "max_width": null,
            "min_height": null,
            "min_width": null,
            "object_fit": null,
            "object_position": null,
            "order": null,
            "overflow": null,
            "overflow_x": null,
            "overflow_y": null,
            "padding": null,
            "right": null,
            "top": null,
            "visibility": null,
            "width": null
          }
        },
        "97a5f756116944a6bddc5ec1778bb3ff": {
          "model_module": "@jupyter-widgets/controls",
          "model_name": "ProgressStyleModel",
          "model_module_version": "1.5.0",
          "state": {
            "_model_module": "@jupyter-widgets/controls",
            "_model_module_version": "1.5.0",
            "_model_name": "ProgressStyleModel",
            "_view_count": null,
            "_view_module": "@jupyter-widgets/base",
            "_view_module_version": "1.2.0",
            "_view_name": "StyleView",
            "bar_color": null,
            "description_width": ""
          }
        },
        "a5e681c1d79942398f9f8d86d72b0fa9": {
          "model_module": "@jupyter-widgets/base",
          "model_name": "LayoutModel",
          "model_module_version": "1.2.0",
          "state": {
            "_model_module": "@jupyter-widgets/base",
            "_model_module_version": "1.2.0",
            "_model_name": "LayoutModel",
            "_view_count": null,
            "_view_module": "@jupyter-widgets/base",
            "_view_module_version": "1.2.0",
            "_view_name": "LayoutView",
            "align_content": null,
            "align_items": null,
            "align_self": null,
            "border": null,
            "bottom": null,
            "display": null,
            "flex": null,
            "flex_flow": null,
            "grid_area": null,
            "grid_auto_columns": null,
            "grid_auto_flow": null,
            "grid_auto_rows": null,
            "grid_column": null,
            "grid_gap": null,
            "grid_row": null,
            "grid_template_areas": null,
            "grid_template_columns": null,
            "grid_template_rows": null,
            "height": null,
            "justify_content": null,
            "justify_items": null,
            "left": null,
            "margin": null,
            "max_height": null,
            "max_width": null,
            "min_height": null,
            "min_width": null,
            "object_fit": null,
            "object_position": null,
            "order": null,
            "overflow": null,
            "overflow_x": null,
            "overflow_y": null,
            "padding": null,
            "right": null,
            "top": null,
            "visibility": null,
            "width": null
          }
        },
        "643a89bcde0442458a9a3b1480dd5e96": {
          "model_module": "@jupyter-widgets/controls",
          "model_name": "DescriptionStyleModel",
          "model_module_version": "1.5.0",
          "state": {
            "_model_module": "@jupyter-widgets/controls",
            "_model_module_version": "1.5.0",
            "_model_name": "DescriptionStyleModel",
            "_view_count": null,
            "_view_module": "@jupyter-widgets/base",
            "_view_module_version": "1.2.0",
            "_view_name": "StyleView",
            "description_width": ""
          }
        },
        "f85f19f9d6f74c09b90956f1a3390b62": {
          "model_module": "@jupyter-widgets/controls",
          "model_name": "HBoxModel",
          "model_module_version": "1.5.0",
          "state": {
            "_dom_classes": [],
            "_model_module": "@jupyter-widgets/controls",
            "_model_module_version": "1.5.0",
            "_model_name": "HBoxModel",
            "_view_count": null,
            "_view_module": "@jupyter-widgets/controls",
            "_view_module_version": "1.5.0",
            "_view_name": "HBoxView",
            "box_style": "",
            "children": [
              "IPY_MODEL_169699e84b5348b4921aa104c92c6cb7",
              "IPY_MODEL_c13045f1d9a34e4bab903021431ded8f",
              "IPY_MODEL_4ac5a1339d94402d8f420aa0693bbd52"
            ],
            "layout": "IPY_MODEL_62a7cb6360594b1580b804f84eca404c"
          }
        },
        "169699e84b5348b4921aa104c92c6cb7": {
          "model_module": "@jupyter-widgets/controls",
          "model_name": "HTMLModel",
          "model_module_version": "1.5.0",
          "state": {
            "_dom_classes": [],
            "_model_module": "@jupyter-widgets/controls",
            "_model_module_version": "1.5.0",
            "_model_name": "HTMLModel",
            "_view_count": null,
            "_view_module": "@jupyter-widgets/controls",
            "_view_module_version": "1.5.0",
            "_view_name": "HTMLView",
            "description": "",
            "description_tooltip": null,
            "layout": "IPY_MODEL_6cf9fda9a22d4a679d1a66c3ab6343e1",
            "placeholder": "​",
            "style": "IPY_MODEL_154c46347e374a00b8559bde8859593f",
            "value": "100%"
          }
        },
        "c13045f1d9a34e4bab903021431ded8f": {
          "model_module": "@jupyter-widgets/controls",
          "model_name": "FloatProgressModel",
          "model_module_version": "1.5.0",
          "state": {
            "_dom_classes": [],
            "_model_module": "@jupyter-widgets/controls",
            "_model_module_version": "1.5.0",
            "_model_name": "FloatProgressModel",
            "_view_count": null,
            "_view_module": "@jupyter-widgets/controls",
            "_view_module_version": "1.5.0",
            "_view_name": "ProgressView",
            "bar_style": "success",
            "description": "",
            "description_tooltip": null,
            "layout": "IPY_MODEL_19e435e678ca4eb3b7a94220634b59fb",
            "max": 63,
            "min": 0,
            "orientation": "horizontal",
            "style": "IPY_MODEL_cda10d5935c54468b81eb50c4b24e30d",
            "value": 63
          }
        },
        "4ac5a1339d94402d8f420aa0693bbd52": {
          "model_module": "@jupyter-widgets/controls",
          "model_name": "HTMLModel",
          "model_module_version": "1.5.0",
          "state": {
            "_dom_classes": [],
            "_model_module": "@jupyter-widgets/controls",
            "_model_module_version": "1.5.0",
            "_model_name": "HTMLModel",
            "_view_count": null,
            "_view_module": "@jupyter-widgets/controls",
            "_view_module_version": "1.5.0",
            "_view_name": "HTMLView",
            "description": "",
            "description_tooltip": null,
            "layout": "IPY_MODEL_a89cfcaa54364f9ca5e4d087111b8262",
            "placeholder": "​",
            "style": "IPY_MODEL_28992a49a3ec48c8bf5233d6e34445ef",
            "value": " 63/63 [00:01&lt;00:00, 48.62it/s, acc=1, epoch=7, loss=0.00725]"
          }
        },
        "62a7cb6360594b1580b804f84eca404c": {
          "model_module": "@jupyter-widgets/base",
          "model_name": "LayoutModel",
          "model_module_version": "1.2.0",
          "state": {
            "_model_module": "@jupyter-widgets/base",
            "_model_module_version": "1.2.0",
            "_model_name": "LayoutModel",
            "_view_count": null,
            "_view_module": "@jupyter-widgets/base",
            "_view_module_version": "1.2.0",
            "_view_name": "LayoutView",
            "align_content": null,
            "align_items": null,
            "align_self": null,
            "border": null,
            "bottom": null,
            "display": null,
            "flex": null,
            "flex_flow": null,
            "grid_area": null,
            "grid_auto_columns": null,
            "grid_auto_flow": null,
            "grid_auto_rows": null,
            "grid_column": null,
            "grid_gap": null,
            "grid_row": null,
            "grid_template_areas": null,
            "grid_template_columns": null,
            "grid_template_rows": null,
            "height": null,
            "justify_content": null,
            "justify_items": null,
            "left": null,
            "margin": null,
            "max_height": null,
            "max_width": null,
            "min_height": null,
            "min_width": null,
            "object_fit": null,
            "object_position": null,
            "order": null,
            "overflow": null,
            "overflow_x": null,
            "overflow_y": null,
            "padding": null,
            "right": null,
            "top": null,
            "visibility": null,
            "width": null
          }
        },
        "6cf9fda9a22d4a679d1a66c3ab6343e1": {
          "model_module": "@jupyter-widgets/base",
          "model_name": "LayoutModel",
          "model_module_version": "1.2.0",
          "state": {
            "_model_module": "@jupyter-widgets/base",
            "_model_module_version": "1.2.0",
            "_model_name": "LayoutModel",
            "_view_count": null,
            "_view_module": "@jupyter-widgets/base",
            "_view_module_version": "1.2.0",
            "_view_name": "LayoutView",
            "align_content": null,
            "align_items": null,
            "align_self": null,
            "border": null,
            "bottom": null,
            "display": null,
            "flex": null,
            "flex_flow": null,
            "grid_area": null,
            "grid_auto_columns": null,
            "grid_auto_flow": null,
            "grid_auto_rows": null,
            "grid_column": null,
            "grid_gap": null,
            "grid_row": null,
            "grid_template_areas": null,
            "grid_template_columns": null,
            "grid_template_rows": null,
            "height": null,
            "justify_content": null,
            "justify_items": null,
            "left": null,
            "margin": null,
            "max_height": null,
            "max_width": null,
            "min_height": null,
            "min_width": null,
            "object_fit": null,
            "object_position": null,
            "order": null,
            "overflow": null,
            "overflow_x": null,
            "overflow_y": null,
            "padding": null,
            "right": null,
            "top": null,
            "visibility": null,
            "width": null
          }
        },
        "154c46347e374a00b8559bde8859593f": {
          "model_module": "@jupyter-widgets/controls",
          "model_name": "DescriptionStyleModel",
          "model_module_version": "1.5.0",
          "state": {
            "_model_module": "@jupyter-widgets/controls",
            "_model_module_version": "1.5.0",
            "_model_name": "DescriptionStyleModel",
            "_view_count": null,
            "_view_module": "@jupyter-widgets/base",
            "_view_module_version": "1.2.0",
            "_view_name": "StyleView",
            "description_width": ""
          }
        },
        "19e435e678ca4eb3b7a94220634b59fb": {
          "model_module": "@jupyter-widgets/base",
          "model_name": "LayoutModel",
          "model_module_version": "1.2.0",
          "state": {
            "_model_module": "@jupyter-widgets/base",
            "_model_module_version": "1.2.0",
            "_model_name": "LayoutModel",
            "_view_count": null,
            "_view_module": "@jupyter-widgets/base",
            "_view_module_version": "1.2.0",
            "_view_name": "LayoutView",
            "align_content": null,
            "align_items": null,
            "align_self": null,
            "border": null,
            "bottom": null,
            "display": null,
            "flex": null,
            "flex_flow": null,
            "grid_area": null,
            "grid_auto_columns": null,
            "grid_auto_flow": null,
            "grid_auto_rows": null,
            "grid_column": null,
            "grid_gap": null,
            "grid_row": null,
            "grid_template_areas": null,
            "grid_template_columns": null,
            "grid_template_rows": null,
            "height": null,
            "justify_content": null,
            "justify_items": null,
            "left": null,
            "margin": null,
            "max_height": null,
            "max_width": null,
            "min_height": null,
            "min_width": null,
            "object_fit": null,
            "object_position": null,
            "order": null,
            "overflow": null,
            "overflow_x": null,
            "overflow_y": null,
            "padding": null,
            "right": null,
            "top": null,
            "visibility": null,
            "width": null
          }
        },
        "cda10d5935c54468b81eb50c4b24e30d": {
          "model_module": "@jupyter-widgets/controls",
          "model_name": "ProgressStyleModel",
          "model_module_version": "1.5.0",
          "state": {
            "_model_module": "@jupyter-widgets/controls",
            "_model_module_version": "1.5.0",
            "_model_name": "ProgressStyleModel",
            "_view_count": null,
            "_view_module": "@jupyter-widgets/base",
            "_view_module_version": "1.2.0",
            "_view_name": "StyleView",
            "bar_color": null,
            "description_width": ""
          }
        },
        "a89cfcaa54364f9ca5e4d087111b8262": {
          "model_module": "@jupyter-widgets/base",
          "model_name": "LayoutModel",
          "model_module_version": "1.2.0",
          "state": {
            "_model_module": "@jupyter-widgets/base",
            "_model_module_version": "1.2.0",
            "_model_name": "LayoutModel",
            "_view_count": null,
            "_view_module": "@jupyter-widgets/base",
            "_view_module_version": "1.2.0",
            "_view_name": "LayoutView",
            "align_content": null,
            "align_items": null,
            "align_self": null,
            "border": null,
            "bottom": null,
            "display": null,
            "flex": null,
            "flex_flow": null,
            "grid_area": null,
            "grid_auto_columns": null,
            "grid_auto_flow": null,
            "grid_auto_rows": null,
            "grid_column": null,
            "grid_gap": null,
            "grid_row": null,
            "grid_template_areas": null,
            "grid_template_columns": null,
            "grid_template_rows": null,
            "height": null,
            "justify_content": null,
            "justify_items": null,
            "left": null,
            "margin": null,
            "max_height": null,
            "max_width": null,
            "min_height": null,
            "min_width": null,
            "object_fit": null,
            "object_position": null,
            "order": null,
            "overflow": null,
            "overflow_x": null,
            "overflow_y": null,
            "padding": null,
            "right": null,
            "top": null,
            "visibility": null,
            "width": null
          }
        },
        "28992a49a3ec48c8bf5233d6e34445ef": {
          "model_module": "@jupyter-widgets/controls",
          "model_name": "DescriptionStyleModel",
          "model_module_version": "1.5.0",
          "state": {
            "_model_module": "@jupyter-widgets/controls",
            "_model_module_version": "1.5.0",
            "_model_name": "DescriptionStyleModel",
            "_view_count": null,
            "_view_module": "@jupyter-widgets/base",
            "_view_module_version": "1.2.0",
            "_view_name": "StyleView",
            "description_width": ""
          }
        },
        "679c26c38df74e7ba71d6106975c54b4": {
          "model_module": "@jupyter-widgets/controls",
          "model_name": "HBoxModel",
          "model_module_version": "1.5.0",
          "state": {
            "_dom_classes": [],
            "_model_module": "@jupyter-widgets/controls",
            "_model_module_version": "1.5.0",
            "_model_name": "HBoxModel",
            "_view_count": null,
            "_view_module": "@jupyter-widgets/controls",
            "_view_module_version": "1.5.0",
            "_view_name": "HBoxView",
            "box_style": "",
            "children": [
              "IPY_MODEL_dda44b66ba44423d9a7a52f3b06656c5",
              "IPY_MODEL_d01a70d313334e91b572f76312d37be4",
              "IPY_MODEL_4803b9e6935247e88df8caf3d388f7c2"
            ],
            "layout": "IPY_MODEL_efd3829e789446d49ddb8c1d83de6718"
          }
        },
        "dda44b66ba44423d9a7a52f3b06656c5": {
          "model_module": "@jupyter-widgets/controls",
          "model_name": "HTMLModel",
          "model_module_version": "1.5.0",
          "state": {
            "_dom_classes": [],
            "_model_module": "@jupyter-widgets/controls",
            "_model_module_version": "1.5.0",
            "_model_name": "HTMLModel",
            "_view_count": null,
            "_view_module": "@jupyter-widgets/controls",
            "_view_module_version": "1.5.0",
            "_view_name": "HTMLView",
            "description": "",
            "description_tooltip": null,
            "layout": "IPY_MODEL_b9aa0bcf1ea2416fb4f55aff8d223851",
            "placeholder": "​",
            "style": "IPY_MODEL_f165ac2b9bc34ce294c26a1425cfb63c",
            "value": "100%"
          }
        },
        "d01a70d313334e91b572f76312d37be4": {
          "model_module": "@jupyter-widgets/controls",
          "model_name": "FloatProgressModel",
          "model_module_version": "1.5.0",
          "state": {
            "_dom_classes": [],
            "_model_module": "@jupyter-widgets/controls",
            "_model_module_version": "1.5.0",
            "_model_name": "FloatProgressModel",
            "_view_count": null,
            "_view_module": "@jupyter-widgets/controls",
            "_view_module_version": "1.5.0",
            "_view_name": "ProgressView",
            "bar_style": "success",
            "description": "",
            "description_tooltip": null,
            "layout": "IPY_MODEL_f8b7cecabc7644599f0f7d60a92f24be",
            "max": 63,
            "min": 0,
            "orientation": "horizontal",
            "style": "IPY_MODEL_4173788c336441e1b1a02464f6f0852d",
            "value": 63
          }
        },
        "4803b9e6935247e88df8caf3d388f7c2": {
          "model_module": "@jupyter-widgets/controls",
          "model_name": "HTMLModel",
          "model_module_version": "1.5.0",
          "state": {
            "_dom_classes": [],
            "_model_module": "@jupyter-widgets/controls",
            "_model_module_version": "1.5.0",
            "_model_name": "HTMLModel",
            "_view_count": null,
            "_view_module": "@jupyter-widgets/controls",
            "_view_module_version": "1.5.0",
            "_view_name": "HTMLView",
            "description": "",
            "description_tooltip": null,
            "layout": "IPY_MODEL_eb246eca6d834e45a45adb79f9fa186e",
            "placeholder": "​",
            "style": "IPY_MODEL_7b37de85000245ddb0893fd91cf0f12c",
            "value": " 63/63 [00:01&lt;00:00, 47.90it/s, acc=0.875, epoch=8, loss=0.286]"
          }
        },
        "efd3829e789446d49ddb8c1d83de6718": {
          "model_module": "@jupyter-widgets/base",
          "model_name": "LayoutModel",
          "model_module_version": "1.2.0",
          "state": {
            "_model_module": "@jupyter-widgets/base",
            "_model_module_version": "1.2.0",
            "_model_name": "LayoutModel",
            "_view_count": null,
            "_view_module": "@jupyter-widgets/base",
            "_view_module_version": "1.2.0",
            "_view_name": "LayoutView",
            "align_content": null,
            "align_items": null,
            "align_self": null,
            "border": null,
            "bottom": null,
            "display": null,
            "flex": null,
            "flex_flow": null,
            "grid_area": null,
            "grid_auto_columns": null,
            "grid_auto_flow": null,
            "grid_auto_rows": null,
            "grid_column": null,
            "grid_gap": null,
            "grid_row": null,
            "grid_template_areas": null,
            "grid_template_columns": null,
            "grid_template_rows": null,
            "height": null,
            "justify_content": null,
            "justify_items": null,
            "left": null,
            "margin": null,
            "max_height": null,
            "max_width": null,
            "min_height": null,
            "min_width": null,
            "object_fit": null,
            "object_position": null,
            "order": null,
            "overflow": null,
            "overflow_x": null,
            "overflow_y": null,
            "padding": null,
            "right": null,
            "top": null,
            "visibility": null,
            "width": null
          }
        },
        "b9aa0bcf1ea2416fb4f55aff8d223851": {
          "model_module": "@jupyter-widgets/base",
          "model_name": "LayoutModel",
          "model_module_version": "1.2.0",
          "state": {
            "_model_module": "@jupyter-widgets/base",
            "_model_module_version": "1.2.0",
            "_model_name": "LayoutModel",
            "_view_count": null,
            "_view_module": "@jupyter-widgets/base",
            "_view_module_version": "1.2.0",
            "_view_name": "LayoutView",
            "align_content": null,
            "align_items": null,
            "align_self": null,
            "border": null,
            "bottom": null,
            "display": null,
            "flex": null,
            "flex_flow": null,
            "grid_area": null,
            "grid_auto_columns": null,
            "grid_auto_flow": null,
            "grid_auto_rows": null,
            "grid_column": null,
            "grid_gap": null,
            "grid_row": null,
            "grid_template_areas": null,
            "grid_template_columns": null,
            "grid_template_rows": null,
            "height": null,
            "justify_content": null,
            "justify_items": null,
            "left": null,
            "margin": null,
            "max_height": null,
            "max_width": null,
            "min_height": null,
            "min_width": null,
            "object_fit": null,
            "object_position": null,
            "order": null,
            "overflow": null,
            "overflow_x": null,
            "overflow_y": null,
            "padding": null,
            "right": null,
            "top": null,
            "visibility": null,
            "width": null
          }
        },
        "f165ac2b9bc34ce294c26a1425cfb63c": {
          "model_module": "@jupyter-widgets/controls",
          "model_name": "DescriptionStyleModel",
          "model_module_version": "1.5.0",
          "state": {
            "_model_module": "@jupyter-widgets/controls",
            "_model_module_version": "1.5.0",
            "_model_name": "DescriptionStyleModel",
            "_view_count": null,
            "_view_module": "@jupyter-widgets/base",
            "_view_module_version": "1.2.0",
            "_view_name": "StyleView",
            "description_width": ""
          }
        },
        "f8b7cecabc7644599f0f7d60a92f24be": {
          "model_module": "@jupyter-widgets/base",
          "model_name": "LayoutModel",
          "model_module_version": "1.2.0",
          "state": {
            "_model_module": "@jupyter-widgets/base",
            "_model_module_version": "1.2.0",
            "_model_name": "LayoutModel",
            "_view_count": null,
            "_view_module": "@jupyter-widgets/base",
            "_view_module_version": "1.2.0",
            "_view_name": "LayoutView",
            "align_content": null,
            "align_items": null,
            "align_self": null,
            "border": null,
            "bottom": null,
            "display": null,
            "flex": null,
            "flex_flow": null,
            "grid_area": null,
            "grid_auto_columns": null,
            "grid_auto_flow": null,
            "grid_auto_rows": null,
            "grid_column": null,
            "grid_gap": null,
            "grid_row": null,
            "grid_template_areas": null,
            "grid_template_columns": null,
            "grid_template_rows": null,
            "height": null,
            "justify_content": null,
            "justify_items": null,
            "left": null,
            "margin": null,
            "max_height": null,
            "max_width": null,
            "min_height": null,
            "min_width": null,
            "object_fit": null,
            "object_position": null,
            "order": null,
            "overflow": null,
            "overflow_x": null,
            "overflow_y": null,
            "padding": null,
            "right": null,
            "top": null,
            "visibility": null,
            "width": null
          }
        },
        "4173788c336441e1b1a02464f6f0852d": {
          "model_module": "@jupyter-widgets/controls",
          "model_name": "ProgressStyleModel",
          "model_module_version": "1.5.0",
          "state": {
            "_model_module": "@jupyter-widgets/controls",
            "_model_module_version": "1.5.0",
            "_model_name": "ProgressStyleModel",
            "_view_count": null,
            "_view_module": "@jupyter-widgets/base",
            "_view_module_version": "1.2.0",
            "_view_name": "StyleView",
            "bar_color": null,
            "description_width": ""
          }
        },
        "eb246eca6d834e45a45adb79f9fa186e": {
          "model_module": "@jupyter-widgets/base",
          "model_name": "LayoutModel",
          "model_module_version": "1.2.0",
          "state": {
            "_model_module": "@jupyter-widgets/base",
            "_model_module_version": "1.2.0",
            "_model_name": "LayoutModel",
            "_view_count": null,
            "_view_module": "@jupyter-widgets/base",
            "_view_module_version": "1.2.0",
            "_view_name": "LayoutView",
            "align_content": null,
            "align_items": null,
            "align_self": null,
            "border": null,
            "bottom": null,
            "display": null,
            "flex": null,
            "flex_flow": null,
            "grid_area": null,
            "grid_auto_columns": null,
            "grid_auto_flow": null,
            "grid_auto_rows": null,
            "grid_column": null,
            "grid_gap": null,
            "grid_row": null,
            "grid_template_areas": null,
            "grid_template_columns": null,
            "grid_template_rows": null,
            "height": null,
            "justify_content": null,
            "justify_items": null,
            "left": null,
            "margin": null,
            "max_height": null,
            "max_width": null,
            "min_height": null,
            "min_width": null,
            "object_fit": null,
            "object_position": null,
            "order": null,
            "overflow": null,
            "overflow_x": null,
            "overflow_y": null,
            "padding": null,
            "right": null,
            "top": null,
            "visibility": null,
            "width": null
          }
        },
        "7b37de85000245ddb0893fd91cf0f12c": {
          "model_module": "@jupyter-widgets/controls",
          "model_name": "DescriptionStyleModel",
          "model_module_version": "1.5.0",
          "state": {
            "_model_module": "@jupyter-widgets/controls",
            "_model_module_version": "1.5.0",
            "_model_name": "DescriptionStyleModel",
            "_view_count": null,
            "_view_module": "@jupyter-widgets/base",
            "_view_module_version": "1.2.0",
            "_view_name": "StyleView",
            "description_width": ""
          }
        },
        "d7d6f37b791847f3b4f7485ea1dcfaae": {
          "model_module": "@jupyter-widgets/controls",
          "model_name": "HBoxModel",
          "model_module_version": "1.5.0",
          "state": {
            "_dom_classes": [],
            "_model_module": "@jupyter-widgets/controls",
            "_model_module_version": "1.5.0",
            "_model_name": "HBoxModel",
            "_view_count": null,
            "_view_module": "@jupyter-widgets/controls",
            "_view_module_version": "1.5.0",
            "_view_name": "HBoxView",
            "box_style": "",
            "children": [
              "IPY_MODEL_2dc77dcba65c4097b9eca4c9aac6349d",
              "IPY_MODEL_36ef12c426c847188d1a4384ff29c433",
              "IPY_MODEL_f12c6e8c96ce4c949c25ed10b94564d6"
            ],
            "layout": "IPY_MODEL_05c62099dfe84789b4f40e29f42916c3"
          }
        },
        "2dc77dcba65c4097b9eca4c9aac6349d": {
          "model_module": "@jupyter-widgets/controls",
          "model_name": "HTMLModel",
          "model_module_version": "1.5.0",
          "state": {
            "_dom_classes": [],
            "_model_module": "@jupyter-widgets/controls",
            "_model_module_version": "1.5.0",
            "_model_name": "HTMLModel",
            "_view_count": null,
            "_view_module": "@jupyter-widgets/controls",
            "_view_module_version": "1.5.0",
            "_view_name": "HTMLView",
            "description": "",
            "description_tooltip": null,
            "layout": "IPY_MODEL_1bc661e2f858415e8942621dca18db26",
            "placeholder": "​",
            "style": "IPY_MODEL_49ba4dee8f284beb8a0a13c6c4d8c6be",
            "value": "100%"
          }
        },
        "36ef12c426c847188d1a4384ff29c433": {
          "model_module": "@jupyter-widgets/controls",
          "model_name": "FloatProgressModel",
          "model_module_version": "1.5.0",
          "state": {
            "_dom_classes": [],
            "_model_module": "@jupyter-widgets/controls",
            "_model_module_version": "1.5.0",
            "_model_name": "FloatProgressModel",
            "_view_count": null,
            "_view_module": "@jupyter-widgets/controls",
            "_view_module_version": "1.5.0",
            "_view_name": "ProgressView",
            "bar_style": "success",
            "description": "",
            "description_tooltip": null,
            "layout": "IPY_MODEL_7c561bc81b9a481aa0bbd4aeb1f477be",
            "max": 63,
            "min": 0,
            "orientation": "horizontal",
            "style": "IPY_MODEL_cbca84628f9d4b01bf7271aeccb59b83",
            "value": 63
          }
        },
        "f12c6e8c96ce4c949c25ed10b94564d6": {
          "model_module": "@jupyter-widgets/controls",
          "model_name": "HTMLModel",
          "model_module_version": "1.5.0",
          "state": {
            "_dom_classes": [],
            "_model_module": "@jupyter-widgets/controls",
            "_model_module_version": "1.5.0",
            "_model_name": "HTMLModel",
            "_view_count": null,
            "_view_module": "@jupyter-widgets/controls",
            "_view_module_version": "1.5.0",
            "_view_name": "HTMLView",
            "description": "",
            "description_tooltip": null,
            "layout": "IPY_MODEL_03fe9f58f4e74b2a9546120c7cae4c57",
            "placeholder": "​",
            "style": "IPY_MODEL_1cd87eed05d74f8a9763fe596bdb4913",
            "value": " 63/63 [00:01&lt;00:00, 46.83it/s, acc=0.875, epoch=9, loss=0.17]"
          }
        },
        "05c62099dfe84789b4f40e29f42916c3": {
          "model_module": "@jupyter-widgets/base",
          "model_name": "LayoutModel",
          "model_module_version": "1.2.0",
          "state": {
            "_model_module": "@jupyter-widgets/base",
            "_model_module_version": "1.2.0",
            "_model_name": "LayoutModel",
            "_view_count": null,
            "_view_module": "@jupyter-widgets/base",
            "_view_module_version": "1.2.0",
            "_view_name": "LayoutView",
            "align_content": null,
            "align_items": null,
            "align_self": null,
            "border": null,
            "bottom": null,
            "display": null,
            "flex": null,
            "flex_flow": null,
            "grid_area": null,
            "grid_auto_columns": null,
            "grid_auto_flow": null,
            "grid_auto_rows": null,
            "grid_column": null,
            "grid_gap": null,
            "grid_row": null,
            "grid_template_areas": null,
            "grid_template_columns": null,
            "grid_template_rows": null,
            "height": null,
            "justify_content": null,
            "justify_items": null,
            "left": null,
            "margin": null,
            "max_height": null,
            "max_width": null,
            "min_height": null,
            "min_width": null,
            "object_fit": null,
            "object_position": null,
            "order": null,
            "overflow": null,
            "overflow_x": null,
            "overflow_y": null,
            "padding": null,
            "right": null,
            "top": null,
            "visibility": null,
            "width": null
          }
        },
        "1bc661e2f858415e8942621dca18db26": {
          "model_module": "@jupyter-widgets/base",
          "model_name": "LayoutModel",
          "model_module_version": "1.2.0",
          "state": {
            "_model_module": "@jupyter-widgets/base",
            "_model_module_version": "1.2.0",
            "_model_name": "LayoutModel",
            "_view_count": null,
            "_view_module": "@jupyter-widgets/base",
            "_view_module_version": "1.2.0",
            "_view_name": "LayoutView",
            "align_content": null,
            "align_items": null,
            "align_self": null,
            "border": null,
            "bottom": null,
            "display": null,
            "flex": null,
            "flex_flow": null,
            "grid_area": null,
            "grid_auto_columns": null,
            "grid_auto_flow": null,
            "grid_auto_rows": null,
            "grid_column": null,
            "grid_gap": null,
            "grid_row": null,
            "grid_template_areas": null,
            "grid_template_columns": null,
            "grid_template_rows": null,
            "height": null,
            "justify_content": null,
            "justify_items": null,
            "left": null,
            "margin": null,
            "max_height": null,
            "max_width": null,
            "min_height": null,
            "min_width": null,
            "object_fit": null,
            "object_position": null,
            "order": null,
            "overflow": null,
            "overflow_x": null,
            "overflow_y": null,
            "padding": null,
            "right": null,
            "top": null,
            "visibility": null,
            "width": null
          }
        },
        "49ba4dee8f284beb8a0a13c6c4d8c6be": {
          "model_module": "@jupyter-widgets/controls",
          "model_name": "DescriptionStyleModel",
          "model_module_version": "1.5.0",
          "state": {
            "_model_module": "@jupyter-widgets/controls",
            "_model_module_version": "1.5.0",
            "_model_name": "DescriptionStyleModel",
            "_view_count": null,
            "_view_module": "@jupyter-widgets/base",
            "_view_module_version": "1.2.0",
            "_view_name": "StyleView",
            "description_width": ""
          }
        },
        "7c561bc81b9a481aa0bbd4aeb1f477be": {
          "model_module": "@jupyter-widgets/base",
          "model_name": "LayoutModel",
          "model_module_version": "1.2.0",
          "state": {
            "_model_module": "@jupyter-widgets/base",
            "_model_module_version": "1.2.0",
            "_model_name": "LayoutModel",
            "_view_count": null,
            "_view_module": "@jupyter-widgets/base",
            "_view_module_version": "1.2.0",
            "_view_name": "LayoutView",
            "align_content": null,
            "align_items": null,
            "align_self": null,
            "border": null,
            "bottom": null,
            "display": null,
            "flex": null,
            "flex_flow": null,
            "grid_area": null,
            "grid_auto_columns": null,
            "grid_auto_flow": null,
            "grid_auto_rows": null,
            "grid_column": null,
            "grid_gap": null,
            "grid_row": null,
            "grid_template_areas": null,
            "grid_template_columns": null,
            "grid_template_rows": null,
            "height": null,
            "justify_content": null,
            "justify_items": null,
            "left": null,
            "margin": null,
            "max_height": null,
            "max_width": null,
            "min_height": null,
            "min_width": null,
            "object_fit": null,
            "object_position": null,
            "order": null,
            "overflow": null,
            "overflow_x": null,
            "overflow_y": null,
            "padding": null,
            "right": null,
            "top": null,
            "visibility": null,
            "width": null
          }
        },
        "cbca84628f9d4b01bf7271aeccb59b83": {
          "model_module": "@jupyter-widgets/controls",
          "model_name": "ProgressStyleModel",
          "model_module_version": "1.5.0",
          "state": {
            "_model_module": "@jupyter-widgets/controls",
            "_model_module_version": "1.5.0",
            "_model_name": "ProgressStyleModel",
            "_view_count": null,
            "_view_module": "@jupyter-widgets/base",
            "_view_module_version": "1.2.0",
            "_view_name": "StyleView",
            "bar_color": null,
            "description_width": ""
          }
        },
        "03fe9f58f4e74b2a9546120c7cae4c57": {
          "model_module": "@jupyter-widgets/base",
          "model_name": "LayoutModel",
          "model_module_version": "1.2.0",
          "state": {
            "_model_module": "@jupyter-widgets/base",
            "_model_module_version": "1.2.0",
            "_model_name": "LayoutModel",
            "_view_count": null,
            "_view_module": "@jupyter-widgets/base",
            "_view_module_version": "1.2.0",
            "_view_name": "LayoutView",
            "align_content": null,
            "align_items": null,
            "align_self": null,
            "border": null,
            "bottom": null,
            "display": null,
            "flex": null,
            "flex_flow": null,
            "grid_area": null,
            "grid_auto_columns": null,
            "grid_auto_flow": null,
            "grid_auto_rows": null,
            "grid_column": null,
            "grid_gap": null,
            "grid_row": null,
            "grid_template_areas": null,
            "grid_template_columns": null,
            "grid_template_rows": null,
            "height": null,
            "justify_content": null,
            "justify_items": null,
            "left": null,
            "margin": null,
            "max_height": null,
            "max_width": null,
            "min_height": null,
            "min_width": null,
            "object_fit": null,
            "object_position": null,
            "order": null,
            "overflow": null,
            "overflow_x": null,
            "overflow_y": null,
            "padding": null,
            "right": null,
            "top": null,
            "visibility": null,
            "width": null
          }
        },
        "1cd87eed05d74f8a9763fe596bdb4913": {
          "model_module": "@jupyter-widgets/controls",
          "model_name": "DescriptionStyleModel",
          "model_module_version": "1.5.0",
          "state": {
            "_model_module": "@jupyter-widgets/controls",
            "_model_module_version": "1.5.0",
            "_model_name": "DescriptionStyleModel",
            "_view_count": null,
            "_view_module": "@jupyter-widgets/base",
            "_view_module_version": "1.2.0",
            "_view_name": "StyleView",
            "description_width": ""
          }
        },
        "fa37bc5463ce4ee8b2d76c945da7d45f": {
          "model_module": "@jupyter-widgets/controls",
          "model_name": "HBoxModel",
          "model_module_version": "1.5.0",
          "state": {
            "_dom_classes": [],
            "_model_module": "@jupyter-widgets/controls",
            "_model_module_version": "1.5.0",
            "_model_name": "HBoxModel",
            "_view_count": null,
            "_view_module": "@jupyter-widgets/controls",
            "_view_module_version": "1.5.0",
            "_view_name": "HBoxView",
            "box_style": "",
            "children": [
              "IPY_MODEL_4193d314224a483a8b7a8c362cc9982e",
              "IPY_MODEL_f0c01660801c463988bbdb11190f8021",
              "IPY_MODEL_65dd036586164c12928225161f6b9bab"
            ],
            "layout": "IPY_MODEL_19ccb0337f7c4200a19c8069e8737521"
          }
        },
        "4193d314224a483a8b7a8c362cc9982e": {
          "model_module": "@jupyter-widgets/controls",
          "model_name": "HTMLModel",
          "model_module_version": "1.5.0",
          "state": {
            "_dom_classes": [],
            "_model_module": "@jupyter-widgets/controls",
            "_model_module_version": "1.5.0",
            "_model_name": "HTMLModel",
            "_view_count": null,
            "_view_module": "@jupyter-widgets/controls",
            "_view_module_version": "1.5.0",
            "_view_name": "HTMLView",
            "description": "",
            "description_tooltip": null,
            "layout": "IPY_MODEL_995227c124ba4851a6d401f74f1fd704",
            "placeholder": "​",
            "style": "IPY_MODEL_97e043826eae49c4af6ba561c026dd29",
            "value": "100%"
          }
        },
        "f0c01660801c463988bbdb11190f8021": {
          "model_module": "@jupyter-widgets/controls",
          "model_name": "FloatProgressModel",
          "model_module_version": "1.5.0",
          "state": {
            "_dom_classes": [],
            "_model_module": "@jupyter-widgets/controls",
            "_model_module_version": "1.5.0",
            "_model_name": "FloatProgressModel",
            "_view_count": null,
            "_view_module": "@jupyter-widgets/controls",
            "_view_module_version": "1.5.0",
            "_view_name": "ProgressView",
            "bar_style": "success",
            "description": "",
            "description_tooltip": null,
            "layout": "IPY_MODEL_d7500ec59265491cab613123c4e42296",
            "max": 5,
            "min": 0,
            "orientation": "horizontal",
            "style": "IPY_MODEL_1cc45318b21a4521973d930620988b2c",
            "value": 5
          }
        },
        "65dd036586164c12928225161f6b9bab": {
          "model_module": "@jupyter-widgets/controls",
          "model_name": "HTMLModel",
          "model_module_version": "1.5.0",
          "state": {
            "_dom_classes": [],
            "_model_module": "@jupyter-widgets/controls",
            "_model_module_version": "1.5.0",
            "_model_name": "HTMLModel",
            "_view_count": null,
            "_view_module": "@jupyter-widgets/controls",
            "_view_module_version": "1.5.0",
            "_view_name": "HTMLView",
            "description": "",
            "description_tooltip": null,
            "layout": "IPY_MODEL_d1b14d4742ac48408bc9f8007a71f103",
            "placeholder": "​",
            "style": "IPY_MODEL_3def0f9afd774719ba5da4b0839159ff",
            "value": " 5/5 [00:50&lt;00:00, 10.63s/it, train_loss=2.24, Epoch Time=12]"
          }
        },
        "19ccb0337f7c4200a19c8069e8737521": {
          "model_module": "@jupyter-widgets/base",
          "model_name": "LayoutModel",
          "model_module_version": "1.2.0",
          "state": {
            "_model_module": "@jupyter-widgets/base",
            "_model_module_version": "1.2.0",
            "_model_name": "LayoutModel",
            "_view_count": null,
            "_view_module": "@jupyter-widgets/base",
            "_view_module_version": "1.2.0",
            "_view_name": "LayoutView",
            "align_content": null,
            "align_items": null,
            "align_self": null,
            "border": null,
            "bottom": null,
            "display": null,
            "flex": null,
            "flex_flow": null,
            "grid_area": null,
            "grid_auto_columns": null,
            "grid_auto_flow": null,
            "grid_auto_rows": null,
            "grid_column": null,
            "grid_gap": null,
            "grid_row": null,
            "grid_template_areas": null,
            "grid_template_columns": null,
            "grid_template_rows": null,
            "height": null,
            "justify_content": null,
            "justify_items": null,
            "left": null,
            "margin": null,
            "max_height": null,
            "max_width": null,
            "min_height": null,
            "min_width": null,
            "object_fit": null,
            "object_position": null,
            "order": null,
            "overflow": null,
            "overflow_x": null,
            "overflow_y": null,
            "padding": null,
            "right": null,
            "top": null,
            "visibility": null,
            "width": null
          }
        },
        "995227c124ba4851a6d401f74f1fd704": {
          "model_module": "@jupyter-widgets/base",
          "model_name": "LayoutModel",
          "model_module_version": "1.2.0",
          "state": {
            "_model_module": "@jupyter-widgets/base",
            "_model_module_version": "1.2.0",
            "_model_name": "LayoutModel",
            "_view_count": null,
            "_view_module": "@jupyter-widgets/base",
            "_view_module_version": "1.2.0",
            "_view_name": "LayoutView",
            "align_content": null,
            "align_items": null,
            "align_self": null,
            "border": null,
            "bottom": null,
            "display": null,
            "flex": null,
            "flex_flow": null,
            "grid_area": null,
            "grid_auto_columns": null,
            "grid_auto_flow": null,
            "grid_auto_rows": null,
            "grid_column": null,
            "grid_gap": null,
            "grid_row": null,
            "grid_template_areas": null,
            "grid_template_columns": null,
            "grid_template_rows": null,
            "height": null,
            "justify_content": null,
            "justify_items": null,
            "left": null,
            "margin": null,
            "max_height": null,
            "max_width": null,
            "min_height": null,
            "min_width": null,
            "object_fit": null,
            "object_position": null,
            "order": null,
            "overflow": null,
            "overflow_x": null,
            "overflow_y": null,
            "padding": null,
            "right": null,
            "top": null,
            "visibility": null,
            "width": null
          }
        },
        "97e043826eae49c4af6ba561c026dd29": {
          "model_module": "@jupyter-widgets/controls",
          "model_name": "DescriptionStyleModel",
          "model_module_version": "1.5.0",
          "state": {
            "_model_module": "@jupyter-widgets/controls",
            "_model_module_version": "1.5.0",
            "_model_name": "DescriptionStyleModel",
            "_view_count": null,
            "_view_module": "@jupyter-widgets/base",
            "_view_module_version": "1.2.0",
            "_view_name": "StyleView",
            "description_width": ""
          }
        },
        "d7500ec59265491cab613123c4e42296": {
          "model_module": "@jupyter-widgets/base",
          "model_name": "LayoutModel",
          "model_module_version": "1.2.0",
          "state": {
            "_model_module": "@jupyter-widgets/base",
            "_model_module_version": "1.2.0",
            "_model_name": "LayoutModel",
            "_view_count": null,
            "_view_module": "@jupyter-widgets/base",
            "_view_module_version": "1.2.0",
            "_view_name": "LayoutView",
            "align_content": null,
            "align_items": null,
            "align_self": null,
            "border": null,
            "bottom": null,
            "display": null,
            "flex": null,
            "flex_flow": null,
            "grid_area": null,
            "grid_auto_columns": null,
            "grid_auto_flow": null,
            "grid_auto_rows": null,
            "grid_column": null,
            "grid_gap": null,
            "grid_row": null,
            "grid_template_areas": null,
            "grid_template_columns": null,
            "grid_template_rows": null,
            "height": null,
            "justify_content": null,
            "justify_items": null,
            "left": null,
            "margin": null,
            "max_height": null,
            "max_width": null,
            "min_height": null,
            "min_width": null,
            "object_fit": null,
            "object_position": null,
            "order": null,
            "overflow": null,
            "overflow_x": null,
            "overflow_y": null,
            "padding": null,
            "right": null,
            "top": null,
            "visibility": null,
            "width": null
          }
        },
        "1cc45318b21a4521973d930620988b2c": {
          "model_module": "@jupyter-widgets/controls",
          "model_name": "ProgressStyleModel",
          "model_module_version": "1.5.0",
          "state": {
            "_model_module": "@jupyter-widgets/controls",
            "_model_module_version": "1.5.0",
            "_model_name": "ProgressStyleModel",
            "_view_count": null,
            "_view_module": "@jupyter-widgets/base",
            "_view_module_version": "1.2.0",
            "_view_name": "StyleView",
            "bar_color": null,
            "description_width": ""
          }
        },
        "d1b14d4742ac48408bc9f8007a71f103": {
          "model_module": "@jupyter-widgets/base",
          "model_name": "LayoutModel",
          "model_module_version": "1.2.0",
          "state": {
            "_model_module": "@jupyter-widgets/base",
            "_model_module_version": "1.2.0",
            "_model_name": "LayoutModel",
            "_view_count": null,
            "_view_module": "@jupyter-widgets/base",
            "_view_module_version": "1.2.0",
            "_view_name": "LayoutView",
            "align_content": null,
            "align_items": null,
            "align_self": null,
            "border": null,
            "bottom": null,
            "display": null,
            "flex": null,
            "flex_flow": null,
            "grid_area": null,
            "grid_auto_columns": null,
            "grid_auto_flow": null,
            "grid_auto_rows": null,
            "grid_column": null,
            "grid_gap": null,
            "grid_row": null,
            "grid_template_areas": null,
            "grid_template_columns": null,
            "grid_template_rows": null,
            "height": null,
            "justify_content": null,
            "justify_items": null,
            "left": null,
            "margin": null,
            "max_height": null,
            "max_width": null,
            "min_height": null,
            "min_width": null,
            "object_fit": null,
            "object_position": null,
            "order": null,
            "overflow": null,
            "overflow_x": null,
            "overflow_y": null,
            "padding": null,
            "right": null,
            "top": null,
            "visibility": null,
            "width": null
          }
        },
        "3def0f9afd774719ba5da4b0839159ff": {
          "model_module": "@jupyter-widgets/controls",
          "model_name": "DescriptionStyleModel",
          "model_module_version": "1.5.0",
          "state": {
            "_model_module": "@jupyter-widgets/controls",
            "_model_module_version": "1.5.0",
            "_model_name": "DescriptionStyleModel",
            "_view_count": null,
            "_view_module": "@jupyter-widgets/base",
            "_view_module_version": "1.2.0",
            "_view_name": "StyleView",
            "description_width": ""
          }
        },
        "5b271a19ac5a44c99e0823e8c04b2e32": {
          "model_module": "@jupyter-widgets/controls",
          "model_name": "HBoxModel",
          "model_module_version": "1.5.0",
          "state": {
            "_dom_classes": [],
            "_model_module": "@jupyter-widgets/controls",
            "_model_module_version": "1.5.0",
            "_model_name": "HBoxModel",
            "_view_count": null,
            "_view_module": "@jupyter-widgets/controls",
            "_view_module_version": "1.5.0",
            "_view_name": "HBoxView",
            "box_style": "",
            "children": [
              "IPY_MODEL_bf5ca149a51643879b9fdd055b6f955a",
              "IPY_MODEL_8341f965696344b3a6d650d97f6bc572",
              "IPY_MODEL_5bd211b7f3934f31879d52685ff04eb0"
            ],
            "layout": "IPY_MODEL_446fad64bb764434a34886250ce85f20"
          }
        },
        "bf5ca149a51643879b9fdd055b6f955a": {
          "model_module": "@jupyter-widgets/controls",
          "model_name": "HTMLModel",
          "model_module_version": "1.5.0",
          "state": {
            "_dom_classes": [],
            "_model_module": "@jupyter-widgets/controls",
            "_model_module_version": "1.5.0",
            "_model_name": "HTMLModel",
            "_view_count": null,
            "_view_module": "@jupyter-widgets/controls",
            "_view_module_version": "1.5.0",
            "_view_name": "HTMLView",
            "description": "",
            "description_tooltip": null,
            "layout": "IPY_MODEL_9b8d7b6045c64b42b8e8dd867480c610",
            "placeholder": "​",
            "style": "IPY_MODEL_314b464cd56a4d3bbf63845193abb094",
            "value": "  0%"
          }
        },
        "8341f965696344b3a6d650d97f6bc572": {
          "model_module": "@jupyter-widgets/controls",
          "model_name": "FloatProgressModel",
          "model_module_version": "1.5.0",
          "state": {
            "_dom_classes": [],
            "_model_module": "@jupyter-widgets/controls",
            "_model_module_version": "1.5.0",
            "_model_name": "FloatProgressModel",
            "_view_count": null,
            "_view_module": "@jupyter-widgets/controls",
            "_view_module_version": "1.5.0",
            "_view_name": "ProgressView",
            "bar_style": "danger",
            "description": "",
            "description_tooltip": null,
            "layout": "IPY_MODEL_e776d81fe91d403697edf8b39d3865f6",
            "max": 20,
            "min": 0,
            "orientation": "horizontal",
            "style": "IPY_MODEL_c652a2303622437abf91d77f86fd8cbe",
            "value": 0
          }
        },
        "5bd211b7f3934f31879d52685ff04eb0": {
          "model_module": "@jupyter-widgets/controls",
          "model_name": "HTMLModel",
          "model_module_version": "1.5.0",
          "state": {
            "_dom_classes": [],
            "_model_module": "@jupyter-widgets/controls",
            "_model_module_version": "1.5.0",
            "_model_name": "HTMLModel",
            "_view_count": null,
            "_view_module": "@jupyter-widgets/controls",
            "_view_module_version": "1.5.0",
            "_view_name": "HTMLView",
            "description": "",
            "description_tooltip": null,
            "layout": "IPY_MODEL_6258b0ad8b034781bf27c43752c3e575",
            "placeholder": "​",
            "style": "IPY_MODEL_e9093a7e3d89425e9c22cdff32d4bb0d",
            "value": " 0/20 [00:00&lt;?, ?it/s]"
          }
        },
        "446fad64bb764434a34886250ce85f20": {
          "model_module": "@jupyter-widgets/base",
          "model_name": "LayoutModel",
          "model_module_version": "1.2.0",
          "state": {
            "_model_module": "@jupyter-widgets/base",
            "_model_module_version": "1.2.0",
            "_model_name": "LayoutModel",
            "_view_count": null,
            "_view_module": "@jupyter-widgets/base",
            "_view_module_version": "1.2.0",
            "_view_name": "LayoutView",
            "align_content": null,
            "align_items": null,
            "align_self": null,
            "border": null,
            "bottom": null,
            "display": null,
            "flex": null,
            "flex_flow": null,
            "grid_area": null,
            "grid_auto_columns": null,
            "grid_auto_flow": null,
            "grid_auto_rows": null,
            "grid_column": null,
            "grid_gap": null,
            "grid_row": null,
            "grid_template_areas": null,
            "grid_template_columns": null,
            "grid_template_rows": null,
            "height": null,
            "justify_content": null,
            "justify_items": null,
            "left": null,
            "margin": null,
            "max_height": null,
            "max_width": null,
            "min_height": null,
            "min_width": null,
            "object_fit": null,
            "object_position": null,
            "order": null,
            "overflow": null,
            "overflow_x": null,
            "overflow_y": null,
            "padding": null,
            "right": null,
            "top": null,
            "visibility": null,
            "width": null
          }
        },
        "9b8d7b6045c64b42b8e8dd867480c610": {
          "model_module": "@jupyter-widgets/base",
          "model_name": "LayoutModel",
          "model_module_version": "1.2.0",
          "state": {
            "_model_module": "@jupyter-widgets/base",
            "_model_module_version": "1.2.0",
            "_model_name": "LayoutModel",
            "_view_count": null,
            "_view_module": "@jupyter-widgets/base",
            "_view_module_version": "1.2.0",
            "_view_name": "LayoutView",
            "align_content": null,
            "align_items": null,
            "align_self": null,
            "border": null,
            "bottom": null,
            "display": null,
            "flex": null,
            "flex_flow": null,
            "grid_area": null,
            "grid_auto_columns": null,
            "grid_auto_flow": null,
            "grid_auto_rows": null,
            "grid_column": null,
            "grid_gap": null,
            "grid_row": null,
            "grid_template_areas": null,
            "grid_template_columns": null,
            "grid_template_rows": null,
            "height": null,
            "justify_content": null,
            "justify_items": null,
            "left": null,
            "margin": null,
            "max_height": null,
            "max_width": null,
            "min_height": null,
            "min_width": null,
            "object_fit": null,
            "object_position": null,
            "order": null,
            "overflow": null,
            "overflow_x": null,
            "overflow_y": null,
            "padding": null,
            "right": null,
            "top": null,
            "visibility": null,
            "width": null
          }
        },
        "314b464cd56a4d3bbf63845193abb094": {
          "model_module": "@jupyter-widgets/controls",
          "model_name": "DescriptionStyleModel",
          "model_module_version": "1.5.0",
          "state": {
            "_model_module": "@jupyter-widgets/controls",
            "_model_module_version": "1.5.0",
            "_model_name": "DescriptionStyleModel",
            "_view_count": null,
            "_view_module": "@jupyter-widgets/base",
            "_view_module_version": "1.2.0",
            "_view_name": "StyleView",
            "description_width": ""
          }
        },
        "e776d81fe91d403697edf8b39d3865f6": {
          "model_module": "@jupyter-widgets/base",
          "model_name": "LayoutModel",
          "model_module_version": "1.2.0",
          "state": {
            "_model_module": "@jupyter-widgets/base",
            "_model_module_version": "1.2.0",
            "_model_name": "LayoutModel",
            "_view_count": null,
            "_view_module": "@jupyter-widgets/base",
            "_view_module_version": "1.2.0",
            "_view_name": "LayoutView",
            "align_content": null,
            "align_items": null,
            "align_self": null,
            "border": null,
            "bottom": null,
            "display": null,
            "flex": null,
            "flex_flow": null,
            "grid_area": null,
            "grid_auto_columns": null,
            "grid_auto_flow": null,
            "grid_auto_rows": null,
            "grid_column": null,
            "grid_gap": null,
            "grid_row": null,
            "grid_template_areas": null,
            "grid_template_columns": null,
            "grid_template_rows": null,
            "height": null,
            "justify_content": null,
            "justify_items": null,
            "left": null,
            "margin": null,
            "max_height": null,
            "max_width": null,
            "min_height": null,
            "min_width": null,
            "object_fit": null,
            "object_position": null,
            "order": null,
            "overflow": null,
            "overflow_x": null,
            "overflow_y": null,
            "padding": null,
            "right": null,
            "top": null,
            "visibility": null,
            "width": null
          }
        },
        "c652a2303622437abf91d77f86fd8cbe": {
          "model_module": "@jupyter-widgets/controls",
          "model_name": "ProgressStyleModel",
          "model_module_version": "1.5.0",
          "state": {
            "_model_module": "@jupyter-widgets/controls",
            "_model_module_version": "1.5.0",
            "_model_name": "ProgressStyleModel",
            "_view_count": null,
            "_view_module": "@jupyter-widgets/base",
            "_view_module_version": "1.2.0",
            "_view_name": "StyleView",
            "bar_color": null,
            "description_width": ""
          }
        },
        "6258b0ad8b034781bf27c43752c3e575": {
          "model_module": "@jupyter-widgets/base",
          "model_name": "LayoutModel",
          "model_module_version": "1.2.0",
          "state": {
            "_model_module": "@jupyter-widgets/base",
            "_model_module_version": "1.2.0",
            "_model_name": "LayoutModel",
            "_view_count": null,
            "_view_module": "@jupyter-widgets/base",
            "_view_module_version": "1.2.0",
            "_view_name": "LayoutView",
            "align_content": null,
            "align_items": null,
            "align_self": null,
            "border": null,
            "bottom": null,
            "display": null,
            "flex": null,
            "flex_flow": null,
            "grid_area": null,
            "grid_auto_columns": null,
            "grid_auto_flow": null,
            "grid_auto_rows": null,
            "grid_column": null,
            "grid_gap": null,
            "grid_row": null,
            "grid_template_areas": null,
            "grid_template_columns": null,
            "grid_template_rows": null,
            "height": null,
            "justify_content": null,
            "justify_items": null,
            "left": null,
            "margin": null,
            "max_height": null,
            "max_width": null,
            "min_height": null,
            "min_width": null,
            "object_fit": null,
            "object_position": null,
            "order": null,
            "overflow": null,
            "overflow_x": null,
            "overflow_y": null,
            "padding": null,
            "right": null,
            "top": null,
            "visibility": null,
            "width": null
          }
        },
        "e9093a7e3d89425e9c22cdff32d4bb0d": {
          "model_module": "@jupyter-widgets/controls",
          "model_name": "DescriptionStyleModel",
          "model_module_version": "1.5.0",
          "state": {
            "_model_module": "@jupyter-widgets/controls",
            "_model_module_version": "1.5.0",
            "_model_name": "DescriptionStyleModel",
            "_view_count": null,
            "_view_module": "@jupyter-widgets/base",
            "_view_module_version": "1.2.0",
            "_view_name": "StyleView",
            "description_width": ""
          }
        }
      }
    }
  },
  "cells": [
    {
      "cell_type": "markdown",
      "metadata": {
        "id": "UJPLI9ftMAaw"
      },
      "source": [
        "# Energy-Based models and structured prediction\n",
        "\n",
        "In this assignment we're going to work with structured prediction. Structured prediction broadly refers to any problem involving predicting structured values, as opposed to plain scalars. Examples of structured outputs include graphs and text.\n",
        "\n",
        "We're going to work with text. The task is to transcribe a word from an image. The difficulty here is that different words have different lengths, so we can't just have fixed number of outputs.\n",
        "\n",
        "In this assignment, we will implement a dynamic programming algorithm to align\n",
        "the text image with the predictions. Optionally, we will also compare our solution to GTN framework."
      ]
    },
    {
      "cell_type": "markdown",
      "metadata": {
        "id": "tV00UHhRX2PR"
      },
      "source": [
        "# Resources\n",
        "\n",
        "GTN framework has support for finding Viterbi paths and training the prediction. The below links can be helpful in solving this homework\\:\n",
        "- [CTC](https://distill.pub/2017/ctc/)\n",
        "- [Weighted Automata in ML](https://awnihannun.com/writing/automata_ml/automata_in_machine_learning.pdf)\n",
        "\n",
        "Additional Links\\:\n",
        "- [GTN](https://github.com/gtn-org/gtn)\n",
        "- [GTN Documentation](https://gtn.readthedocs.io/en/latest/)\n",
        "- [GTN Applications](https://github.com/facebookresearch/gtn_applications)"
      ]
    },
    {
      "cell_type": "code",
      "metadata": {
        "id": "n6zAuP7UXxzy",
        "colab": {
          "base_uri": "https://localhost:8080/"
        },
        "outputId": "38b03ff7-1feb-40ed-bfa7-15b731a9e9d7"
      },
      "source": [
        "!pip install gtn==0.0.0"
      ],
      "execution_count": 1,
      "outputs": [
        {
          "output_type": "stream",
          "name": "stdout",
          "text": [
            "Collecting gtn==0.0.0\n",
            "  Downloading gtn-0.0.0.tar.gz (45 kB)\n",
            "\u001b[?25l     \u001b[90m━━━━━━━━━━━━━━━━━━━━━━━━━━━━━━━━━━━━━━━━\u001b[0m \u001b[32m0.0/45.9 kB\u001b[0m \u001b[31m?\u001b[0m eta \u001b[36m-:--:--\u001b[0m\r\u001b[2K     \u001b[90m━━━━━━━━━━━━━━━━━━━━━━━━━━━━━━━━━━━━━━━━\u001b[0m \u001b[32m45.9/45.9 kB\u001b[0m \u001b[31m1.6 MB/s\u001b[0m eta \u001b[36m0:00:00\u001b[0m\n",
            "\u001b[?25h  Preparing metadata (setup.py) ... \u001b[?25l\u001b[?25hdone\n",
            "Building wheels for collected packages: gtn\n",
            "  Building wheel for gtn (setup.py) ... \u001b[?25l\u001b[?25hdone\n",
            "  Created wheel for gtn: filename=gtn-0.0.0-cp310-cp310-linux_x86_64.whl size=600306 sha256=d3f7b6f0edb44b15de7cbdc72909d4ac1a5766c80519b4118c94c19fffc77084\n",
            "  Stored in directory: /root/.cache/pip/wheels/e9/0b/a7/9e5be496b56a22486f914f9b292c96368aff105b9388d4b1dd\n",
            "Successfully built gtn\n",
            "Installing collected packages: gtn\n",
            "Successfully installed gtn-0.0.0\n"
          ]
        }
      ]
    },
    {
      "cell_type": "markdown",
      "metadata": {
        "id": "5KREhDlCMAa7"
      },
      "source": [
        "## Dataset\n",
        "As always, the first thing to do is implementing the dataset. We're going to create a dataset that creates images of random words. We'll also include some augmentations, such as jitter (moving the character horizontally)."
      ]
    },
    {
      "cell_type": "code",
      "metadata": {
        "id": "jg1AZlskMF8d",
        "colab": {
          "base_uri": "https://localhost:8080/"
        },
        "outputId": "39f7a4f6-d118-4149-ea64-40336c2aec37"
      },
      "source": [
        "! mkdir fonts\n",
        "! curl --output fonts/font.zip https://www.fontsquirrel.com/fonts/download/Anonymous\n",
        "! unzip -n fonts/font.zip -d fonts"
      ],
      "execution_count": 2,
      "outputs": [
        {
          "output_type": "stream",
          "name": "stdout",
          "text": [
            "  % Total    % Received % Xferd  Average Speed   Time    Time     Time  Current\n",
            "                                 Dload  Upload   Total   Spent    Left  Speed\n",
            "100 29805  100 29805    0     0  60996      0 --:--:-- --:--:-- --:--:-- 60950\n",
            "Archive:  fonts/font.zip\n",
            "  inflating: fonts/Anonymous.ttf     \n",
            "  inflating: fonts/Mark Simonson - Anonymous License.txt  \n"
          ]
        }
      ]
    },
    {
      "cell_type": "code",
      "metadata": {
        "id": "hhX6fPd7MAa7",
        "colab": {
          "base_uri": "https://localhost:8080/",
          "height": 466
        },
        "outputId": "c2ddd34b-a0b6-42e7-b621-26f2a82069c5"
      },
      "source": [
        "from PIL import ImageDraw, ImageFont\n",
        "import string\n",
        "import random\n",
        "import torch\n",
        "import torchvision\n",
        "from torchvision import transforms\n",
        "from PIL import Image # PIL is a library to process images\n",
        "from matplotlib import pyplot as plt\n",
        "import gtn\n",
        "\n",
        "simple_transforms = transforms.Compose([\n",
        "                                    transforms.ToTensor(),\n",
        "                                ])\n",
        "\n",
        "class SimpleWordsDataset(torch.utils.data.IterableDataset):\n",
        "\n",
        "  def __init__(self, max_length, len=100, jitter=False, noise=False):\n",
        "    self.max_length = max_length\n",
        "    self.transforms = transforms.ToTensor()\n",
        "    self.len = len\n",
        "    self.jitter = jitter\n",
        "    self.noise = noise\n",
        "\n",
        "  def __len__(self):\n",
        "    return self.len\n",
        "\n",
        "  def __iter__(self):\n",
        "    for _ in range(self.len):\n",
        "        text = ''.join([random.choice(string.ascii_lowercase) for i in range(self.max_length)])\n",
        "        img = self.draw_text(text, jitter=self.jitter, noise=self.noise)\n",
        "        yield img, text\n",
        "\n",
        "  def draw_text(self, text, length=None, jitter=False, noise=False):\n",
        "    if length == None:\n",
        "        length = 18 * len(text)\n",
        "    img = Image.new('L', (length, 32))\n",
        "    fnt = ImageFont.truetype(\"fonts/Anonymous.ttf\", 20)\n",
        "\n",
        "    d = ImageDraw.Draw(img)\n",
        "    pos = (0, 5)\n",
        "    if jitter:\n",
        "        pos = (random.randint(0, 7), 5)\n",
        "    else:\n",
        "        pos = (0, 5)\n",
        "    d.text(pos, text, fill=1, font=fnt)\n",
        "\n",
        "    img = self.transforms(img)\n",
        "    img[img > 0] = 1\n",
        "\n",
        "    if noise:\n",
        "        img += torch.bernoulli(torch.ones_like(img) * 0.1)\n",
        "        img = img.clamp(0, 1)\n",
        "\n",
        "\n",
        "    return img[0]\n",
        "\n",
        "sds = SimpleWordsDataset(1, jitter=True, noise=False)\n",
        "img = next(iter(sds))[0]\n",
        "print(img.shape)\n",
        "plt.imshow(img)"
      ],
      "execution_count": 3,
      "outputs": [
        {
          "output_type": "stream",
          "name": "stdout",
          "text": [
            "torch.Size([32, 18])\n"
          ]
        },
        {
          "output_type": "execute_result",
          "data": {
            "text/plain": [
              "<matplotlib.image.AxesImage at 0x7ed698103e50>"
            ]
          },
          "metadata": {},
          "execution_count": 3
        },
        {
          "output_type": "display_data",
          "data": {
            "text/plain": [
              "<Figure size 640x480 with 1 Axes>"
            ],
            "image/png": "[encoded data removed]"
          },
          "metadata": {}
        }
      ]
    },
    {
      "cell_type": "markdown",
      "metadata": {
        "id": "IEc69CZ_MAbK"
      },
      "source": [
        "We can look at what the entire alphabet looks like in this dataset."
      ]
    },
    {
      "cell_type": "code",
      "metadata": {
        "scrolled": false,
        "id": "j2QnA4u0MAbK",
        "colab": {
          "base_uri": "https://localhost:8080/",
          "height": 578
        },
        "outputId": "ed7bb2b3-a200-42e5-824e-9ff508eb0ab2"
      },
      "source": [
        "fig, ax = plt.subplots(3, 9, figsize=(12, 6), dpi=200)\n",
        "\n",
        "for i, c in enumerate(string.ascii_lowercase):\n",
        "    row = i // 9\n",
        "    col = i % 9\n",
        "    ax[row][col].imshow(sds.draw_text(c))\n",
        "    ax[row][col].axis('off')\n",
        "ax[2][8].axis('off')\n",
        "\n",
        "plt.show()"
      ],
      "execution_count": 4,
      "outputs": [
        {
          "output_type": "display_data",
          "data": {
            "text/plain": [
              "<Figure size 2400x1200 with 27 Axes>"
            ],
            "image/png": "[encoded data removed]"
          },
          "metadata": {}
        }
      ]
    },
    {
      "cell_type": "markdown",
      "metadata": {
        "id": "SG9jGHccMAbL"
      },
      "source": [
        "We can also put the entire alphabet in one image."
      ]
    },
    {
      "cell_type": "code",
      "metadata": {
        "id": "8BMT8uIFMAbM",
        "colab": {
          "base_uri": "https://localhost:8080/",
          "height": 168
        },
        "outputId": "a5bd7c32-b31a-4c34-8347-335fb4e0fd74"
      },
      "source": [
        "alphabet = sds.draw_text(string.ascii_lowercase, 340)\n",
        "plt.figure(dpi=200)\n",
        "plt.imshow(alphabet)\n",
        "plt.axis('off')"
      ],
      "execution_count": 5,
      "outputs": [
        {
          "output_type": "execute_result",
          "data": {
            "text/plain": [
              "(-0.5, 339.5, 31.5, -0.5)"
            ]
          },
          "metadata": {},
          "execution_count": 5
        },
        {
          "output_type": "display_data",
          "data": {
            "text/plain": [
              "<Figure size 1280x960 with 1 Axes>"
            ],
            "image/png": "[encoded data removed]"
          },
          "metadata": {}
        }
      ]
    },
    {
      "cell_type": "markdown",
      "metadata": {
        "id": "MreUfYMLMAbM"
      },
      "source": [
        "## Model definition\n",
        "Before we define the model, we define the size of our alphabet. Our alphabet consists of lowercase English letters, and additionally a special character used for space between symbols or before and after the word. For the first part of this assignment, we don't need that extra character.\n",
        "\n",
        "Our end goal is to learn to transcribe words of arbitrary length. However, first, we pre-train our simple convolutional neural net to recognize single characters. In order to be able to use the same model for one character and for entire words, we are going to design the model in a way that makes sure that the output size for one character (or when input image size is 32x18) is 1x27, and Kx27 whenever the input image is wider. K here will depend on particular architecture of the network, and is affected by strides, poolings, among other things.\n",
        "A little bit more formally, our model $f_\\theta$, for an input image $x$ gives output energies $l = f_\\theta(x)$. If $x \\in \\mathbb{R}^{32 \\times 18}$, then $l \\in \\mathbb{R}^{1 \\times 27}$.\n",
        "If $x \\in \\mathbb{R}^{32 \\times 100}$ for example, our model may output $l \\in \\mathbb{R}^{10 \\times 27}$, where $l_i$ corresponds to a particular window in $x$, for example from $x_{0, 9i}$ to $x_{32, 9i + 18}$ (again, this will depend on the particular architecture).\n",
        "\n",
        "Below is a drawing that explains the sliding window concept. We use the same neural net with the same weights to get $l_1, l_2, l_3$, the only difference is receptive field. $l_1$ is looks at the leftmost part, at character 'c', $l_2$ looks at 'a', and $l_3$ looks at 't'. The receptive field may or may not overlap, depending on how you design your convolutions.\n",
        "\n",
        "![cat.png](https://i.imgur.com/JByfyKh.png)"
      ]
    },
    {
      "cell_type": "code",
      "metadata": {
        "id": "qQWNtXbkMAbO"
      },
      "source": [
        "# constants for number of classes in total, and for the special extra character for empty space\n",
        "ALPHABET_SIZE = 27\n",
        "BETWEEN = 26"
      ],
      "execution_count": 6,
      "outputs": []
    },
    {
      "cell_type": "code",
      "metadata": {
        "id": "nzj7g7fXMAbO"
      },
      "source": [
        "from torch import nn\n",
        "import torch.nn.functional as F\n",
        "device = 'cuda' if torch.cuda.is_available() else 'cpu'\n",
        "\n",
        "class SimpleNet(torch.nn.Module):\n",
        "    def __init__(self):\n",
        "        super().__init__()\n",
        "        self.window_size = 10\n",
        "        self.window_interval = 4\n",
        "        self.layer1 = nn.Sequential(\n",
        "            nn.Conv2d(1, 32, 3, padding=1),\n",
        "            nn.BatchNorm2d(32),\n",
        "            nn.ReLU(),\n",
        "            nn.MaxPool2d(2),\n",
        "        )\n",
        "        self.layer2 = nn.Sequential(\n",
        "            nn.Conv2d(32, 64, 3, padding=1),\n",
        "            nn.BatchNorm2d(64),\n",
        "            nn.ReLU(),\n",
        "            nn.MaxPool2d(2),\n",
        "        )\n",
        "        self.layer3 = nn.Sequential(\n",
        "            nn.Conv2d(64, 64, 3, padding=1),\n",
        "            nn.BatchNorm2d(64),\n",
        "            nn.ReLU(),\n",
        "            nn.Conv2d(64, 64, 3, padding=1),\n",
        "            nn.BatchNorm2d(64),\n",
        "            nn.ReLU(),\n",
        "        )\n",
        "        self.fc = nn.Sequential(\n",
        "            nn.Linear(64 * 8 * (self.window_size // 4), 128),\n",
        "            nn.ReLU(),\n",
        "            nn.Linear(128, 27),\n",
        "        )\n",
        "\n",
        "    def forward(self, x):\n",
        "        n_windows = (x.shape[-1] - self.window_size) // self.window_interval + 1\n",
        "        ret = torch.zeros(x.shape[0], n_windows, 27, device=device)\n",
        "\n",
        "        for i in range(n_windows):\n",
        "            start = i * self.window_interval\n",
        "            end = start + self.window_size\n",
        "            temp = x[:, :, :, start:end]\n",
        "            temp = self.layer1(temp)\n",
        "            temp = self.layer2(temp)\n",
        "            temp = self.layer3(temp)\n",
        "            temp = temp.view(-1, 64 * 8 * (self.window_size // 4))\n",
        "            temp = self.fc(temp)\n",
        "            ret[:, i, :] = temp\n",
        "\n",
        "        return ret"
      ],
      "execution_count": 7,
      "outputs": []
    },
    {
      "cell_type": "markdown",
      "metadata": {
        "id": "YbW54IbwMAbP"
      },
      "source": [
        "Let's initalize the model and apply it to the alphabet image:"
      ]
    },
    {
      "cell_type": "code",
      "metadata": {
        "id": "iKTeZ3V1MAbP",
        "colab": {
          "base_uri": "https://localhost:8080/",
          "height": 382
        },
        "outputId": "ab4a8b71-5f1a-4c43-bc86-ecf02ee939d5"
      },
      "source": [
        "model = SimpleNet()\n",
        "alphabet_energies = model(alphabet.view(1, 1, *alphabet.shape))\n",
        "\n",
        "def plot_energies(ce):\n",
        "    fig=plt.figure(dpi=200)\n",
        "    ax = plt.axes()\n",
        "    im = ax.imshow(ce.cpu().T)\n",
        "\n",
        "    ax.set_xlabel('window locations →')\n",
        "    ax.set_ylabel('← classes')\n",
        "    ax.xaxis.set_label_position('top')\n",
        "    ax.set_xticks([])\n",
        "    ax.set_yticks([])\n",
        "\n",
        "    cax = fig.add_axes([ax.get_position().x1+0.01,ax.get_position().y0,0.02,ax.get_position().height])\n",
        "    plt.colorbar(im, cax=cax)\n",
        "\n",
        "plot_energies(alphabet_energies[0].detach())"
      ],
      "execution_count": 8,
      "outputs": [
        {
          "output_type": "display_data",
          "data": {
            "text/plain": [
              "<Figure size 1280x960 with 2 Axes>"
            ],
            "image/png": "[encoded data removed]"
          },
          "metadata": {}
        }
      ]
    },
    {
      "cell_type": "markdown",
      "metadata": {
        "id": "wcVdVdZCMAbQ"
      },
      "source": [
        "So far we only see random outputs, because the classifier is untrained."
      ]
    },
    {
      "cell_type": "markdown",
      "metadata": {
        "id": "Tm7ANbUIMAbQ"
      },
      "source": [
        "## Train with one character"
      ]
    },
    {
      "cell_type": "markdown",
      "metadata": {
        "id": "HN5j048fMAbR"
      },
      "source": [
        "Now we train the model we've created on a dataset where images contain only single characters. Note the changed cross_entropy function."
      ]
    },
    {
      "cell_type": "code",
      "metadata": {
        "id": "Df9KcwADOE1E"
      },
      "source": [
        "def train_model(model, epochs, dataloader, criterion, optimizer):\n",
        "    model.train()\n",
        "    for epoch in range(epochs):\n",
        "        running_loss = 0.0\n",
        "        running_acc = 0.0\n",
        "\n",
        "        pbar = tqdm(dataloader, total=len(dataloader))\n",
        "        for img, text in pbar:\n",
        "            img = img.cuda()\n",
        "            img = img.unsqueeze(1)\n",
        "            text = text.cuda()\n",
        "\n",
        "            optimizer.zero_grad()\n",
        "\n",
        "            output = model(img)\n",
        "            energy = output[:, 0, :]\n",
        "            acc = (energy.argmin(dim=-1) == text).float().mean()\n",
        "            loss = criterion(energy, text)\n",
        "\n",
        "            loss.backward()\n",
        "            optimizer.step()\n",
        "\n",
        "            running_loss += loss.item()\n",
        "            running_acc += acc.item()\n",
        "\n",
        "            pbar.set_postfix(epoch=epoch, loss=loss.item(), acc=acc.item())\n",
        "\n",
        "        epoch_loss = running_loss / len(dataloader)\n",
        "        epoch_acc = running_acc / len(dataloader)\n",
        "        print(f'Epoch {epoch+1}, Loss: {epoch_loss:.4f}, Acc: {epoch_acc:.4f}')\n",
        "\n",
        "    return model"
      ],
      "execution_count": 9,
      "outputs": []
    },
    {
      "cell_type": "code",
      "metadata": {
        "id": "DccqG9qKMAbR",
        "colab": {
          "base_uri": "https://localhost:8080/",
          "height": 516,
          "referenced_widgets": [
            "a802953e533d40ec8caca02d5e693650",
            "82262d75cac14992ada832064b88101e",
            "5c1ced0f9d8842d8a6f025a1f1a62b57",
            "a1998dfdfab04a6aade8c08b0415607c",
            "064778c76b264ecda0cb353d76f9a623",
            "8711382c607843ebb02314b5dae64c0e",
            "fe0672e6f933453aa861174d5ad088eb",
            "38e281c1a5e74285a18e9237c6f608a8",
            "ca2ccaf34c094abebe0b8f54b4e6361a",
            "1b342331e383492aab8b4af24edbdfb1",
            "681e99369f2d40fe9cb0784e3111b59f",
            "de48324560eb49e3bfa73148ca0e9a98",
            "f25dbd5062954aac819a776f0863b4ce",
            "e5bae15b5927490abd04e4aa59920f51",
            "cce748d8dac64b01a66698a6f34c3a65",
            "c9f96447b86a4f0d8f1e72d61961d833",
            "12e93b1bee3348c1b3df0893243b1c9b",
            "b835f7a6c130472cae9410b1de4939fe",
            "3d9825ae71fb4afda0181a19fb2dbcd7",
            "e064fac5b40f457fa50125676b8cb15f",
            "1418ba6b48584bf89f032a6fafdbce94",
            "83e7b059cca249b3aba39b71f45753cc",
            "4bbbf7d116434b1d9238a6901377f311",
            "182901eba98c47faa63cd9b7f8646f49",
            "cdca5f9b315f4fafa2c5a12d219b8010",
            "17e0b769a07e42daae35ef1bf58b0e78",
            "4c2075e554d94c188affdd46e8ba4a25",
            "f9120cd74fd248158f0c8b87bb0bcf33",
            "c6cdd6af011e49c0b7b512f9602148b6",
            "3d5a9ff64d7e42999ae711b3fb24e5ea",
            "c5c46b41bc3043bfa21711db88854596",
            "73b62da4539743d2a4d62f19e5d70a7b",
            "b524c40badbc4612b775133977a3e306",
            "3916507a4b6448169bdf6a5c5351fc87",
            "ffa3fd2f89514bc4baac9df7beee0f58",
            "44833fae21624a11ae38800329b2046b",
            "2e40d7e13fd2412a9f7600a0be94a9b4",
            "8dbb28bb04df4f42bca34a106fbcd7e7",
            "f459620dfbcc431891595fde2b5ba97b",
            "7aef2efc26b9473e95a7631a258be020",
            "dd59eeafed2e4d2fb1104a367015c7bb",
            "1975c03723ba4099b3c88ce262dd122d",
            "8db17a1086b34e12b334d072088ef1f6",
            "83e38646bd1c423881b360f8b817c5c0",
            "0c6bde4c00694ad1b066ec42cff80c55",
            "64265e3a953b480590a2796c05aa25ba",
            "98ec6abfacc94305be45934480b4be40",
            "dfa4bd35724846f18be07cb634db497a",
            "5d210fe3c9924549bac79befa2c6d6de",
            "561e6a23be5f4862baef5dda8ccc70a5",
            "d07d4ab174e748cfbd96b0420f59d5fc",
            "8bbc1409a7b147468c0acd12972afad1",
            "c5e0b75ccba24d78999961e136f1020e",
            "542233f6aeab45d281946db7189a5341",
            "62496698c0564f438baeda5608a38c20",
            "6eff881b733f4702bb0d10920a39a16d",
            "17c2f8bde540435b8a6813c93dd3d82a",
            "cb9834a3720643aa8ae8f6e0758d5797",
            "32f3236aa05c43a8a04227578dbd81fc",
            "022b498d38f34d979a06bd52c193b275",
            "e1d31759e9f84471843840be205ffae9",
            "b95870916d284109a87d5bc6aac524b2",
            "fe5f719985f74880bf0e8e4c470c0935",
            "cdab7238538a42139364ec3cc83a4234",
            "77b20a18704244988d8d86ae0675b29e",
            "49c56b16d54d45f5b908c1208ba588d5",
            "4d2c2fd531ca45f19c2e603d82b01682",
            "5c0e3f5ef559424d8b5c2bc535d3182f",
            "9ff9e51ce726441f8026ddaaacd7d714",
            "6d72aa23b73b403ea8c8f81f89f4f684",
            "0d5fdaf1dc6b428fa375464bc3a3c83f",
            "f1704211604742d183be4893d8bd6fdc",
            "d7a3e642b44d4fd2b23e00a44b45a81a",
            "c0d49d0cb2494aa8b6ed5708ba9c303c",
            "97a5f756116944a6bddc5ec1778bb3ff",
            "a5e681c1d79942398f9f8d86d72b0fa9",
            "643a89bcde0442458a9a3b1480dd5e96",
            "f85f19f9d6f74c09b90956f1a3390b62",
            "169699e84b5348b4921aa104c92c6cb7",
            "c13045f1d9a34e4bab903021431ded8f",
            "4ac5a1339d94402d8f420aa0693bbd52",
            "62a7cb6360594b1580b804f84eca404c",
            "6cf9fda9a22d4a679d1a66c3ab6343e1",
            "154c46347e374a00b8559bde8859593f",
            "19e435e678ca4eb3b7a94220634b59fb",
            "cda10d5935c54468b81eb50c4b24e30d",
            "a89cfcaa54364f9ca5e4d087111b8262",
            "28992a49a3ec48c8bf5233d6e34445ef",
            "679c26c38df74e7ba71d6106975c54b4",
            "dda44b66ba44423d9a7a52f3b06656c5",
            "d01a70d313334e91b572f76312d37be4",
            "4803b9e6935247e88df8caf3d388f7c2",
            "efd3829e789446d49ddb8c1d83de6718",
            "b9aa0bcf1ea2416fb4f55aff8d223851",
            "f165ac2b9bc34ce294c26a1425cfb63c",
            "f8b7cecabc7644599f0f7d60a92f24be",
            "4173788c336441e1b1a02464f6f0852d",
            "eb246eca6d834e45a45adb79f9fa186e",
            "7b37de85000245ddb0893fd91cf0f12c",
            "d7d6f37b791847f3b4f7485ea1dcfaae",
            "2dc77dcba65c4097b9eca4c9aac6349d",
            "36ef12c426c847188d1a4384ff29c433",
            "f12c6e8c96ce4c949c25ed10b94564d6",
            "05c62099dfe84789b4f40e29f42916c3",
            "1bc661e2f858415e8942621dca18db26",
            "49ba4dee8f284beb8a0a13c6c4d8c6be",
            "7c561bc81b9a481aa0bbd4aeb1f477be",
            "cbca84628f9d4b01bf7271aeccb59b83",
            "03fe9f58f4e74b2a9546120c7cae4c57",
            "1cd87eed05d74f8a9763fe596bdb4913"
          ]
        },
        "outputId": "2b302fbb-4659-4542-fea1-074e5c8030ae"
      },
      "source": [
        "from tqdm.notebook import tqdm\n",
        "import torch.optim as optim\n",
        "\n",
        "def cross_entropy(energies, *args, **kwargs):\n",
        "    \"\"\" We use energies, and therefore we need to use log soft arg min instead\n",
        "        of log soft arg max. To do that we just multiply energies by -1. \"\"\"\n",
        "    return nn.functional.cross_entropy(-1 * energies, *args, **kwargs)\n",
        "\n",
        "def simple_collate_fn(samples):\n",
        "    images, annotations = zip(*samples)\n",
        "    images = list(images)\n",
        "    annotations = list(annotations)\n",
        "    annotations = list(map(lambda c : torch.tensor(ord(c) - ord('a')), annotations))\n",
        "    m_width = max(18, max([i.shape[1] for i in images]))\n",
        "    for i in range(len(images)):\n",
        "        images[i] = torch.nn.functional.pad(images[i], (0, m_width - images[i].shape[-1]))\n",
        "\n",
        "    if len(images) == 1:\n",
        "        return images[0].unsqueeze(0), torch.stack(annotations)\n",
        "    else:\n",
        "        return torch.stack(images), torch.stack(annotations)\n",
        "\n",
        "sds = SimpleWordsDataset(1, len=1000, jitter=True, noise=False)\n",
        "dataloader = torch.utils.data.DataLoader(sds, batch_size=16, num_workers=0, collate_fn=simple_collate_fn)\n",
        "\n",
        "model.cuda()\n",
        "# TODO: initialize optimizer\n",
        "optimizer = optim.Adam(model.parameters(), lr=0.001)\n",
        "\n",
        "# TODO: train the model on the one-character dataset\n",
        "model = train_model(model, epochs=10, dataloader=dataloader, criterion=cross_entropy, optimizer=optimizer)\n"
      ],
      "execution_count": 10,
      "outputs": [
        {
          "output_type": "display_data",
          "data": {
            "text/plain": [
              "  0%|          | 0/63 [00:00<?, ?it/s]"
            ],
            "application/vnd.jupyter.widget-view+json": {
              "version_major": 2,
              "version_minor": 0,
              "model_id": "a802953e533d40ec8caca02d5e693650"
            }
          },
          "metadata": {}
        },
        {
          "output_type": "stream",
          "name": "stdout",
          "text": [
            "Epoch 1, Loss: 1.8034, Acc: 0.5238\n"
          ]
        },
        {
          "output_type": "display_data",
          "data": {
            "text/plain": [
              "  0%|          | 0/63 [00:00<?, ?it/s]"
            ],
            "application/vnd.jupyter.widget-view+json": {
              "version_major": 2,
              "version_minor": 0,
              "model_id": "de48324560eb49e3bfa73148ca0e9a98"
            }
          },
          "metadata": {}
        },
        {
          "output_type": "stream",
          "name": "stdout",
          "text": [
            "Epoch 2, Loss: 0.3003, Acc: 0.8978\n"
          ]
        },
        {
          "output_type": "display_data",
          "data": {
            "text/plain": [
              "  0%|          | 0/63 [00:00<?, ?it/s]"
            ],
            "application/vnd.jupyter.widget-view+json": {
              "version_major": 2,
              "version_minor": 0,
              "model_id": "4bbbf7d116434b1d9238a6901377f311"
            }
          },
          "metadata": {}
        },
        {
          "output_type": "stream",
          "name": "stdout",
          "text": [
            "Epoch 3, Loss: 0.1597, Acc: 0.9415\n"
          ]
        },
        {
          "output_type": "display_data",
          "data": {
            "text/plain": [
              "  0%|          | 0/63 [00:00<?, ?it/s]"
            ],
            "application/vnd.jupyter.widget-view+json": {
              "version_major": 2,
              "version_minor": 0,
              "model_id": "3916507a4b6448169bdf6a5c5351fc87"
            }
          },
          "metadata": {}
        },
        {
          "output_type": "stream",
          "name": "stdout",
          "text": [
            "Epoch 4, Loss: 0.1785, Acc: 0.9345\n"
          ]
        },
        {
          "output_type": "display_data",
          "data": {
            "text/plain": [
              "  0%|          | 0/63 [00:00<?, ?it/s]"
            ],
            "application/vnd.jupyter.widget-view+json": {
              "version_major": 2,
              "version_minor": 0,
              "model_id": "0c6bde4c00694ad1b066ec42cff80c55"
            }
          },
          "metadata": {}
        },
        {
          "output_type": "stream",
          "name": "stdout",
          "text": [
            "Epoch 5, Loss: 0.1638, Acc: 0.9256\n"
          ]
        },
        {
          "output_type": "display_data",
          "data": {
            "text/plain": [
              "  0%|          | 0/63 [00:00<?, ?it/s]"
            ],
            "application/vnd.jupyter.widget-view+json": {
              "version_major": 2,
              "version_minor": 0,
              "model_id": "6eff881b733f4702bb0d10920a39a16d"
            }
          },
          "metadata": {}
        },
        {
          "output_type": "stream",
          "name": "stdout",
          "text": [
            "Epoch 6, Loss: 0.1542, Acc: 0.9256\n"
          ]
        },
        {
          "output_type": "display_data",
          "data": {
            "text/plain": [
              "  0%|          | 0/63 [00:00<?, ?it/s]"
            ],
            "application/vnd.jupyter.widget-view+json": {
              "version_major": 2,
              "version_minor": 0,
              "model_id": "4d2c2fd531ca45f19c2e603d82b01682"
            }
          },
          "metadata": {}
        },
        {
          "output_type": "stream",
          "name": "stdout",
          "text": [
            "Epoch 7, Loss: 0.1306, Acc: 0.9405\n"
          ]
        },
        {
          "output_type": "display_data",
          "data": {
            "text/plain": [
              "  0%|          | 0/63 [00:00<?, ?it/s]"
            ],
            "application/vnd.jupyter.widget-view+json": {
              "version_major": 2,
              "version_minor": 0,
              "model_id": "f85f19f9d6f74c09b90956f1a3390b62"
            }
          },
          "metadata": {}
        },
        {
          "output_type": "stream",
          "name": "stdout",
          "text": [
            "Epoch 8, Loss: 0.1165, Acc: 0.9415\n"
          ]
        },
        {
          "output_type": "display_data",
          "data": {
            "text/plain": [
              "  0%|          | 0/63 [00:00<?, ?it/s]"
            ],
            "application/vnd.jupyter.widget-view+json": {
              "version_major": 2,
              "version_minor": 0,
              "model_id": "679c26c38df74e7ba71d6106975c54b4"
            }
          },
          "metadata": {}
        },
        {
          "output_type": "stream",
          "name": "stdout",
          "text": [
            "Epoch 9, Loss: 0.1390, Acc: 0.9306\n"
          ]
        },
        {
          "output_type": "display_data",
          "data": {
            "text/plain": [
              "  0%|          | 0/63 [00:00<?, ?it/s]"
            ],
            "application/vnd.jupyter.widget-view+json": {
              "version_major": 2,
              "version_minor": 0,
              "model_id": "d7d6f37b791847f3b4f7485ea1dcfaae"
            }
          },
          "metadata": {}
        },
        {
          "output_type": "stream",
          "name": "stdout",
          "text": [
            "Epoch 10, Loss: 0.1224, Acc: 0.9296\n"
          ]
        }
      ]
    },
    {
      "cell_type": "code",
      "metadata": {
        "id": "vBVKgV5dMAbR"
      },
      "source": [
        "def get_accuracy(model, dataset):\n",
        "    cnt = 0\n",
        "    for i, l in dataset:\n",
        "        energies = model(i.unsqueeze(0).unsqueeze(0).cuda())[0, 0]\n",
        "        x = energies.argmin(dim=-1)\n",
        "        cnt += int(x == (ord(l[0]) - ord('a')))\n",
        "    return cnt / len(dataset)\n",
        "\n",
        "tds = SimpleWordsDataset(1, len=100)\n",
        "assert get_accuracy(model, tds) == 1.0, 'Your model doesn\\'t achieve 100% accuracy for 1 character'"
      ],
      "execution_count": 11,
      "outputs": []
    },
    {
      "cell_type": "markdown",
      "metadata": {
        "id": "q7A8Z2pIMAbT"
      },
      "source": [
        "Now, to see how our model would work with more than one character, we apply the model to a bigger input - the image of the alphabet we saw earlier. We extract the energies for each window and show them."
      ]
    },
    {
      "cell_type": "code",
      "metadata": {
        "id": "k27gXaZgMAbT",
        "colab": {
          "base_uri": "https://localhost:8080/",
          "height": 383
        },
        "outputId": "963147ea-5c7a-4557-ea8a-9b3cb6afb728"
      },
      "source": [
        "alphabet_energies_post_train = model(alphabet.cuda().view(1, 1, *alphabet.shape))\n",
        "plot_energies(alphabet_energies_post_train[0].detach())"
      ],
      "execution_count": 12,
      "outputs": [
        {
          "output_type": "display_data",
          "data": {
            "text/plain": [
              "<Figure size 1280x960 with 2 Axes>"
            ],
            "image/png": "[encoded data removed]"
          },
          "metadata": {}
        }
      ]
    },
    {
      "cell_type": "markdown",
      "metadata": {
        "id": "fV02yzglMAbT"
      },
      "source": [
        "Explain any classes that are lit up. What is still missing to be able to use it for transcription of words?\n",
        "\n",
        "Answer: The bright yellow regions indicate high confidence predictions by the model for certain character classes at specific window locations. However, there is a lack of explicit word boundary detection and character sequence modeling capabilities, which prevents it from being directly used for word transcription tasks. To extend it for full word transcription, additional components like word boundary detection, sequence modeling (e.g., RNNs or Transformers), and post-processing decoding would need to be incorporated.\n",
        "\n"
      ]
    },
    {
      "cell_type": "markdown",
      "metadata": {
        "id": "hnCgx5k-MAbT"
      },
      "source": [
        "## Training with multiple characters\n",
        "\n",
        "Now, we want to train our model to not only recognize the letters, but also to recognize space in-between so that we can use it for transcription later.\n",
        "\n",
        "This is where complications begin. When transcribing a word from an image, we don't know beforehand how long the word is going to be. We can use our convolutional neural network we've pretrained on single characters to get prediction of character probabilities for all the positions of an input window in the new input image, but we don't know beforehand how to match those predictions with the target label. Training with incorrect matching can lead to wrong model, so in order to be able to train a network to transcribe words, we need a way to find these pairings.\n",
        "\n",
        "![dl.png](https://i.imgur.com/7pnodfV.png)\n",
        "\n",
        "The importance of pairings can be demonstrated by the drawing above. If we map $l_1, l_2, l_3, l_4$ to 'c', 'a', 't', '_' respectively, we'll correctly train the system, but if we put $l_1, l_2, l_3, l_4$ with 'a', 'a', 't', 't', we'd have a very wrong classifier.\n",
        "\n",
        "To formalize this, we use energy-based models' framework. Let's define the energy $E(x, y, z)$ as the sum of cross-entropies for a particular pairing between probabilities our model gives for input image $x$ and text transcription $y$, and pairing $z$. $z$ is a function $z : \\{1, 2, \\dots, \\vert l \\vert \\} \\to \\{1, 2, \\dots, \\vert y \\vert)$, $l$ here is the energies output of our convolutional neural net $l = f_\\theta(x)$. $z$ maps each energy vector in $l$ to an element in the output sequence $y$. We want the mappings to make sense, so $z$ should be a non-decreasing function $z(i) \\leq z(i+1)$, and it shouldn't skip characters, i.e. $\\forall_i \\exists_j z(j)=i$.\n",
        "\n",
        "Energy is then $E(x, y, z) = C(z) + \\sum_{i=1}^{\\vert l \\vert} l_i[z(i)]$\n",
        ",  $C(z)$ is some extra term that allows us to penalize certain pairings, and $l_i[z(i)]$ is the energy of $z(i)$-th symbol on position $i$.\n",
        "\n",
        "In this particular context, we define $C(z)$ to be infinity for impossible pairings:\n",
        "$$C(z) = \\begin{cases}\n",
        "\\infty \\; \\text{if} \\; z(1) \\neq 1 \\vee z(\\vert l \\vert) \\neq \\vert y \\vert \\vee \\exists_{i, 1\\leq 1 \\leq \\vert l \\vert - 1} z(i) > z(i+1) \\vee z(i) < z(i+1) - 1\\\\\n",
        "0 \\; \\text{otherwise}\n",
        "\\end{cases}\n",
        "$$\n",
        "\n",
        "\n",
        "Then, the free energy $F(x, y) = \\arg \\min_z E(x, y, z)$. In other words, the free energy is the energy of the best pairing between the probabilities provided by our model, and the target labels.\n",
        "\n",
        "When training, we are going to use cross-entropies along the best path: $\\ell(x, y, z) = \\sum_{i=1}^{\\vert l \\vert}H(y_{z(i)}, \\sigma(l_i))$, where $H$ is cross-entropy, $\\sigma$ is soft-argmin needed to convert energies to a distribution.\n",
        "\n",
        "First, let's write functions that would calculate the needed cross entropies $H(y_{z(i)}, \\sigma(l_i))$, and energies for us."
      ]
    },
    {
      "cell_type": "code",
      "metadata": {
        "id": "D5WJxWjZMAbV"
      },
      "source": [
        "def build_path_matrix(energies, targets):\n",
        "    # inputs:\n",
        "    #    energies, shape is BATCH_SIZE x L x 27\n",
        "    #    targets, shape is BATCH_SIZE x T\n",
        "    # L is \\vert l \\vert\n",
        "    # T is \\vert y \\vert\n",
        "    #\n",
        "    # outputs:\n",
        "    #    a matrix of shape BATCH_SIZE x L x T\n",
        "    #    where output[i, j, k] = energies[i, j, targets[i, k]]\n",
        "    #\n",
        "    # Note: you're not allowed to use for loops. The calculation has to be vectorized.\n",
        "    # you may want to use repeat and repeat_interleave.\n",
        "    # TODO\n",
        "    energies = energies.to(targets.device)\n",
        "\n",
        "    batch_size, L, _ = energies.shape\n",
        "    _, T = targets.shape\n",
        "\n",
        "    # Unsqueeze targets to add a dimension for energies\n",
        "    targets_unsqueeze = targets.unsqueeze(2)\n",
        "\n",
        "    # Here, instead of repeating targets 27 times, we should just expand it to match the 'energies' shape for gathering\n",
        "    targets_expand = targets_unsqueeze.expand(batch_size, T, L).transpose(1, 2)\n",
        "\n",
        "    # Gather the energies corresponding to the target classes\n",
        "    path_matrix = energies.gather(2, targets_expand)\n",
        "\n",
        "    return path_matrix\n",
        "\n",
        "\n",
        "\n",
        "\n",
        "def build_ce_matrix(energies, targets):\n",
        "    # inputs:\n",
        "    #    energies, shape is BATCH_SIZE x L x 27\n",
        "    #    targets, shape is BATCH_SIZE x T\n",
        "    # L is \\ververtt = targets.unsqueeze(1).repeat(1,energies.shape[1],1)t l \\vert\n",
        "    # T is \\vert y \\vert\n",
        "    #\n",
        "    # outputs:\n",
        "    #    a matrix ce of shape BATCH_SIZE x L x T\n",
        "    #    where ce[i, j, k] = cross_entropy(energies[i, j], targets[i, k])\n",
        "    #\n",
        "    # Note: you're not allowed to use for loops. The calculation has to be vectorized.\n",
        "    # you may want to use repeat and repeat_interleave.\n",
        "    # TODO\n",
        "    batch_size = energies.shape[0]\n",
        "    sequence_length = energies.shape[1]\n",
        "    target_length = targets.shape[1]\n",
        "    energies_reshaped = torch.repeat_interleave(energies.view(-1, 27), targets.shape[-1], 0)\n",
        "    targets_repeated = torch.repeat_interleave(targets.unsqueeze(1), energies.shape[1], 1).view(-1)\n",
        "    output = cross_entropy(energies_reshaped, targets_repeated, reduction='none').view(batch_size, sequence_length, target_length)\n",
        "    return output\n"
      ],
      "execution_count": 13,
      "outputs": []
    },
    {
      "cell_type": "markdown",
      "metadata": {
        "id": "RKZLjSCFMAbV"
      },
      "source": [
        "Another thing we will need is a transformation for our label $y$. We don't want to use it as is, we want to insert some special label after each character, so, for example 'cat' becomes 'c_a_t_'. This extra '\\_' models the separation between words, allowing our model to distinguish between strings 'aa' and 'a' in its output. This is then used in inference - we can just get the most likely character for each position from $l = f_\\theta(x)$ (for example 'aa_bb_ccc_'), and then remove duplicate characters ('a_b_c_'), and then remove _ (abc).\n",
        "Let's implement a function that would change the string in this manner, and then map all characters to values from 0 to 26, with 0 to 25 corresponding to a-z, and 26 corresponding to _:"
      ]
    },
    {
      "cell_type": "code",
      "metadata": {
        "id": "wE4oZRDAMAbV"
      },
      "source": [
        "def transform_word(s):\n",
        "    # input: a string\n",
        "    # output: a tensor of shape 2*len(s)\n",
        "    # TODO\n",
        "    l = []\n",
        "    for i in s:\n",
        "        l.append(ord(i) - ord('a'))\n",
        "        l.append(26)\n",
        "    l = torch.tensor(l)\n",
        "    return l"
      ],
      "execution_count": 14,
      "outputs": []
    },
    {
      "cell_type": "markdown",
      "metadata": {
        "id": "i-txyVZkMAbV"
      },
      "source": [
        "Now, let's plot energy table built on our model's prediction for alphabet image."
      ]
    },
    {
      "cell_type": "code",
      "metadata": {
        "id": "xgJsmkzmMAbX",
        "colab": {
          "base_uri": "https://localhost:8080/",
          "height": 660
        },
        "outputId": "3aa222d5-b635-45b8-8a29-3a025f9dfb14"
      },
      "source": [
        "def plot_pm(pm, path=None):\n",
        "    fig=plt.figure(dpi=200)\n",
        "    ax = plt.axes()\n",
        "    im = ax.imshow(pm.cpu().T)\n",
        "\n",
        "    ax.set_xlabel('window locations →')\n",
        "    ax.set_ylabel('← label characters')\n",
        "    ax.xaxis.set_label_position('top')\n",
        "    ax.set_xticks([])\n",
        "    ax.set_yticks([])\n",
        "\n",
        "    if path is not None:\n",
        "        for i in range(len(path) - 1):\n",
        "            ax.plot(*path[i], *path[i+1], marker = 'o', markersize=0.5, linewidth=10, color='r', alpha=1)\n",
        "\n",
        "    cax = fig.add_axes([ax.get_position().x1+0.01,ax.get_position().y0,0.02,ax.get_position().height])\n",
        "    plt.colorbar(im, cax=cax)\n",
        "\n",
        "energies = model(alphabet.cuda().view(1, 1, *alphabet.shape))\n",
        "targets = transform_word(string.ascii_lowercase).unsqueeze(0)\n",
        "\n",
        "pm = build_path_matrix(energies, targets)\n",
        "plot_pm(pm[0].detach())"
      ],
      "execution_count": 15,
      "outputs": [
        {
          "output_type": "display_data",
          "data": {
            "text/plain": [
              "<Figure size 1280x960 with 2 Axes>"
            ],
            "image/png": "[encoded data removed]"
          },
          "metadata": {}
        }
      ]
    },
    {
      "cell_type": "markdown",
      "metadata": {
        "id": "y_0IlGAzMAba"
      },
      "source": [
        "What do you see? What does the model classify correctly, and what does it have problems with?\n",
        "\n",
        "Answer: The dark diagonal streak seen in the heatmap reflects successful recognition of the sequence from 'a' through 'z' by the model. Bright areas denote what should be a distinct character or space that occurs amidst the letters. Yet, the model is assigning it high energy values, suggesting an error in detecting this special symbol."
      ]
    },
    {
      "cell_type": "markdown",
      "metadata": {
        "id": "8LvDnVQLMAba"
      },
      "source": [
        "Searching for a good pairing $z$ is same as searching for a trajectory with a small sum of it's values in this `pm` matrix. Where does the trajectory start, and where does it end? What other properties does the trajectory have? Can you see where an optimal trajecotry would be passing through in the plot above?\n",
        "\n",
        "Answer: The trajectory should start at the top left and end at the bottom right. The optimal path should pass through the centre of the graph."
      ]
    },
    {
      "cell_type": "markdown",
      "metadata": {
        "id": "Q3DOa35NMAba"
      },
      "source": [
        "Now let's implement a function that would tell us the energy of a particular path (i.e. pairing)."
      ]
    },
    {
      "cell_type": "code",
      "metadata": {
        "id": "2Wxaq_x9MAbb"
      },
      "source": [
        "def path_energy(pm, path):\n",
        "    # inputs:\n",
        "    #   pm - a matrix of energies\n",
        "    #    L - energies length\n",
        "    #    T - targets length\n",
        "    #   path - list of length L that maps each energy vector to an element in T\n",
        "    # returns:\n",
        "    #   energy - sum of energies on the path, or 2**30 if the mapping is invalid\n",
        "    # TODO\n",
        "    energy = 0\n",
        "    L, T = pm.shape\n",
        "\n",
        "    # Iterate over each element in the path\n",
        "    for l in range(L):\n",
        "        # Check if the path at l is within the valid range [0, T)\n",
        "        if path[l] < 0 or path[l] >= T:\n",
        "            return 2**30\n",
        "        # If valid, add the corresponding energy to the total energy\n",
        "        energy += pm[l, path[l]]\n",
        "\n",
        "    return energy\n"
      ],
      "execution_count": 16,
      "outputs": []
    },
    {
      "cell_type": "markdown",
      "metadata": {
        "id": "b-xYfH4OMAbb"
      },
      "source": [
        "Now we can check some randomly generated paths and see the associated energies for our alphabet image:"
      ]
    },
    {
      "cell_type": "code",
      "metadata": {
        "id": "rnBl2XQGMAbc",
        "collapsed": true,
        "colab": {
          "base_uri": "https://localhost:8080/",
          "height": 677
        },
        "outputId": "a736a761-bae5-451e-c84d-d7a70ca0ed87"
      },
      "source": [
        "path = torch.zeros(energies.shape[1] - 1)\n",
        "path[:targets.shape[1] - 1] = 1\n",
        "path = [0] + list(map(lambda x : x.int().item(), path[torch.randperm(path.shape[0])].cumsum(dim=-1)))\n",
        "points = list(zip(range(energies.shape[1]), path))\n",
        "\n",
        "plot_pm(pm[0].detach(), points)\n",
        "print('energy is', path_energy(pm[0], path).item())"
      ],
      "execution_count": 17,
      "outputs": [
        {
          "output_type": "stream",
          "name": "stdout",
          "text": [
            "energy is 425.3277893066406\n"
          ]
        },
        {
          "output_type": "display_data",
          "data": {
            "text/plain": [
              "<Figure size 1280x960 with 2 Axes>"
            ],
            "image/png": "[encoded data removed]"
          },
          "metadata": {}
        }
      ]
    },
    {
      "cell_type": "markdown",
      "metadata": {
        "id": "CJrzwsTVTbl1"
      },
      "source": [
        "Now, generate two paths with bad energies, print their energies and plot them."
      ]
    },
    {
      "cell_type": "code",
      "metadata": {
        "id": "93Km7zUQTlxe",
        "colab": {
          "base_uri": "https://localhost:8080/",
          "height": 1000
        },
        "outputId": "23b85c7a-fbb4-44cb-d101-abe958927785"
      },
      "source": [
        "path_bad1 = torch.zeros(energies.shape[1] - 1)\n",
        "# Introduce randomness or a pattern that deviates significantly from a 'good' path\n",
        "path_bad1[::2] = 0.3  # Example of a pattern that could be 'bad'\n",
        "path_bad1 = [0] + list(map(lambda x: x.int().item(), path_bad1[torch.randperm(path_bad1.shape[0])].cumsum(dim=-1)))\n",
        "points_bad1 = list(zip(range(energies.shape[1]), path_bad1))\n",
        "\n",
        "# Second bad path\n",
        "path_bad2 = torch.zeros(energies.shape[1] - 1)\n",
        "# Another pattern or random distribution that indicates a 'bad' path\n",
        "path_bad2[::3] = 0.4  # Different from the first bad path\n",
        "path_bad2 = [0] + list(map(lambda x: x.int().item(), path_bad2[torch.randperm(path_bad2.shape[0])].cumsum(dim=-1)))\n",
        "points_bad2 = list(zip(range(energies.shape[1]), path_bad2))\n",
        "\n",
        "# Calculate and print the energies for the bad paths\n",
        "print('Energy for Bad Path 1:', path_energy(pm[0], path_bad1).item())\n",
        "plot_pm(pm[0].detach(), points_bad1)\n",
        "\n",
        "print('Energy for Bad Path 2:', path_energy(pm[0], path_bad2).item())\n",
        "plot_pm(pm[0].detach(), points_bad2)\n"
      ],
      "execution_count": 18,
      "outputs": [
        {
          "output_type": "stream",
          "name": "stdout",
          "text": [
            "Energy for Bad Path 1: 701.1942749023438\n",
            "Energy for Bad Path 2: 762.85595703125\n"
          ]
        },
        {
          "output_type": "display_data",
          "data": {
            "text/plain": [
              "<Figure size 1280x960 with 2 Axes>"
            ],
            "image/png": "[encoded data removed]"
          },
          "metadata": {}
        },
        {
          "output_type": "display_data",
          "data": {
            "text/plain": [
              "<Figure size 1280x960 with 2 Axes>"
            ],
            "image/png": "[encoded data removed]"
          },
          "metadata": {}
        }
      ]
    },
    {
      "cell_type": "markdown",
      "metadata": {
        "id": "SnrQtZ-kMAbd"
      },
      "source": [
        "## Part - 1\\: Viterbi\n",
        "\n",
        "### Optimal path finding\n",
        "Now, we're going to implement the finding of the optimal path. To do that, we're going to use Viterbi algorithm, which in this case is a simple dynamic programming problem.\n",
        "In this context, it's a simple dynamic programming algorithm that for each pair i, j, calculates the minimum cost of the path that goes from 0-th index in the energies and 0-th index in the target, to i-th index in the energies, and j-th index in the target. We can memorize the values in a 2-dimensional array, let's call it `dp`. Then we have the following transitions:\n",
        "```\n",
        "dp[0, 0] = pm[0, 0]\n",
        "dp[i, j] = min(dp[i - 1, j], dp[i - 1, j - 1]) + pm[i, j]\n",
        "```\n",
        "\n",
        "The optimal path can be recovered if we memorize which cell we came from for each `dp[i, j]`.\n",
        "\n",
        "Below, you'll need to implement this algorithm:"
      ]
    },
    {
      "cell_type": "code",
      "metadata": {
        "id": "tyyipYDqMAbd"
      },
      "source": [
        "def find_path(pm):\n",
        "    # inputs:\n",
        "    #   pm - a tensor of shape LxT with energies\n",
        "    #     L is length of energies array\n",
        "    #     T is target sequence length\n",
        "    # NOTE: this is slow because it's not vectorized to work with batches.\n",
        "    #  output:\n",
        "    #     a tuple of three elements:\n",
        "    #         1. sum of energies on the best path,\n",
        "    #         2. list of tuples - points of the best path in the pm matrix\n",
        "    #         3. the dp array\n",
        "\n",
        "    # TODO\n",
        "    L, T = pm.shape\n",
        "    dp = torch.full((L, T), float('inf'))\n",
        "    dp[0, 0] = pm[0, 0]\n",
        "    backtrack = torch.full((L, T), -1, dtype=torch.long)\n",
        "\n",
        "    for i in range(1, L):\n",
        "        for j in range(1, T):\n",
        "            if dp[i - 1, j] < dp[i - 1, j - 1]:\n",
        "                dp[i, j] = dp[i - 1, j] + pm[i, j]\n",
        "                backtrack[i, j] = j\n",
        "            else:\n",
        "                dp[i, j] = dp[i - 1, j - 1] + pm[i, j]\n",
        "                backtrack[i, j] = j - 1\n",
        "\n",
        "    path = [(L - 1, T - 1)]\n",
        "    i, j = L - 1, T - 1\n",
        "    while i > 0 and j > 0:\n",
        "        j = backtrack[i, j]\n",
        "        i -= 1\n",
        "        path.append((i, j))\n",
        "\n",
        "    path.reverse()\n",
        "\n",
        "    free_energy_tensor = dp[L - 1, T - 1]\n",
        "\n",
        "    return free_energy_tensor, path, dp"
      ],
      "execution_count": 19,
      "outputs": []
    },
    {
      "cell_type": "markdown",
      "metadata": {
        "id": "svhNOp8XMAbd"
      },
      "source": [
        "Let's take a look at the best path:"
      ]
    },
    {
      "cell_type": "code",
      "metadata": {
        "id": "_LcKBvPBMAbd",
        "collapsed": true,
        "colab": {
          "base_uri": "https://localhost:8080/",
          "height": 677
        },
        "outputId": "6954de03-6736-4222-b29c-441d95556cc2"
      },
      "source": [
        "free_energy, path, d = find_path(pm[0])\n",
        "plot_pm(pm[0].detach(), path)\n",
        "print('free energy is', free_energy.item())"
      ],
      "execution_count": 20,
      "outputs": [
        {
          "output_type": "stream",
          "name": "stdout",
          "text": [
            "free energy is -60.071041107177734\n"
          ]
        },
        {
          "output_type": "display_data",
          "data": {
            "text/plain": [
              "<Figure size 1280x960 with 2 Axes>"
            ],
            "image/png": "[encoded data removed]"
          },
          "metadata": {}
        }
      ]
    },
    {
      "cell_type": "markdown",
      "metadata": {
        "id": "aBlQsXB0oLpu"
      },
      "source": [
        "We can also visualize the dp array. You may need to tune clamping to see what it looks like."
      ]
    },
    {
      "cell_type": "code",
      "metadata": {
        "id": "4g2ZAP5p92zt",
        "colab": {
          "base_uri": "https://localhost:8080/",
          "height": 696
        },
        "outputId": "252d0434-8377-49fc-ffb8-5b0c872bc9e7"
      },
      "source": [
        "plt.figure(dpi=200)\n",
        "plt.imshow(d.cpu().detach().T.clamp(torch.min(d).item(), 200))\n",
        "plt.axis('off')"
      ],
      "execution_count": 21,
      "outputs": [
        {
          "output_type": "execute_result",
          "data": {
            "text/plain": [
              "(-0.5, 82.5, 51.5, -0.5)"
            ]
          },
          "metadata": {},
          "execution_count": 21
        },
        {
          "output_type": "display_data",
          "data": {
            "text/plain": [
              "<Figure size 1280x960 with 1 Axes>"
            ],
            "image/png": "[encoded data removed]"
          },
          "metadata": {}
        }
      ]
    },
    {
      "cell_type": "markdown",
      "metadata": {
        "id": "kmIhBQ5vMAbe"
      },
      "source": [
        "### Training loop\n",
        "Now is time to train the network using our best path finder. We're going to use the energy loss function:\n",
        "$$\\ell(x, y) = \\sum_i H(y_{z(i)}, l_i)$$\n",
        "Where $z$ is the best path we've found. This is akin to pushing down on the free energy $F(x, y)$, while pushing up everywhere else by nature of cross-entropy."
      ]
    },
    {
      "cell_type": "code",
      "metadata": {
        "id": "7egiT_uCSDwg"
      },
      "source": [
        "def train_ebm_model(model, num_epochs, train_loader, criterion, optimizer):\n",
        "    ''' Train EBM Model using find_path()'''\n",
        "    pbar = tqdm(range(num_epochs))\n",
        "    total_train_loss = 0.0\n",
        "    size = 0\n",
        "    free_energies = []\n",
        "    paths = []\n",
        "    model.train()\n",
        "    for epoch in pbar:\n",
        "        start_time = time.time()\n",
        "        # TODO: implement the training loop\n",
        "        for batch_data in dataloader:\n",
        "          images, labels = batch_data\n",
        "          images, labels = images.cuda(), labels.cuda()\n",
        "\n",
        "          # 为图像增加一个通道维度\n",
        "          images = images.unsqueeze(1)\n",
        "          energy_matrices = model(images)\n",
        "\n",
        "          path_matrices = build_path_matrix(energy_matrices, labels)\n",
        "          cross_entropy_matrices = build_ce_matrix(energy_matrices, labels)\n",
        "\n",
        "          batch_loss = torch.tensor(0.0).cuda()\n",
        "          for path_matrix, cross_entropy_matrix in zip(path_matrices, cross_entropy_matrices):\n",
        "              path_free_energy, optimal_path, _ = find_path(path_matrix)\n",
        "              free_energies.append(path_free_energy)\n",
        "              paths.append(optimal_path)\n",
        "              batch_loss += sum([cross_entropy_matrix[path_index] for path_index in optimal_path])\n",
        "          total_train_loss += batch_loss.item()\n",
        "\n",
        "          optimizer.zero_grad()\n",
        "          batch_loss.backward()\n",
        "          optimizer.step()\n",
        "\n",
        "\n",
        "\n",
        "        epoch_time = time.time() - start_time\n",
        "        pbar.set_postfix({'train_loss': total_train_loss / len(sds), 'Epoch Time': epoch_time})\n",
        "\n",
        "    return"
      ],
      "execution_count": 22,
      "outputs": []
    },
    {
      "cell_type": "code",
      "metadata": {
        "id": "B2HLpKuVMAbe",
        "colab": {
          "base_uri": "https://localhost:8080/",
          "height": 49,
          "referenced_widgets": [
            "fa37bc5463ce4ee8b2d76c945da7d45f",
            "4193d314224a483a8b7a8c362cc9982e",
            "f0c01660801c463988bbdb11190f8021",
            "65dd036586164c12928225161f6b9bab",
            "19ccb0337f7c4200a19c8069e8737521",
            "995227c124ba4851a6d401f74f1fd704",
            "97e043826eae49c4af6ba561c026dd29",
            "d7500ec59265491cab613123c4e42296",
            "1cc45318b21a4521973d930620988b2c",
            "d1b14d4742ac48408bc9f8007a71f103",
            "3def0f9afd774719ba5da4b0839159ff"
          ]
        },
        "outputId": "ef7678a4-21b8-4d01-f485-c8fe2ea41960"
      },
      "source": [
        "import copy\n",
        "import time\n",
        "\n",
        "def collate_fn(samples):\n",
        "    \"\"\" A function to collate samples into batches for multi-character case\"\"\"\n",
        "    images, annotations = zip(*samples)\n",
        "    images = list(images)\n",
        "    annotations = list(annotations)\n",
        "    annotations = list(map(transform_word, annotations))\n",
        "    m_width = max(18, max([i.shape[1] for i in images]))\n",
        "    m_length = max(3, max([s.shape[0] for s in annotations]))\n",
        "    for i in range(len(images)):\n",
        "        images[i] = torch.nn.functional.pad(images[i], (0, m_width - images[i].shape[-1]))\n",
        "        annotations[i] = torch.nn.functional.pad(annotations[i], (0, m_length - annotations[i].shape[0]), value=BETWEEN)\n",
        "    if len(images) == 1:\n",
        "        return images[0].unsqueeze(0), torch.stack(annotations)\n",
        "    else:\n",
        "        return torch.stack(images), torch.stack(annotations)\n",
        "\n",
        "sds = SimpleWordsDataset(2, 2500) # for simplicity, we're training only on words of length two\n",
        "\n",
        "BATCH_SIZE = 32\n",
        "dataloader = torch.utils.data.DataLoader(sds, batch_size=BATCH_SIZE, num_workers=0, collate_fn=collate_fn)\n",
        "\n",
        "# TODO: Make a copy of your model and re-initialize optimizer\n",
        "ebm_model = copy.deepcopy(model).to(device)\n",
        "optimizer_ebm = torch.optim.Adam(ebm_model.parameters(), lr=0.001)\n",
        "# TODO: train the model using the train_ebm_model()\n",
        "# note: remember that our best path finding algorithm is not batched, so you'll\n",
        "# need a for loop to do loss calculation.\n",
        "# This is not ideal, as for loops are very slow, but for\n",
        "# demonstration purposes it will suffice. In practice, this will be\n",
        "# unusable for any real problem unless it handles batching.\n",
        "# also: remember that the loss is the sum of cross_entropies along the path, not\n",
        "# energies!\n",
        "train_ebm_model(ebm_model, 5, dataloader, build_ce_matrix, optimizer_ebm)\n"
      ],
      "execution_count": 23,
      "outputs": [
        {
          "output_type": "display_data",
          "data": {
            "text/plain": [
              "  0%|          | 0/5 [00:00<?, ?it/s]"
            ],
            "application/vnd.jupyter.widget-view+json": {
              "version_major": 2,
              "version_minor": 0,
              "model_id": "fa37bc5463ce4ee8b2d76c945da7d45f"
            }
          },
          "metadata": {}
        }
      ]
    },
    {
      "cell_type": "markdown",
      "metadata": {
        "id": "X8N_ACMfMAbg"
      },
      "source": [
        "Let's check what the energy matrix looks like for the alphabet image now."
      ]
    },
    {
      "cell_type": "code",
      "metadata": {
        "id": "Rf7yuVcWMAbg",
        "colab": {
          "base_uri": "https://localhost:8080/",
          "height": 677
        },
        "outputId": "2b14dfce-321d-4ccf-ab10-6e7d1ddc666a"
      },
      "source": [
        "energies = ebm_model(alphabet.unsqueeze(0).unsqueeze(0).cuda())\n",
        "targets = transform_word(string.ascii_lowercase)\n",
        "pm = build_path_matrix(energies, targets.unsqueeze(0))\n",
        "\n",
        "free_energy, path, _ = find_path(pm[0])\n",
        "plot_pm(pm[0].detach(), path)\n",
        "print('free energy is', free_energy.item())"
      ],
      "execution_count": 24,
      "outputs": [
        {
          "output_type": "stream",
          "name": "stdout",
          "text": [
            "free energy is -560.6873168945312\n"
          ]
        },
        {
          "output_type": "display_data",
          "data": {
            "text/plain": [
              "<Figure size 1280x960 with 2 Axes>"
            ],
            "image/png": "[encoded data removed]"
          },
          "metadata": {}
        }
      ]
    },
    {
      "cell_type": "markdown",
      "metadata": {
        "id": "MUoXSmvQMAbg"
      },
      "source": [
        "Explain how the free energy changed, and why.\n",
        "\n",
        "Answer: It currently finds both alphabets and special characters, including empty spaces, assigning low energy to the empty spaces as well. Therefore, the free energy decreases, and now we don't have bright classes for high energy."
      ]
    },
    {
      "cell_type": "markdown",
      "metadata": {
        "id": "7QcTNZp6MAbg"
      },
      "source": [
        "We can also look at raw energies output:"
      ]
    },
    {
      "cell_type": "code",
      "metadata": {
        "scrolled": false,
        "id": "qgUyDNBSMAbg",
        "colab": {
          "base_uri": "https://localhost:8080/",
          "height": 399
        },
        "outputId": "3c87fa73-2664-421c-b3f3-eb8e0badd8d1"
      },
      "source": [
        "alphabet_energy_post_train_viterbi = ebm_model(alphabet.cuda().view(1, 1, *alphabet.shape))\n",
        "\n",
        "plt.figure(dpi=200, figsize=(40, 10))\n",
        "plt.imshow(alphabet_energy_post_train_viterbi.cpu().data[0].T)\n",
        "plt.axis('off')"
      ],
      "execution_count": 25,
      "outputs": [
        {
          "output_type": "execute_result",
          "data": {
            "text/plain": [
              "(-0.5, 82.5, 26.5, -0.5)"
            ]
          },
          "metadata": {},
          "execution_count": 25
        },
        {
          "output_type": "display_data",
          "data": {
            "text/plain": [
              "<Figure size 8000x2000 with 1 Axes>"
            ],
            "image/png": "[encoded data removed]"
          },
          "metadata": {}
        }
      ]
    },
    {
      "cell_type": "markdown",
      "metadata": {
        "id": "iWDtL_AoMAbh"
      },
      "source": [
        "How does this compare to the energies we had after training only on one-character dataset?\n",
        "\n",
        "Answer: Empty charcter class between consecutive alphabets is not lit up and has low energy."
      ]
    },
    {
      "cell_type": "markdown",
      "metadata": {
        "id": "6x7kaFxTMAbh"
      },
      "source": [
        "## Decoding"
      ]
    },
    {
      "cell_type": "markdown",
      "metadata": {
        "id": "9w8ZojnnMAbh"
      },
      "source": [
        "Now we can use the model for decoding a word from an image. Let's pick some word, apply the model to it, and see energies."
      ]
    },
    {
      "cell_type": "code",
      "metadata": {
        "id": "HaTiwIthMAbh",
        "colab": {
          "base_uri": "https://localhost:8080/",
          "height": 1000
        },
        "outputId": "6997bc26-5467-4bba-81f5-6bb1bb5229ae"
      },
      "source": [
        "img = sds.draw_text('hello')\n",
        "energies = ebm_model(img.cuda().unsqueeze(0).unsqueeze(0))\n",
        "plt.imshow(img)\n",
        "plot_energies(energies[0].detach().cpu())"
      ],
      "execution_count": 26,
      "outputs": [
        {
          "output_type": "display_data",
          "data": {
            "text/plain": [
              "<Figure size 640x480 with 1 Axes>"
            ],
            "image/png": "[encoded data removed]"
          },
          "metadata": {}
        },
        {
          "output_type": "display_data",
          "data": {
            "text/plain": [
              "<Figure size 1280x960 with 2 Axes>"
            ],
            "image/png": "[encoded data removed]"
          },
          "metadata": {}
        }
      ]
    },
    {
      "cell_type": "markdown",
      "metadata": {
        "id": "SxTbUNkYMAbh"
      },
      "source": [
        "You should see some characters light up. Now, let's implement a simple decoding algorithm. To decode, first we want to get most likely classes for all energies, and then do two things:\n",
        "1. segment strings using the divisors (our special character with index 26), and for each segment replace it with the most common character in that segment. Example: aaab_bab_ -> a_b. If some characters are equally common, you can pick random.\n",
        "2. remove all special divisor characters: a_b -> ab\n"
      ]
    },
    {
      "cell_type": "code",
      "metadata": {
        "id": "iiamf7wzMAbi",
        "colab": {
          "base_uri": "https://localhost:8080/"
        },
        "outputId": "87578274-6cf8-4f7d-869e-f5cd0bb25c76"
      },
      "source": [
        "from collections import Counter\n",
        "def indices_to_str(indices):\n",
        "    # inputs: indices - a tensor of most likely class indices\n",
        "    # outputs: decoded string\n",
        "\n",
        "    # TODO\n",
        "    indices_list = indices.detach().cpu().numpy().tolist()\n",
        "    characters = [chr(i + ord('a')) if i != ord('{') - ord('a') else '{' for i in indices_list]\n",
        "    segments = ''.join(characters).split('{')\n",
        "    result = ''.join(Counter(segment).most_common(1)[0][0] for segment in segments if segment)\n",
        "\n",
        "    return result\n",
        "\n",
        "\n",
        "min_indices = energies[0].argmin(dim=-1)\n",
        "print(indices_to_str(min_indices))"
      ],
      "execution_count": 28,
      "outputs": [
        {
          "output_type": "stream",
          "name": "stdout",
          "text": [
            "hello\n"
          ]
        }
      ]
    },
    {
      "cell_type": "markdown",
      "metadata": {
        "id": "HTL3jOO_Q3EW"
      },
      "source": [
        "## Part - 2\\: GTN (Extra Credits)\n",
        "\n",
        "### CTC Loss Function\n",
        "\n",
        "The below cell has the CTC Loss implementation which will be needed for the training. It also has the viterbi implemented, so feel free to use it.\n",
        "\n",
        "- For calculating loss, `CTCLoss()` can be used.\n",
        "- For viterbi, `CTCLossFunction.viterbi()` can be used.\n",
        "\n",
        "### Brief Explanation\\:\n",
        "\n",
        "GTN constructs 2 graphs-\n",
        "1. Alignment graph $A_y$ that can produce a sequence of any length which when collapsed gives the output.\n",
        "2. Emission graph $\\mathcal{E}$ that can produce any sequence of length `L`, input's length. This can be considered as some sort of restriction over $A_y$.\n",
        "\n",
        "Loss function is then calculated as $-\\log P(y \\mid X) = -(\\log (A_y \\circ \\mathcal{E}) - \\log \\mathcal{E})$ where $\\circ$ is the composition function."
      ]
    },
    {
      "cell_type": "code",
      "metadata": {
        "id": "SkNSGs6EQ2Ho"
      },
      "source": [
        "# Credits: Adapted from https://github.com/facebookresearch/gtn_applications\n",
        "\n",
        "class CTCLossFunction(torch.autograd.Function):\n",
        "    @staticmethod\n",
        "    def create_ctc_graph(target, blank_idx):\n",
        "        g_criterion = gtn.Graph(False)\n",
        "        L = len(target)\n",
        "        S = 2 * L + 1\n",
        "        for l in range(S):\n",
        "            idx = (l - 1) // 2\n",
        "            g_criterion.add_node(l == 0, l == S - 1 or l == S - 2)\n",
        "            label = target[idx] if l % 2 else blank_idx\n",
        "            g_criterion.add_arc(l, l, label)\n",
        "            if l > 0:\n",
        "                g_criterion.add_arc(l - 1, l, label)\n",
        "            if l % 2 and l > 1 and label != target[idx - 1]:\n",
        "                g_criterion.add_arc(l - 2, l, label)\n",
        "        g_criterion.arc_sort(False)\n",
        "        return g_criterion\n",
        "\n",
        "    @staticmethod\n",
        "    def forward(ctx, log_probs, targets, blank_idx=0, reduction=\"none\"):\n",
        "        B, T, C = log_probs.shape\n",
        "        losses = [None] * B\n",
        "        scales = [None] * B\n",
        "        emissions_graphs = [None] * B\n",
        "\n",
        "        def process(b):\n",
        "            # create emission graph\n",
        "            g_emissions = gtn.linear_graph(T, C, log_probs.requires_grad)\n",
        "            cpu_data = log_probs[b].cpu().contiguous()\n",
        "            g_emissions.set_weights(cpu_data.data_ptr())\n",
        "\n",
        "            # create criterion graph\n",
        "            g_criterion = CTCLossFunction.create_ctc_graph(targets[b], blank_idx)\n",
        "            # compose the graphs\n",
        "            g_loss = gtn.negate(\n",
        "                gtn.forward_score(gtn.intersect(g_emissions, g_criterion))\n",
        "            )\n",
        "\n",
        "            scale = 1.0\n",
        "            if reduction == \"mean\":\n",
        "                L = len(targets[b])\n",
        "                scale = 1.0 / L if L > 0 else scale\n",
        "            elif reduction != \"none\":\n",
        "                raise ValueError(\"invalid value for reduction '\" + str(reduction) + \"'\")\n",
        "\n",
        "            # Save for backward:\n",
        "            losses[b] = g_loss\n",
        "            scales[b] = scale\n",
        "            emissions_graphs[b] = g_emissions\n",
        "\n",
        "        gtn.parallel_for(process, range(B))\n",
        "\n",
        "        ctx.auxiliary_data = (losses, scales, emissions_graphs, log_probs.shape)\n",
        "        loss = torch.tensor([losses[b].item() * scales[b] for b in range(B)])\n",
        "        return torch.mean(loss.cuda() if log_probs.is_cuda else loss)\n",
        "\n",
        "    @staticmethod\n",
        "    def backward(ctx, grad_output):\n",
        "        losses, scales, emissions_graphs, in_shape = ctx.auxiliary_data\n",
        "        B, T, C = in_shape\n",
        "        input_grad = torch.empty((B, T, C))\n",
        "\n",
        "        def process(b):\n",
        "            gtn.backward(losses[b], False)\n",
        "            emissions = emissions_graphs[b]\n",
        "            grad = emissions.grad().weights_to_numpy()\n",
        "            input_grad[b] = torch.from_numpy(grad).view(1, T, C) * scales[b]\n",
        "\n",
        "        gtn.parallel_for(process, range(B))\n",
        "\n",
        "        if grad_output.is_cuda:\n",
        "            input_grad = input_grad.cuda()\n",
        "        input_grad *= grad_output / B\n",
        "\n",
        "        return (\n",
        "            input_grad,\n",
        "            None,  # targets\n",
        "            None,  # blank_idx\n",
        "            None,  # reduction\n",
        "        )\n",
        "\n",
        "def viterbi(energies, targets, blank_idx=0):\n",
        "    outputs = -1 * energies\n",
        "    B, T, C = outputs.shape\n",
        "    paths = [None] * B\n",
        "    scores = [None] * B\n",
        "    emissions_graphs = [None] * B\n",
        "    def process(b):\n",
        "        L = len(targets[b])\n",
        "        # create emission graph\n",
        "        g_emissions = gtn.linear_graph(T, C, outputs.requires_grad)\n",
        "        cpu_data = outputs[b].cpu().contiguous()\n",
        "        g_emissions.set_weights(cpu_data.data_ptr())\n",
        "\n",
        "        # create criterion graph\n",
        "        g_criterion = CTCLossFunction.create_ctc_graph(targets[b], blank_idx)\n",
        "        g_score = gtn.viterbi_score(gtn.intersect(g_emissions, g_criterion))\n",
        "        g_path = gtn.viterbi_path(gtn.intersect(g_emissions, g_criterion))\n",
        "        paths[b] = [2*p if 2*p < L else i for i, p in enumerate(g_path.labels_to_list())]\n",
        "        l = 0\n",
        "        paths[b] = []\n",
        "        for p in g_path.labels_to_list():\n",
        "            if 2*p < L:\n",
        "                l = p\n",
        "                paths[b].append(2*p)\n",
        "            else:\n",
        "                paths[b].append(2*l + 1)\n",
        "        scores[b] = -1 * g_score.item()\n",
        "        emissions_graphs[b] = g_emissions\n",
        "\n",
        "    gtn.parallel_for(process, range(B))\n",
        "\n",
        "    return (scores, paths)\n",
        "\n",
        "CTCLoss = CTCLossFunction.apply"
      ],
      "execution_count": 38,
      "outputs": []
    },
    {
      "cell_type": "code",
      "metadata": {
        "id": "Q3ppNW6aLIwP"
      },
      "source": [
        "def train_gtn_model(model, num_epochs, train_loader, criterion, optimizer):\n",
        "    ''' Train CTC Model using GTN'''\n",
        "    pbar = tqdm(range(num_epochs))\n",
        "    train_losses = []\n",
        "    total_train_loss = 0.0\n",
        "    size = 0\n",
        "    free_energies = []\n",
        "    paths = []\n",
        "    max_grad_norm = None\n",
        "    if torch.cuda.is_available():\n",
        "        model = model.cuda()\n",
        "        device = torch.device(\"cuda:0\")\n",
        "    else:\n",
        "        device = torch.device(\"cpu\")\n",
        "    for epoch in pbar:\n",
        "        start_time = time.time()\n",
        "        # TODO: implement the training loop\n",
        "        for batch_data in train_loader:\n",
        "            inputs, targets = batch_data\n",
        "            inputs, targets = inputs.to(device), targets.to(device)\n",
        "\n",
        "            optimizer.zero_grad()\n",
        "\n",
        "            outputs = model(inputs)\n",
        "\n",
        "            loss = criterion(outputs, targets)\n",
        "            loss.backward()\n",
        "\n",
        "            if max_grad_norm is not None:\n",
        "                torch.nn.utils.clip_grad_norm_(model.parameters(), max_grad_norm)\n",
        "\n",
        "            optimizer.step()\n",
        "\n",
        "            total_train_loss += loss.item()\n",
        "\n",
        "        epoch_loss = total_train_loss / len(train_loader)\n",
        "        train_losses.append(epoch_loss)\n",
        "\n",
        "\n",
        "        epoch_time = time.time() - start_time\n",
        "        train_losses.append(total_train_loss)\n",
        "        pbar.set_postfix({'train_loss': total_train_loss, 'Epoch Time': epoch_time})\n",
        "\n",
        "    return"
      ],
      "execution_count": 39,
      "outputs": []
    },
    {
      "cell_type": "code",
      "metadata": {
        "id": "9pkHQJKXMUQI",
        "colab": {
          "base_uri": "https://localhost:8080/",
          "height": 379,
          "referenced_widgets": [
            "5b271a19ac5a44c99e0823e8c04b2e32",
            "bf5ca149a51643879b9fdd055b6f955a",
            "8341f965696344b3a6d650d97f6bc572",
            "5bd211b7f3934f31879d52685ff04eb0",
            "446fad64bb764434a34886250ce85f20",
            "9b8d7b6045c64b42b8e8dd867480c610",
            "314b464cd56a4d3bbf63845193abb094",
            "e776d81fe91d403697edf8b39d3865f6",
            "c652a2303622437abf91d77f86fd8cbe",
            "6258b0ad8b034781bf27c43752c3e575",
            "e9093a7e3d89425e9c22cdff32d4bb0d"
          ]
        },
        "outputId": "67682ab7-fc5f-47ae-ac45-575de1de33ae"
      },
      "source": [
        "# Similar to what we have done earlier but instead of find_path(), we will use\n",
        "# GTN's framework.\n",
        "sds = SimpleWordsDataset(3, 2500) # for simplicity, we're training only on words of length two\n",
        "\n",
        "BATCH_SIZE = 32\n",
        "dataloader = torch.utils.data.DataLoader(sds, batch_size=BATCH_SIZE, num_workers=0, collate_fn=collate_fn)\n",
        "\n",
        "# TODO: Make another copy of the single character model and re-initialize optimizer\n",
        "\n",
        "# TODO: train the model\n",
        "# note: remember that our best path finding algorithm is not batched, so you'll\n",
        "# need a for loop to do loss calculation.\n",
        "# This is not ideal, as for loops are very slow, but for\n",
        "# demonstration purposes it will suffice. In practice, this will be\n",
        "# unusable for any real problem unless it handles batching.\n",
        "\n",
        "# also: remember that the loss is the sum of cross_entropies along the path, not\n",
        "# energies!\n",
        "gtn_model = SimpleNet().cuda()\n",
        "optimizer = torch.optim.Adam(gtn_model.parameters(), lr=0.005)\n",
        "train_gtn_model(gtn_model, num_epochs=20, train_loader=dataloader, criterion=CTCLossFunction(blank=26, use_pt=False), optimizer=optimizer)"
      ],
      "execution_count": 41,
      "outputs": [
        {
          "output_type": "display_data",
          "data": {
            "text/plain": [
              "  0%|          | 0/20 [00:00<?, ?it/s]"
            ],
            "application/vnd.jupyter.widget-view+json": {
              "version_major": 2,
              "version_minor": 0,
              "model_id": "5b271a19ac5a44c99e0823e8c04b2e32"
            }
          },
          "metadata": {}
        },
        {
          "output_type": "error",
          "ename": "IndexError",
          "evalue": "too many indices for tensor of dimension 3",
          "traceback": [
            "\u001b[0;31m---------------------------------------------------------------------------\u001b[0m",
            "\u001b[0;31mIndexError\u001b[0m                                Traceback (most recent call last)",
            "\u001b[0;32m<ipython-input-41-9212ac239cb3>\u001b[0m in \u001b[0;36m<cell line: 21>\u001b[0;34m()\u001b[0m\n\u001b[1;32m     19\u001b[0m \u001b[0mgtn_model\u001b[0m \u001b[0;34m=\u001b[0m \u001b[0mSimpleNet\u001b[0m\u001b[0;34m(\u001b[0m\u001b[0;34m)\u001b[0m\u001b[0;34m.\u001b[0m\u001b[0mcuda\u001b[0m\u001b[0;34m(\u001b[0m\u001b[0;34m)\u001b[0m\u001b[0;34m\u001b[0m\u001b[0;34m\u001b[0m\u001b[0m\n\u001b[1;32m     20\u001b[0m \u001b[0moptimizer\u001b[0m \u001b[0;34m=\u001b[0m \u001b[0mtorch\u001b[0m\u001b[0;34m.\u001b[0m\u001b[0moptim\u001b[0m\u001b[0;34m.\u001b[0m\u001b[0mAdam\u001b[0m\u001b[0;34m(\u001b[0m\u001b[0mgtn_model\u001b[0m\u001b[0;34m.\u001b[0m\u001b[0mparameters\u001b[0m\u001b[0;34m(\u001b[0m\u001b[0;34m)\u001b[0m\u001b[0;34m,\u001b[0m \u001b[0mlr\u001b[0m\u001b[0;34m=\u001b[0m\u001b[0;36m0.005\u001b[0m\u001b[0;34m)\u001b[0m\u001b[0;34m\u001b[0m\u001b[0;34m\u001b[0m\u001b[0m\n\u001b[0;32m---> 21\u001b[0;31m \u001b[0mtrain_gtn_model\u001b[0m\u001b[0;34m(\u001b[0m\u001b[0mgtn_model\u001b[0m\u001b[0;34m,\u001b[0m \u001b[0mnum_epochs\u001b[0m\u001b[0;34m=\u001b[0m\u001b[0;36m20\u001b[0m\u001b[0;34m,\u001b[0m \u001b[0mtrain_loader\u001b[0m\u001b[0;34m=\u001b[0m\u001b[0mdataloader\u001b[0m\u001b[0;34m,\u001b[0m \u001b[0mcriterion\u001b[0m\u001b[0;34m=\u001b[0m\u001b[0mCTCLossFunction\u001b[0m\u001b[0;34m(\u001b[0m\u001b[0mblank\u001b[0m\u001b[0;34m=\u001b[0m\u001b[0;36m26\u001b[0m\u001b[0;34m,\u001b[0m \u001b[0muse_pt\u001b[0m\u001b[0;34m=\u001b[0m\u001b[0;32mFalse\u001b[0m\u001b[0;34m)\u001b[0m\u001b[0;34m,\u001b[0m \u001b[0moptimizer\u001b[0m\u001b[0;34m=\u001b[0m\u001b[0moptimizer\u001b[0m\u001b[0;34m)\u001b[0m\u001b[0;34m\u001b[0m\u001b[0;34m\u001b[0m\u001b[0m\n\u001b[0m",
            "\u001b[0;32m<ipython-input-39-a437d5268b0d>\u001b[0m in \u001b[0;36mtrain_gtn_model\u001b[0;34m(model, num_epochs, train_loader, criterion, optimizer)\u001b[0m\n\u001b[1;32m     22\u001b[0m             \u001b[0moptimizer\u001b[0m\u001b[0;34m.\u001b[0m\u001b[0mzero_grad\u001b[0m\u001b[0;34m(\u001b[0m\u001b[0;34m)\u001b[0m\u001b[0;34m\u001b[0m\u001b[0;34m\u001b[0m\u001b[0m\n\u001b[1;32m     23\u001b[0m \u001b[0;34m\u001b[0m\u001b[0m\n\u001b[0;32m---> 24\u001b[0;31m             \u001b[0moutputs\u001b[0m \u001b[0;34m=\u001b[0m \u001b[0mmodel\u001b[0m\u001b[0;34m(\u001b[0m\u001b[0minputs\u001b[0m\u001b[0;34m)\u001b[0m\u001b[0;34m\u001b[0m\u001b[0;34m\u001b[0m\u001b[0m\n\u001b[0m\u001b[1;32m     25\u001b[0m \u001b[0;34m\u001b[0m\u001b[0m\n\u001b[1;32m     26\u001b[0m             \u001b[0mloss\u001b[0m \u001b[0;34m=\u001b[0m \u001b[0mcriterion\u001b[0m\u001b[0;34m(\u001b[0m\u001b[0moutputs\u001b[0m\u001b[0;34m,\u001b[0m \u001b[0mtargets\u001b[0m\u001b[0;34m)\u001b[0m\u001b[0;34m\u001b[0m\u001b[0;34m\u001b[0m\u001b[0m\n",
            "\u001b[0;32m/usr/local/lib/python3.10/dist-packages/torch/nn/modules/module.py\u001b[0m in \u001b[0;36m_wrapped_call_impl\u001b[0;34m(self, *args, **kwargs)\u001b[0m\n\u001b[1;32m   1509\u001b[0m             \u001b[0;32mreturn\u001b[0m \u001b[0mself\u001b[0m\u001b[0;34m.\u001b[0m\u001b[0m_compiled_call_impl\u001b[0m\u001b[0;34m(\u001b[0m\u001b[0;34m*\u001b[0m\u001b[0margs\u001b[0m\u001b[0;34m,\u001b[0m \u001b[0;34m**\u001b[0m\u001b[0mkwargs\u001b[0m\u001b[0;34m)\u001b[0m  \u001b[0;31m# type: ignore[misc]\u001b[0m\u001b[0;34m\u001b[0m\u001b[0;34m\u001b[0m\u001b[0m\n\u001b[1;32m   1510\u001b[0m         \u001b[0;32melse\u001b[0m\u001b[0;34m:\u001b[0m\u001b[0;34m\u001b[0m\u001b[0;34m\u001b[0m\u001b[0m\n\u001b[0;32m-> 1511\u001b[0;31m             \u001b[0;32mreturn\u001b[0m \u001b[0mself\u001b[0m\u001b[0;34m.\u001b[0m\u001b[0m_call_impl\u001b[0m\u001b[0;34m(\u001b[0m\u001b[0;34m*\u001b[0m\u001b[0margs\u001b[0m\u001b[0;34m,\u001b[0m \u001b[0;34m**\u001b[0m\u001b[0mkwargs\u001b[0m\u001b[0;34m)\u001b[0m\u001b[0;34m\u001b[0m\u001b[0;34m\u001b[0m\u001b[0m\n\u001b[0m\u001b[1;32m   1512\u001b[0m \u001b[0;34m\u001b[0m\u001b[0m\n\u001b[1;32m   1513\u001b[0m     \u001b[0;32mdef\u001b[0m \u001b[0m_call_impl\u001b[0m\u001b[0;34m(\u001b[0m\u001b[0mself\u001b[0m\u001b[0;34m,\u001b[0m \u001b[0;34m*\u001b[0m\u001b[0margs\u001b[0m\u001b[0;34m,\u001b[0m \u001b[0;34m**\u001b[0m\u001b[0mkwargs\u001b[0m\u001b[0;34m)\u001b[0m\u001b[0;34m:\u001b[0m\u001b[0;34m\u001b[0m\u001b[0;34m\u001b[0m\u001b[0m\n",
            "\u001b[0;32m/usr/local/lib/python3.10/dist-packages/torch/nn/modules/module.py\u001b[0m in \u001b[0;36m_call_impl\u001b[0;34m(self, *args, **kwargs)\u001b[0m\n\u001b[1;32m   1518\u001b[0m                 \u001b[0;32mor\u001b[0m \u001b[0m_global_backward_pre_hooks\u001b[0m \u001b[0;32mor\u001b[0m \u001b[0m_global_backward_hooks\u001b[0m\u001b[0;34m\u001b[0m\u001b[0;34m\u001b[0m\u001b[0m\n\u001b[1;32m   1519\u001b[0m                 or _global_forward_hooks or _global_forward_pre_hooks):\n\u001b[0;32m-> 1520\u001b[0;31m             \u001b[0;32mreturn\u001b[0m \u001b[0mforward_call\u001b[0m\u001b[0;34m(\u001b[0m\u001b[0;34m*\u001b[0m\u001b[0margs\u001b[0m\u001b[0;34m,\u001b[0m \u001b[0;34m**\u001b[0m\u001b[0mkwargs\u001b[0m\u001b[0;34m)\u001b[0m\u001b[0;34m\u001b[0m\u001b[0;34m\u001b[0m\u001b[0m\n\u001b[0m\u001b[1;32m   1521\u001b[0m \u001b[0;34m\u001b[0m\u001b[0m\n\u001b[1;32m   1522\u001b[0m         \u001b[0;32mtry\u001b[0m\u001b[0;34m:\u001b[0m\u001b[0;34m\u001b[0m\u001b[0;34m\u001b[0m\u001b[0m\n",
            "\u001b[0;32m<ipython-input-7-1f071f22f335>\u001b[0m in \u001b[0;36mforward\u001b[0;34m(self, x)\u001b[0m\n\u001b[1;32m     41\u001b[0m             \u001b[0mstart\u001b[0m \u001b[0;34m=\u001b[0m \u001b[0mi\u001b[0m \u001b[0;34m*\u001b[0m \u001b[0mself\u001b[0m\u001b[0;34m.\u001b[0m\u001b[0mwindow_interval\u001b[0m\u001b[0;34m\u001b[0m\u001b[0;34m\u001b[0m\u001b[0m\n\u001b[1;32m     42\u001b[0m             \u001b[0mend\u001b[0m \u001b[0;34m=\u001b[0m \u001b[0mstart\u001b[0m \u001b[0;34m+\u001b[0m \u001b[0mself\u001b[0m\u001b[0;34m.\u001b[0m\u001b[0mwindow_size\u001b[0m\u001b[0;34m\u001b[0m\u001b[0;34m\u001b[0m\u001b[0m\n\u001b[0;32m---> 43\u001b[0;31m             \u001b[0mtemp\u001b[0m \u001b[0;34m=\u001b[0m \u001b[0mx\u001b[0m\u001b[0;34m[\u001b[0m\u001b[0;34m:\u001b[0m\u001b[0;34m,\u001b[0m \u001b[0;34m:\u001b[0m\u001b[0;34m,\u001b[0m \u001b[0;34m:\u001b[0m\u001b[0;34m,\u001b[0m \u001b[0mstart\u001b[0m\u001b[0;34m:\u001b[0m\u001b[0mend\u001b[0m\u001b[0;34m]\u001b[0m\u001b[0;34m\u001b[0m\u001b[0;34m\u001b[0m\u001b[0m\n\u001b[0m\u001b[1;32m     44\u001b[0m             \u001b[0mtemp\u001b[0m \u001b[0;34m=\u001b[0m \u001b[0mself\u001b[0m\u001b[0;34m.\u001b[0m\u001b[0mlayer1\u001b[0m\u001b[0;34m(\u001b[0m\u001b[0mtemp\u001b[0m\u001b[0;34m)\u001b[0m\u001b[0;34m\u001b[0m\u001b[0;34m\u001b[0m\u001b[0m\n\u001b[1;32m     45\u001b[0m             \u001b[0mtemp\u001b[0m \u001b[0;34m=\u001b[0m \u001b[0mself\u001b[0m\u001b[0;34m.\u001b[0m\u001b[0mlayer2\u001b[0m\u001b[0;34m(\u001b[0m\u001b[0mtemp\u001b[0m\u001b[0;34m)\u001b[0m\u001b[0;34m\u001b[0m\u001b[0;34m\u001b[0m\u001b[0m\n",
            "\u001b[0;31mIndexError\u001b[0m: too many indices for tensor of dimension 3"
          ]
        }
      ]
    },
    {
      "cell_type": "markdown",
      "metadata": {
        "id": "Q4xwhtMwUjCk"
      },
      "source": [
        "Which one of the training methods\\: `train_ebm_model()`, `train_gtn_model()` is faster? Why do you think so?\n",
        "\n",
        "Answer: #TODO"
      ]
    },
    {
      "cell_type": "code",
      "metadata": {
        "id": "cQY1ZDmoNdiB"
      },
      "source": [
        "energies = gtn_model(alphabet.unsqueeze(0).unsqueeze(0).cuda())\n",
        "targets = transform_word(string.ascii_lowercase)\n",
        "pm = build_path_matrix(energies, targets.unsqueeze(0))\n",
        "\n",
        "# TODO: Use the provided viterbi function to get score and path\n",
        "\n",
        "\n",
        "# path is obtained from the above TODO\n",
        "points = list(zip(range(energies.shape[1]), path))\n",
        "plot_pm(pm[0].detach(), points)\n",
        "print('energy is', score)"
      ],
      "execution_count": null,
      "outputs": []
    },
    {
      "cell_type": "code",
      "metadata": {
        "id": "E-RG9pe5Nnbj"
      },
      "source": [
        "img = sds.draw_text('hello')\n",
        "energies = gtn_model(img.cuda().unsqueeze(0).unsqueeze(0))\n",
        "plt.imshow(img)\n",
        "plot_energies(energies[0].detach().cpu())"
      ],
      "execution_count": null,
      "outputs": []
    },
    {
      "cell_type": "code",
      "metadata": {
        "id": "6fG-zPZvNqal"
      },
      "source": [
        "min_indices = energies[0].argmin(dim=-1)\n",
        "print(indices_to_str(min_indices))"
      ],
      "execution_count": null,
      "outputs": []
    },
    {
      "cell_type": "markdown",
      "metadata": {
        "id": "q45MsuUiXvag"
      },
      "source": [
        "## Part - 3\\: Train Model with no pretraining (Extra Credits)\n",
        "\n",
        "In part - 1 and part - 2, we have trained a model on single character first and then trained on multiple character sequence. Here, we will train a model using GTN directly on multiple character sequence.\n",
        "\n",
        "Additionally, we will experiment this on custom handwritten data."
      ]
    },
    {
      "cell_type": "code",
      "metadata": {
        "id": "gfS4HINi9wcX"
      },
      "source": [
        "#TODO"
      ],
      "execution_count": null,
      "outputs": []
    },
    {
      "cell_type": "markdown",
      "metadata": {
        "id": "USbbJ77ov8fH"
      },
      "source": [
        "Is the model with no pretraining (on single character) working? Why do you think so?\n",
        "\n",
        "Answer: #TODO"
      ]
    },
    {
      "cell_type": "markdown",
      "metadata": {
        "id": "Hn-LPfgUw9TA"
      },
      "source": [
        "(Experimental) Collect or get your own handwritten dataset and test the model on that."
      ]
    },
    {
      "cell_type": "code",
      "metadata": {
        "id": "kMOh95Ypw8JY"
      },
      "source": [
        "#TODO"
      ],
      "execution_count": null,
      "outputs": []
    },
    {
      "cell_type": "markdown",
      "metadata": {
        "id": "uPuIe_afxSqS"
      },
      "source": [
        "Visualize some images and their predictions given by the model."
      ]
    },
    {
      "cell_type": "code",
      "metadata": {
        "id": "wYj8h5o9xozd"
      },
      "source": [
        "#TODO"
      ],
      "execution_count": null,
      "outputs": []
    }
  ]
}