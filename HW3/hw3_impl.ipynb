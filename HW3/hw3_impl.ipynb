{
  "cells": [
    {
      "cell_type": "markdown",
      "metadata": {
        "id": "nQgfvQ4tT-ou"
      },
      "source": [
        "## Vision Transformer (ViT)\n",
        "\n",
        "In this assignment we're going to work with Vision Transformer. We will start to build our own vit model and train it on an image classification task.\n",
        "The purpose of this homework is for you to get familar with ViT and get prepared for the final project."
      ]
    },
    {
      "cell_type": "code",
      "execution_count": 1,
      "metadata": {
        "id": "nFR6WFmfxw43"
      },
      "outputs": [],
      "source": [
        "import math\n",
        "\n",
        "import torch\n",
        "import torch.nn as nn\n",
        "import torch.nn.functional as F\n",
        "from torchvision import datasets, transforms"
      ]
    },
    {
      "cell_type": "code",
      "execution_count": 2,
      "metadata": {
        "colab": {
          "base_uri": "https://localhost:8080/"
        },
        "id": "xGv2wu1MyAPC",
        "outputId": "81acfe9e-95bd-435d-9065-399d0915e8da"
      },
      "outputs": [
        {
          "output_type": "stream",
          "name": "stdout",
          "text": [
            "cuda\n"
          ]
        }
      ],
      "source": [
        "device = torch.device(\"cuda\" if torch.cuda.is_available() else \"cpu\")\n",
        "print(device)"
      ]
    },
    {
      "cell_type": "markdown",
      "metadata": {
        "id": "MmNi93C-4rLb"
      },
      "source": [
        "# VIT Implementation\n",
        "\n",
        "The vision transformer can be seperated into three parts, we will implement each part and combine them in the end.\n",
        "\n",
        "For the implementation, feel free to experiment different kinds of setup, as long as you use attention as the main computation unit and the ViT can be train to perform the image classification task present later.\n",
        "You can read about the ViT implement from other libary: https://github.com/huggingface/pytorch-image-models/blob/main/timm/models/vision_transformer.py and https://github.com/pytorch/vision/blob/main/torchvision/models/vision_transformer.py"
      ]
    },
    {
      "cell_type": "markdown",
      "metadata": {
        "id": "UNEtT9SQ4jgx"
      },
      "source": [
        "## PatchEmbedding\n",
        "PatchEmbedding is responsible for dividing the input image into non-overlapping patches and projecting them into a specified embedding dimension. It uses a 2D convolution layer with a kernel size and stride equal to the patch size. The output is a sequence of linear embeddings for each patch."
      ]
    },
    {
      "cell_type": "code",
      "execution_count": 3,
      "metadata": {
        "id": "rAzsdK5YybDa"
      },
      "outputs": [],
      "source": [
        "class PatchEmbedding(nn.Module):\n",
        "    def __init__(self, image_size, patch_size, in_channels, embed_dim):\n",
        "      # TODO\n",
        "      super(PatchEmbedding, self).__init__()\n",
        "      self.image_size = image_size\n",
        "      self.patch_size = patch_size\n",
        "      self.embed_dim = embed_dim\n",
        "      self.in_channels = in_channels\n",
        "      self.num_patches = (image_size // patch_size) ** 2\n",
        "      self.projection = nn.Conv2d(in_channels, embed_dim, kernel_size=patch_size, stride=patch_size)\n",
        "\n",
        "\n",
        "    def forward(self, x):\n",
        "      # TODO\n",
        "      x = self.projection(x)\n",
        "      x = x.flatten(2)\n",
        "      x = x.transpose(1, 2)\n",
        "      return x"
      ]
    },
    {
      "cell_type": "markdown",
      "metadata": {
        "id": "1mk8v66y6MAS"
      },
      "source": [
        "## MultiHeadSelfAttention\n",
        "\n",
        "This class implements the multi-head self-attention mechanism, which is a key component of the transformer architecture. It consists of multiple attention heads that independently compute scaled dot-product attention on the input embeddings. This allows the model to capture different aspects of the input at different positions. The attention outputs are concatenated and linearly transformed back to the original embedding size."
      ]
    },
    {
      "cell_type": "code",
      "execution_count": 4,
      "metadata": {
        "id": "V1LeAZq-0dQW"
      },
      "outputs": [],
      "source": [
        "class MultiHeadSelfAttention(nn.Module):\n",
        "    def __init__(self, embed_dim, num_heads):\n",
        "      super(MultiHeadSelfAttention, self).__init__()\n",
        "      self.embed_dim = embed_dim\n",
        "      self.num_heads = num_heads\n",
        "      self.head_dim = embed_dim // num_heads\n",
        "      self.scale = self.head_dim ** -0.5\n",
        "\n",
        "      self.query = nn.Linear(embed_dim, embed_dim)\n",
        "      self.key = nn.Linear(embed_dim, embed_dim)\n",
        "      self.value = nn.Linear(embed_dim, embed_dim)\n",
        "      self.out = nn.Linear(embed_dim, embed_dim)\n",
        "\n",
        "\n",
        "    def forward(self, x):\n",
        "      # TODO\n",
        "      B, N, C = x.shape\n",
        "      q = self.query(x)\n",
        "      k = self.key(x)\n",
        "      v = self.value(x)\n",
        "      q = q.reshape(B, N, self.num_heads, self.head_dim).permute(0, 2, 1, 3)\n",
        "      k = k.reshape(B, N, self.num_heads, self.head_dim).permute(0, 2, 1, 3)\n",
        "      v = v.reshape(B, N, self.num_heads, self.head_dim).permute(0, 2, 1, 3)\n",
        "      attention = (q @ k.transpose(-2, -1)) * self.scale\n",
        "      attention = F.softmax(attention, dim=-1)\n",
        "      x = (attention @ v).transpose(1, 2).reshape(B, N, C)\n",
        "      x = self.out(x)\n",
        "      return x\n",
        "\n",
        "\n",
        "\n",
        "\n"
      ]
    },
    {
      "cell_type": "markdown",
      "metadata": {
        "id": "NCAURJGJ6jhH"
      },
      "source": [
        "## TransformerBlock\n",
        "This class represents a single transformer layer. It includes a multi-head self-attention sublayer followed by a position-wise feed-forward network (MLP). Each sublayer is surrounded by residual connections.\n",
        "You may also want to use layer normalization or other type of normalization."
      ]
    },
    {
      "cell_type": "code",
      "execution_count": 5,
      "metadata": {
        "id": "0rT15Biv6igC"
      },
      "outputs": [],
      "source": [
        "class TransformerBlock(nn.Module):\n",
        "    def __init__(self, embed_dim, num_heads, mlp_dim, dropout):\n",
        "        super(TransformerBlock, self).__init__()\n",
        "        self.norm1 = nn.LayerNorm(embed_dim)\n",
        "        self.norm2 = nn.LayerNorm(embed_dim)\n",
        "        self.attention = MultiHeadSelfAttention(embed_dim, num_heads)\n",
        "        self.mlp = nn.Sequential(\n",
        "            nn.Linear(embed_dim, mlp_dim),\n",
        "            nn.GELU(),\n",
        "            nn.Dropout(dropout),\n",
        "            nn.Linear(mlp_dim, embed_dim),\n",
        "            nn.Dropout(dropout)\n",
        "        )\n",
        "        self.dropout = nn.Dropout(dropout)\n",
        "\n",
        "    def forward(self, x):\n",
        "        residual = x\n",
        "        x = self.norm1(x)\n",
        "        x = self.attention(x)\n",
        "        x = self.dropout(x)\n",
        "        x = x + residual\n",
        "        z = self.norm2(x)\n",
        "        x = self.mlp(z)\n",
        "        return x + z\n"
      ]
    },
    {
      "cell_type": "markdown",
      "metadata": {
        "id": "rgLfJRUm7EDq"
      },
      "source": [
        "## VisionTransformer:\n",
        "This is the main class that assembles the entire Vision Transformer architecture. It starts with the PatchEmbedding layer to create patch embeddings from the input image. A special class token is added to the sequence, and positional embeddings are added to both the patch and class tokens. The sequence of patch embeddings is then passed through multiple TransformerBlock layers. The final output is the logits for all classes"
      ]
    },
    {
      "cell_type": "code",
      "execution_count": 6,
      "metadata": {
        "id": "tgute9Ab0QP4"
      },
      "outputs": [],
      "source": [
        "class VisionTransformer(nn.Module):\n",
        "    def __init__(self, image_size, patch_size, in_channels, embed_dim, num_heads, mlp_dim, num_layers, num_classes, dropout=0.1):\n",
        "        # TODO\n",
        "        super(VisionTransformer, self).__init__()\n",
        "        self.patch_embed = PatchEmbedding(image_size, patch_size, in_channels, embed_dim)\n",
        "        self.pos_embed = nn.Parameter(torch.randn(1, self.patch_embed.num_patches + 1, embed_dim))\n",
        "        self.cls_token = nn.Parameter(torch.randn(1, 1, embed_dim))\n",
        "        self.dropout = nn.Dropout(dropout)\n",
        "        self.transformer = nn.ModuleList([TransformerBlock(embed_dim, num_heads, mlp_dim, dropout) for _ in range(num_layers)])\n",
        "        self.mlp_head = nn.Linear(embed_dim, num_classes)\n",
        "\n",
        "    def forward(self, x):\n",
        "        # TODO\n",
        "        batch_size = x.shape[0]\n",
        "        x = self.patch_embed(x)\n",
        "        cls_tokens = self.cls_token.expand(batch_size, -1, -1)\n",
        "        x = torch.cat((cls_tokens, x), dim=1)\n",
        "        x = x + self.pos_embed\n",
        "        x = self.dropout(x)\n",
        "        for blk in self.transformer:\n",
        "            x = blk(x)\n",
        "        x = x[:, 0]\n",
        "        x = self.mlp_head(x)\n",
        "        return x\n"
      ]
    },
    {
      "cell_type": "markdown",
      "metadata": {
        "id": "lROdKoO37Uqb"
      },
      "source": [
        "## Let's train the ViT!\n",
        "\n",
        "We will train the vit to do the image classification with cifar100. Free free to change the optimizer and or add other tricks to improve the training"
      ]
    },
    {
      "cell_type": "code",
      "execution_count": 7,
      "metadata": {
        "id": "byAC841ix_lb"
      },
      "outputs": [],
      "source": [
        "# Example usage:\n",
        "image_size = 64\n",
        "patch_size = 8\n",
        "in_channels = 3\n",
        "embed_dim = 256\n",
        "num_heads = 8\n",
        "mlp_dim = 512\n",
        "num_layers = 6\n",
        "num_classes = 100\n",
        "dropout = 0.01\n",
        "batch_size = 256\n"
      ]
    },
    {
      "cell_type": "code",
      "execution_count": 8,
      "metadata": {
        "colab": {
          "base_uri": "https://localhost:8080/"
        },
        "id": "1V14TFbM8x4l",
        "outputId": "7c7b5067-4fee-408d-8e2d-ee3d6b4d02e4"
      },
      "outputs": [
        {
          "output_type": "stream",
          "name": "stdout",
          "text": [
            "torch.Size([1, 100])\n"
          ]
        }
      ],
      "source": [
        "model = VisionTransformer(image_size, patch_size, in_channels, embed_dim, num_heads, mlp_dim, num_layers, num_classes, dropout).to(device)\n",
        "input_tensor = torch.randn(1, in_channels, image_size, image_size).to(device)\n",
        "output = model(input_tensor)\n",
        "print(output.shape)"
      ]
    },
    {
      "cell_type": "code",
      "execution_count": 9,
      "metadata": {
        "colab": {
          "base_uri": "https://localhost:8080/"
        },
        "id": "3BOp450mdC-D",
        "outputId": "3cfb9e4c-ff65-4fa9-c9be-07e68e0f346f"
      },
      "outputs": [
        {
          "output_type": "stream",
          "name": "stdout",
          "text": [
            "Downloading https://www.cs.toronto.edu/~kriz/cifar-100-python.tar.gz to ./data/cifar-100-python.tar.gz\n"
          ]
        },
        {
          "output_type": "stream",
          "name": "stderr",
          "text": [
            "100%|██████████| 169001437/169001437 [00:05<00:00, 29677288.59it/s]\n"
          ]
        },
        {
          "output_type": "stream",
          "name": "stdout",
          "text": [
            "Extracting ./data/cifar-100-python.tar.gz to ./data\n",
            "Files already downloaded and verified\n"
          ]
        }
      ],
      "source": [
        "# Load the CIFAR-100 dataset\n",
        "transform_train = transforms.Compose([\n",
        "    transforms.RandomCrop(32, padding=4),\n",
        "    transforms.Resize(image_size),\n",
        "    transforms.RandomHorizontalFlip(),\n",
        "    transforms.ToTensor(),\n",
        "    transforms.Normalize((0.4914, 0.4822, 0.4465), (0.2023, 0.1994, 0.2010)),\n",
        "])\n",
        "\n",
        "transform_test = transforms.Compose([\n",
        "    transforms.Resize(image_size),\n",
        "    transforms.ToTensor(),\n",
        "    transforms.Normalize((0.4914, 0.4822, 0.4465), (0.2023, 0.1994, 0.2010)),\n",
        "])\n",
        "\n",
        "trainset = datasets.CIFAR100(root='./data', train=True, download=True, transform=transform_train)\n",
        "testset = datasets.CIFAR100(root='./data', train=False, download=True, transform=transform_test)\n",
        "\n",
        "trainloader = torch.utils.data.DataLoader(trainset, batch_size=batch_size, shuffle=True, num_workers=2)\n",
        "testloader = torch.utils.data.DataLoader(testset, batch_size=batch_size, shuffle=False, num_workers=2)"
      ]
    },
    {
      "cell_type": "code",
      "execution_count": 10,
      "metadata": {
        "id": "4s8-X4l-exSg"
      },
      "outputs": [],
      "source": [
        "# Define the loss function and optimizer\n",
        "criterion = nn.CrossEntropyLoss()\n",
        "optimizer = torch.optim.Adam(model.parameters(), lr=0.001, weight_decay=1e-4)\n",
        "lr_scheduler = torch.optim.lr_scheduler.CosineAnnealingLR(optimizer, T_max=100)"
      ]
    },
    {
      "cell_type": "code",
      "execution_count": 11,
      "metadata": {
        "id": "eOyk345ve5HN",
        "colab": {
          "base_uri": "https://localhost:8080/"
        },
        "outputId": "1ca12278-0e61-4aee-c1ff-2acafc2584a9"
      },
      "outputs": [
        {
          "output_type": "stream",
          "name": "stdout",
          "text": [
            "Epoch: 1, Validation Accuracy: 14.56%\n",
            "Epoch: 2, Validation Accuracy: 22.89%\n",
            "Epoch: 3, Validation Accuracy: 28.26%\n",
            "Epoch: 4, Validation Accuracy: 30.75%\n",
            "Epoch: 5, Validation Accuracy: 35.59%\n",
            "Epoch: 6, Validation Accuracy: 38.15%\n",
            "Epoch: 7, Validation Accuracy: 41.31%\n",
            "Epoch: 8, Validation Accuracy: 42.35%\n",
            "Epoch: 9, Validation Accuracy: 44.97%\n",
            "Epoch: 10, Validation Accuracy: 45.47%\n",
            "Epoch: 11, Validation Accuracy: 47.41%\n",
            "Epoch: 12, Validation Accuracy: 47.74%\n",
            "Epoch: 13, Validation Accuracy: 49.09%\n",
            "Epoch: 14, Validation Accuracy: 50.69%\n",
            "Epoch: 15, Validation Accuracy: 51.23%\n",
            "Epoch: 16, Validation Accuracy: 51.30%\n",
            "Epoch: 17, Validation Accuracy: 51.00%\n",
            "Epoch: 18, Validation Accuracy: 51.99%\n",
            "Epoch: 19, Validation Accuracy: 51.84%\n",
            "Epoch: 20, Validation Accuracy: 51.87%\n",
            "Epoch: 21, Validation Accuracy: 51.93%\n",
            "Epoch: 22, Validation Accuracy: 51.71%\n",
            "Epoch: 23, Validation Accuracy: 51.51%\n",
            "Epoch: 24, Validation Accuracy: 51.52%\n",
            "Epoch: 25, Validation Accuracy: 52.27%\n",
            "Epoch: 26, Validation Accuracy: 52.30%\n",
            "Epoch: 27, Validation Accuracy: 53.22%\n",
            "Epoch: 28, Validation Accuracy: 52.76%\n",
            "Epoch: 29, Validation Accuracy: 52.85%\n",
            "Epoch: 30, Validation Accuracy: 52.58%\n",
            "Epoch: 31, Validation Accuracy: 52.11%\n",
            "Epoch: 32, Validation Accuracy: 52.26%\n",
            "Epoch: 33, Validation Accuracy: 52.58%\n",
            "Epoch: 34, Validation Accuracy: 53.10%\n",
            "Epoch: 35, Validation Accuracy: 53.41%\n",
            "Epoch: 36, Validation Accuracy: 52.61%\n",
            "Epoch: 37, Validation Accuracy: 53.34%\n",
            "Epoch: 38, Validation Accuracy: 53.15%\n",
            "Epoch: 39, Validation Accuracy: 53.46%\n",
            "Epoch: 40, Validation Accuracy: 53.75%\n",
            "Epoch: 41, Validation Accuracy: 53.15%\n",
            "Epoch: 42, Validation Accuracy: 53.44%\n",
            "Epoch: 43, Validation Accuracy: 53.52%\n",
            "Epoch: 44, Validation Accuracy: 53.57%\n",
            "Epoch: 45, Validation Accuracy: 53.65%\n",
            "Epoch: 46, Validation Accuracy: 52.87%\n",
            "Epoch: 47, Validation Accuracy: 53.26%\n",
            "Epoch: 48, Validation Accuracy: 53.72%\n",
            "Epoch: 49, Validation Accuracy: 53.45%\n",
            "Epoch: 50, Validation Accuracy: 54.54%\n",
            "Epoch: 51, Validation Accuracy: 53.86%\n",
            "Epoch: 52, Validation Accuracy: 54.31%\n",
            "Epoch: 53, Validation Accuracy: 54.99%\n",
            "Epoch: 54, Validation Accuracy: 54.46%\n",
            "Epoch: 55, Validation Accuracy: 53.98%\n",
            "Epoch: 56, Validation Accuracy: 54.79%\n",
            "Epoch: 57, Validation Accuracy: 54.82%\n",
            "Epoch: 58, Validation Accuracy: 54.72%\n",
            "Epoch: 59, Validation Accuracy: 55.53%\n",
            "Epoch: 60, Validation Accuracy: 54.78%\n",
            "Epoch: 61, Validation Accuracy: 55.36%\n",
            "Epoch: 62, Validation Accuracy: 55.19%\n",
            "Epoch: 63, Validation Accuracy: 54.93%\n",
            "Epoch: 64, Validation Accuracy: 54.73%\n",
            "Epoch: 65, Validation Accuracy: 55.34%\n",
            "Epoch: 66, Validation Accuracy: 55.39%\n",
            "Epoch: 67, Validation Accuracy: 55.48%\n",
            "Epoch: 68, Validation Accuracy: 56.18%\n",
            "Epoch: 69, Validation Accuracy: 56.08%\n",
            "Epoch: 70, Validation Accuracy: 55.74%\n",
            "Epoch: 71, Validation Accuracy: 55.80%\n",
            "Epoch: 72, Validation Accuracy: 55.93%\n",
            "Epoch: 73, Validation Accuracy: 56.16%\n",
            "Epoch: 74, Validation Accuracy: 56.12%\n",
            "Epoch: 75, Validation Accuracy: 56.18%\n",
            "Epoch: 76, Validation Accuracy: 56.01%\n",
            "Epoch: 77, Validation Accuracy: 56.09%\n",
            "Epoch: 78, Validation Accuracy: 56.32%\n",
            "Epoch: 79, Validation Accuracy: 56.77%\n",
            "Epoch: 80, Validation Accuracy: 56.88%\n",
            "Epoch: 81, Validation Accuracy: 56.35%\n",
            "Epoch: 82, Validation Accuracy: 56.61%\n",
            "Epoch: 83, Validation Accuracy: 56.75%\n",
            "Epoch: 84, Validation Accuracy: 56.78%\n",
            "Epoch: 85, Validation Accuracy: 56.74%\n",
            "Epoch: 86, Validation Accuracy: 57.17%\n",
            "Epoch: 87, Validation Accuracy: 57.12%\n",
            "Epoch: 88, Validation Accuracy: 57.32%\n",
            "Epoch: 89, Validation Accuracy: 57.11%\n",
            "Epoch: 90, Validation Accuracy: 57.26%\n",
            "Epoch: 91, Validation Accuracy: 57.01%\n",
            "Epoch: 92, Validation Accuracy: 57.05%\n",
            "Epoch: 93, Validation Accuracy: 57.15%\n",
            "Epoch: 94, Validation Accuracy: 57.16%\n",
            "Epoch: 95, Validation Accuracy: 57.06%\n",
            "Epoch: 96, Validation Accuracy: 57.00%\n",
            "Epoch: 97, Validation Accuracy: 57.13%\n",
            "Epoch: 98, Validation Accuracy: 57.16%\n",
            "Epoch: 99, Validation Accuracy: 57.16%\n",
            "Epoch: 100, Validation Accuracy: 57.14%\n"
          ]
        }
      ],
      "source": [
        "# Train the model\n",
        "num_epochs = 100\n",
        "best_val_acc = 0\n",
        "for epoch in range(num_epochs):\n",
        "    model.train()\n",
        "    for i, data in enumerate(trainloader, 0):\n",
        "        inputs, labels = data\n",
        "        inputs, labels = inputs.to(device), labels.to(device)\n",
        "\n",
        "        optimizer.zero_grad()\n",
        "\n",
        "        outputs = model(inputs)\n",
        "        loss = criterion(outputs, labels)\n",
        "        loss.backward()\n",
        "        optimizer.step()\n",
        "\n",
        "        # TODO Feel free to modify the training loop youself.\n",
        "    lr_scheduler.step()\n",
        "\n",
        "    # Validate the model\n",
        "    model.eval()\n",
        "    correct = 0\n",
        "    total = 0\n",
        "    with torch.no_grad():\n",
        "        for data in testloader:\n",
        "            images, labels = data\n",
        "            images, labels = images.to(device), labels.to(device)\n",
        "            outputs = model(images)\n",
        "            _, predicted = torch.max(outputs.data, 1)\n",
        "            total += labels.size(0)\n",
        "            correct += (predicted == labels).sum().item()\n",
        "    val_acc = 100 * correct / total\n",
        "    print(f\"Epoch: {epoch + 1}, Validation Accuracy: {val_acc:.2f}%\")\n",
        "\n",
        "    # Save the best model\n",
        "    if val_acc > best_val_acc:\n",
        "        best_val_acc = val_acc\n",
        "        torch.save(model.state_dict(), \"best_model.pth\")"
      ]
    },
    {
      "cell_type": "markdown",
      "metadata": {
        "id": "-AfNVj1U9xhk"
      },
      "source": [
        "Please submit your best_model.pth with this notebook. And report the best test results you get."
      ]
    },
    {
      "cell_type": "code",
      "source": [
        "print(\"best_val_acc:\",best_val_acc)"
      ],
      "metadata": {
        "colab": {
          "base_uri": "https://localhost:8080/"
        },
        "id": "w0D9Eixy6_xy",
        "outputId": "b7959109-173b-412d-a155-72be32f4e423"
      },
      "execution_count": 12,
      "outputs": [
        {
          "output_type": "stream",
          "name": "stdout",
          "text": [
            "best_val_acc: 57.32\n"
          ]
        }
      ]
    },
    {
      "cell_type": "code",
      "source": [
        "from google.colab import drive\n",
        "drive.mount('/content/drive')\n",
        "torch.save(model.state_dict(), \"/content/drive/My Drive/best_model.pth\")\n"
      ],
      "metadata": {
        "colab": {
          "base_uri": "https://localhost:8080/"
        },
        "id": "UByb0kUnF1-H",
        "outputId": "d3d9eb4e-3301-48c5-b15b-e185e96ea8d7"
      },
      "execution_count": 13,
      "outputs": [
        {
          "output_type": "stream",
          "name": "stdout",
          "text": [
            "Mounted at /content/drive\n"
          ]
        }
      ]
    }
  ],
  "metadata": {
    "accelerator": "GPU",
    "colab": {
      "gpuType": "T4",
      "provenance": []
    },
    "kernelspec": {
      "display_name": "Python 3",
      "name": "python3"
    },
    "language_info": {
      "name": "python"
    }
  },
  "nbformat": 4,
  "nbformat_minor": 0
}